{
 "cells": [
  {
   "cell_type": "code",
   "execution_count": 1,
   "metadata": {},
   "outputs": [],
   "source": [
    "import torch\n",
    "from torch.autograd import Variable\n",
    "from torch import nn \n",
    "from torch import optim"
   ]
  },
  {
   "cell_type": "code",
   "execution_count": 2,
   "metadata": {},
   "outputs": [
    {
     "name": "stdout",
     "output_type": "stream",
     "text": [
      "tensor([[[0.6051, 0.6871, 0.6270, 0.7313, 0.7199],\n",
      "         [0.1529, 0.1359, 0.9013, 0.0631, 0.6875],\n",
      "         [0.2822, 0.9147, 0.2215, 0.2430, 0.3223],\n",
      "         [0.7669, 0.2701, 0.6592, 0.7902, 0.0863]],\n",
      "\n",
      "        [[0.4952, 0.5686, 0.6930, 0.8499, 0.1454],\n",
      "         [0.4879, 0.3191, 0.8366, 0.8805, 0.9314],\n",
      "         [0.2519, 0.5452, 0.5569, 0.7359, 0.3851],\n",
      "         [0.8758, 0.5690, 0.1309, 0.0120, 0.1764]],\n",
      "\n",
      "        [[0.6206, 0.8274, 0.1681, 0.8322, 0.2652],\n",
      "         [0.1417, 0.7944, 0.1361, 0.6436, 0.5532],\n",
      "         [0.8044, 0.3842, 0.4460, 0.5042, 0.1085],\n",
      "         [0.4967, 0.6089, 0.7574, 0.2112, 0.4210]]])\n"
     ]
    }
   ],
   "source": [
    "# Создайте случайный FloatTensor размера 3x4x5\n",
    "tensor = torch.rand(3, 4, 5).type(torch.float32)\n",
    "\n",
    "print(tensor)"
   ]
  },
  {
   "cell_type": "code",
   "execution_count": 3,
   "metadata": {},
   "outputs": [
    {
     "data": {
      "text/plain": [
       "torch.Size([3, 4, 5])"
      ]
     },
     "execution_count": 3,
     "metadata": {},
     "output_type": "execute_result"
    }
   ],
   "source": [
    "# Выведите его форму (shape)\n",
    "tensor.shape"
   ]
  },
  {
   "cell_type": "code",
   "execution_count": 4,
   "metadata": {},
   "outputs": [
    {
     "name": "stdout",
     "output_type": "stream",
     "text": [
      "tensor([[0.6051, 0.6871, 0.6270, 0.7313, 0.7199, 0.1529, 0.1359, 0.9013, 0.0631,\n",
      "         0.6875],\n",
      "        [0.2822, 0.9147, 0.2215, 0.2430, 0.3223, 0.7669, 0.2701, 0.6592, 0.7902,\n",
      "         0.0863],\n",
      "        [0.4952, 0.5686, 0.6930, 0.8499, 0.1454, 0.4879, 0.3191, 0.8366, 0.8805,\n",
      "         0.9314],\n",
      "        [0.2519, 0.5452, 0.5569, 0.7359, 0.3851, 0.8758, 0.5690, 0.1309, 0.0120,\n",
      "         0.1764],\n",
      "        [0.6206, 0.8274, 0.1681, 0.8322, 0.2652, 0.1417, 0.7944, 0.1361, 0.6436,\n",
      "         0.5532],\n",
      "        [0.8044, 0.3842, 0.4460, 0.5042, 0.1085, 0.4967, 0.6089, 0.7574, 0.2112,\n",
      "         0.4210]])\n"
     ]
    }
   ],
   "source": [
    "# Приведите его к форме 6 X 10\n",
    "print(tensor.view(6, 10))"
   ]
  },
  {
   "cell_type": "code",
   "execution_count": 5,
   "metadata": {},
   "outputs": [
    {
     "data": {
      "text/plain": [
       "tensor([[[0.6051, 2.7484, 1.2540, 1.4626, 0.7199],\n",
       "         [0.1529, 0.5437, 1.8027, 0.1261, 0.6875],\n",
       "         [0.2822, 3.6589, 0.4431, 0.4860, 0.3223],\n",
       "         [0.7669, 1.0803, 1.3184, 1.5805, 0.0863]],\n",
       "\n",
       "        [[0.4952, 2.2743, 1.3861, 1.6998, 0.1454],\n",
       "         [0.4879, 1.2763, 1.6732, 1.7611, 0.9314],\n",
       "         [0.2519, 2.1809, 1.1137, 1.4719, 0.3851],\n",
       "         [0.8758, 2.2758, 0.2618, 0.0241, 0.1764]],\n",
       "\n",
       "        [[0.6206, 3.3098, 0.3363, 1.6644, 0.2652],\n",
       "         [0.1417, 3.1776, 0.2722, 1.2871, 0.5532],\n",
       "         [0.8044, 1.5368, 0.8919, 1.0084, 0.1085],\n",
       "         [0.4967, 2.4356, 1.5148, 0.4224, 0.4210]]], dtype=torch.float64)"
      ]
     },
     "execution_count": 5,
     "metadata": {},
     "output_type": "execute_result"
    }
   ],
   "source": [
    "# Умножьте его на вектор [1, 4, 2, 2, 1] поэлементно\n",
    "tensor * torch.DoubleTensor([1, 4, 2, 2, 1])"
   ]
  },
  {
   "cell_type": "code",
   "execution_count": 6,
   "metadata": {},
   "outputs": [
    {
     "name": "stdout",
     "output_type": "stream",
     "text": [
      "tensor([[3.6154, 2.2053, 3.4190, 2.1430, 2.5222, 2.6213],\n",
      "        [2.2053, 2.8560, 2.8549, 1.9325, 2.2262, 2.0826],\n",
      "        [3.4190, 2.8549, 4.4750, 2.3954, 3.1586, 3.0185],\n",
      "        [2.1430, 1.9325, 2.3954, 2.4999, 2.1149, 2.0307],\n",
      "        [2.5222, 2.2262, 3.1586, 2.1149, 3.2508, 2.3664],\n",
      "        [2.6213, 2.0826, 3.0185, 2.0307, 2.3664, 2.6724]])\n"
     ]
    }
   ],
   "source": [
    "# Умножьте тензор матрично на себя, чтобы результат был размерности 6x6\n",
    "tensor_6_10 = tensor.view(6, 10)\n",
    "tensor_6_10_T = torch.transpose(tensor_6_10, 1, 0)\n",
    "\n",
    "result = torch.matmul(tensor_6_10, tensor_6_10_T)\n",
    "\n",
    "print(result)\n",
    "\n"
   ]
  },
  {
   "cell_type": "code",
   "execution_count": 7,
   "metadata": {},
   "outputs": [
    {
     "data": {
      "text/plain": [
       "(tensor([3.]), tensor([1.]), tensor([-75.]))"
      ]
     },
     "execution_count": 7,
     "metadata": {},
     "output_type": "execute_result"
    }
   ],
   "source": [
    "# Посчитайте производную функции y = x**3 + z - 75t в точке (1, 0.5, 2)\n",
    "\n",
    "\n",
    "x = Variable(torch.FloatTensor([1]),   requires_grad = True)\n",
    "z = Variable(torch.FloatTensor([0.5]), requires_grad = True)\n",
    "t = Variable(torch.FloatTensor([2]),   requires_grad = True)\n",
    "\n",
    "y = x**3 + z -75*t\n",
    "\n",
    "y.backward([x, z, t])\n",
    "\n",
    "(x.grad, z.grad, t.grad)\n",
    "\n"
   ]
  },
  {
   "cell_type": "code",
   "execution_count": 8,
   "metadata": {},
   "outputs": [
    {
     "name": "stdout",
     "output_type": "stream",
     "text": [
      "tensor([[1., 1., 1., 1., 1., 1.],\n",
      "        [1., 1., 1., 1., 1., 1.],\n",
      "        [1., 1., 1., 1., 1., 1.],\n",
      "        [1., 1., 1., 1., 1., 1.],\n",
      "        [1., 1., 1., 1., 1., 1.]])\n"
     ]
    }
   ],
   "source": [
    "# Создайте единичный тензор размера 5x6\n",
    "ones_tensor = torch.ones((5, 6))\n",
    "print(ones_tensor)"
   ]
  },
  {
   "cell_type": "code",
   "execution_count": 9,
   "metadata": {},
   "outputs": [
    {
     "name": "stdout",
     "output_type": "stream",
     "text": [
      "[[1. 1. 1. 1. 1. 1.]\n",
      " [1. 1. 1. 1. 1. 1.]\n",
      " [1. 1. 1. 1. 1. 1.]\n",
      " [1. 1. 1. 1. 1. 1.]\n",
      " [1. 1. 1. 1. 1. 1.]]\n"
     ]
    }
   ],
   "source": [
    "# Переведите его в формат numpy\n",
    "print(ones_tensor.numpy())"
   ]
  },
  {
   "cell_type": "code",
   "execution_count": 10,
   "metadata": {},
   "outputs": [],
   "source": [
    "# Давайте теперь пооптимизируем: возьмите функцию y = x**w1 - 2 * x**2 + 5\n",
    "# Посчитайте "
   ]
  }
 ],
 "metadata": {
  "kernelspec": {
   "display_name": "Python 3",
   "language": "python",
   "name": "python3"
  },
  "language_info": {
   "codemirror_mode": {
    "name": "ipython",
    "version": 3
   },
   "file_extension": ".py",
   "mimetype": "text/x-python",
   "name": "python",
   "nbconvert_exporter": "python",
   "pygments_lexer": "ipython3",
   "version": "3.8.10"
  }
 },
 "nbformat": 4,
 "nbformat_minor": 2
}
