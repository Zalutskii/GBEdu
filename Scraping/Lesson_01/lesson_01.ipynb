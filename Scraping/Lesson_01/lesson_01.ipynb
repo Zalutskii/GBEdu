{
 "cells": [
  {
   "cell_type": "markdown",
   "metadata": {},
   "source": [
    "## Основы клиент-серверного взаимодействия. Парсинг API"
   ]
  },
  {
   "cell_type": "markdown",
   "metadata": {},
   "source": [
    "1. Посмотреть документацию к API GitHub, разобраться как вывести список репозиториев для конкретного пользователя, сохранить JSON-вывод в файле *.json."
   ]
  },
  {
   "cell_type": "code",
   "execution_count": 3,
   "metadata": {},
   "outputs": [],
   "source": [
    "import requests\n",
    "import json"
   ]
  },
  {
   "cell_type": "code",
   "execution_count": 4,
   "metadata": {},
   "outputs": [],
   "source": [
    "url = 'https://api.github.com'\n",
    "user='Zalutskii'"
   ]
  },
  {
   "cell_type": "code",
   "execution_count": 5,
   "metadata": {},
   "outputs": [],
   "source": [
    "r = requests.get(f'{url}/users/{user}/repos')"
   ]
  },
  {
   "cell_type": "code",
   "execution_count": 6,
   "metadata": {},
   "outputs": [],
   "source": [
    "with open('data.json', 'w') as f:\n",
    "    json.dump(r.json(), f)"
   ]
  },
  {
   "cell_type": "code",
   "execution_count": 7,
   "metadata": {},
   "outputs": [
    {
     "output_type": "stream",
     "name": "stdout",
     "text": [
      "BosqueLanguage\nComPortTestApplication\nGBEdu\nImplementation-OPC-DA-on-.NET-Core\nreactive\nReactive-Extensions-event-generator\nReactive_Extensions_for_StockSharp\nStockSharp\nwpf\n"
     ]
    }
   ],
   "source": [
    "for i in r.json():\n",
    "    print(i['name'])"
   ]
  },
  {
   "cell_type": "markdown",
   "metadata": {},
   "source": [
    "2. Изучить список открытых API. Найти среди них любое, требующее авторизацию (любого типа). Выполнить запросы к нему, пройдя авторизацию. Ответ сервера записать в файл."
   ]
  },
  {
   "cell_type": "code",
   "execution_count": 35,
   "metadata": {},
   "outputs": [],
   "source": [
    "url = 'https://cloud-api.yandex.net/v1/'\n",
    "token = 'AQAAAAABMDKnAAcgxLMvV3KM2E4znus9DEOC4sA'"
   ]
  },
  {
   "cell_type": "code",
   "execution_count": 36,
   "metadata": {},
   "outputs": [],
   "source": [
    "headers = {\n",
    "    'Content-Type': 'application/json', \\\n",
    "    'Authorization': token\n",
    "}"
   ]
  },
  {
   "cell_type": "code",
   "execution_count": 37,
   "metadata": {},
   "outputs": [],
   "source": [
    "disk_info = 'disk'\n",
    "folder_info = 'disk/resources'"
   ]
  },
  {
   "cell_type": "code",
   "execution_count": 41,
   "metadata": {},
   "outputs": [
    {
     "output_type": "execute_result",
     "data": {
      "text/plain": [
       "{'max_file_size': 53687091200,\n",
       " 'unlimited_autoupload_enabled': True,\n",
       " 'total_space': 111669149696,\n",
       " 'trash_size': 2548134429,\n",
       " 'is_paid': False,\n",
       " 'used_space': 74896983639,\n",
       " 'system_folders': {'odnoklassniki': 'disk:/Социальные сети/Одноклассники',\n",
       "  'google': 'disk:/Социальные сети/Google+',\n",
       "  'instagram': 'disk:/Социальные сети/Instagram',\n",
       "  'vkontakte': 'disk:/Социальные сети/ВКонтакте',\n",
       "  'mailru': 'disk:/Социальные сети/Мой Мир',\n",
       "  'downloads': 'disk:/Загрузки/',\n",
       "  'applications': 'disk:/Приложения',\n",
       "  'facebook': 'disk:/Социальные сети/Facebook',\n",
       "  'social': 'disk:/Социальные сети/',\n",
       "  'screenshots': 'disk:/Скриншоты/',\n",
       "  'photostream': 'disk:/Фотокамера/'},\n",
       " 'user': {'country': 'ru',\n",
       "  'login': 'MozGangster',\n",
       "  'display_name': 'MozGangster',\n",
       "  'uid': '19935911'},\n",
       " 'revision': 1621341964435512}"
      ]
     },
     "metadata": {},
     "execution_count": 41
    }
   ],
   "source": [
    "disk = requests.get(f'{url}{disk_info}', headers = headers)\n",
    "disk.json()"
   ]
  },
  {
   "cell_type": "code",
   "execution_count": 42,
   "metadata": {},
   "outputs": [],
   "source": [
    "disk = requests.get(f'{url}{folder_info}?path=app:/', headers = headers)"
   ]
  },
  {
   "cell_type": "code",
   "execution_count": 43,
   "metadata": {},
   "outputs": [],
   "source": [
    "# Названия файлов в папке\n",
    "\n",
    "for i in disk.json()['_embedded']['items']:\n",
    "    print(i['name'])"
   ]
  },
  {
   "cell_type": "code",
   "execution_count": 44,
   "metadata": {},
   "outputs": [],
   "source": [
    "with open('disk.json', 'w') as f:\n",
    "    json.dump(disk.json(), f)"
   ]
  }
 ],
 "metadata": {
  "kernelspec": {
   "name": "python385jvsc74a57bd0b3ba2566441a7c06988d0923437866b63cedc61552a5af99d1f4fb67d367b25f",
   "display_name": "Python 3.8.5 64-bit (conda)"
  },
  "language_info": {
   "codemirror_mode": {
    "name": "ipython",
    "version": 3
   },
   "file_extension": ".py",
   "mimetype": "text/x-python",
   "name": "python",
   "nbconvert_exporter": "python",
   "pygments_lexer": "ipython3",
   "version": "3.8.5"
  }
 },
 "nbformat": 4,
 "nbformat_minor": 4
}