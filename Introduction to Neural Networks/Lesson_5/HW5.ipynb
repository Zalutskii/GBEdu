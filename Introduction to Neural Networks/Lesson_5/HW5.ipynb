{
  "cells": [
    {
      "cell_type": "markdown",
      "metadata": {
        "id": "LKyi9YU-v74f"
      },
      "source": [
        "Попробуйте обучить нейронную сеть LSTM на любом другом датасете (любимый временной ряд, текст на русском (другом языке) как генератор или классификатор, или прилагаемый набор airline-passengers - пасажиропоток для авиалиний). Опишите, какой результата вы получили? Что помогло вам улучшить ее точность?"
      ]
    },
    {
      "cell_type": "code",
      "execution_count": 1385,
      "metadata": {
        "id": "sQCaYV2WxMMK"
      },
      "outputs": [],
      "source": [
        "import numpy as np\n",
        "import pandas as pd\n",
        "\n",
        "import matplotlib.pyplot as plt\n",
        "\n",
        "from tensorflow.keras.models import Sequential\n",
        "from tensorflow.keras.layers import Dense, LSTM\n",
        "from sklearn.preprocessing import MinMaxScaler"
      ]
    },
    {
      "cell_type": "code",
      "execution_count": 1386,
      "metadata": {
        "colab": {
          "base_uri": "https://localhost:8080/",
          "height": 206
        },
        "id": "Ym5u0MnPwEwi",
        "outputId": "91effcf1-ca12-41f1-94d1-90db9e4d5517"
      },
      "outputs": [
        {
          "data": {
            "text/html": [
              "<div>\n",
              "<style scoped>\n",
              "    .dataframe tbody tr th:only-of-type {\n",
              "        vertical-align: middle;\n",
              "    }\n",
              "\n",
              "    .dataframe tbody tr th {\n",
              "        vertical-align: top;\n",
              "    }\n",
              "\n",
              "    .dataframe thead th {\n",
              "        text-align: right;\n",
              "    }\n",
              "</style>\n",
              "<table border=\"1\" class=\"dataframe\">\n",
              "  <thead>\n",
              "    <tr style=\"text-align: right;\">\n",
              "      <th></th>\n",
              "      <th>Month</th>\n",
              "      <th>Passengers</th>\n",
              "    </tr>\n",
              "  </thead>\n",
              "  <tbody>\n",
              "    <tr>\n",
              "      <th>0</th>\n",
              "      <td>1949-01</td>\n",
              "      <td>112</td>\n",
              "    </tr>\n",
              "    <tr>\n",
              "      <th>1</th>\n",
              "      <td>1949-02</td>\n",
              "      <td>118</td>\n",
              "    </tr>\n",
              "    <tr>\n",
              "      <th>2</th>\n",
              "      <td>1949-03</td>\n",
              "      <td>132</td>\n",
              "    </tr>\n",
              "    <tr>\n",
              "      <th>3</th>\n",
              "      <td>1949-04</td>\n",
              "      <td>129</td>\n",
              "    </tr>\n",
              "    <tr>\n",
              "      <th>4</th>\n",
              "      <td>1949-05</td>\n",
              "      <td>121</td>\n",
              "    </tr>\n",
              "  </tbody>\n",
              "</table>\n",
              "</div>"
            ],
            "text/plain": [
              "     Month  Passengers\n",
              "0  1949-01         112\n",
              "1  1949-02         118\n",
              "2  1949-03         132\n",
              "3  1949-04         129\n",
              "4  1949-05         121"
            ]
          },
          "execution_count": 1386,
          "metadata": {},
          "output_type": "execute_result"
        }
      ],
      "source": [
        "passengers_data = pd.read_csv(\"airline-passengers.csv\")\n",
        "passengers_data.head()"
      ]
    },
    {
      "cell_type": "code",
      "execution_count": 1387,
      "metadata": {
        "colab": {
          "base_uri": "https://localhost:8080/",
          "height": 283
        },
        "id": "mQ8SmiYhwEzk",
        "outputId": "8d5b8ba9-51e3-4bc4-e76e-d8bcf6da86a4"
      },
      "outputs": [
        {
          "data": {
            "text/plain": [
              "[<matplotlib.lines.Line2D at 0x7f8d18ec7b80>]"
            ]
          },
          "execution_count": 1387,
          "metadata": {},
          "output_type": "execute_result"
        },
        {
          "data": {
            "image/png": "[encoded data removed]",
            "text/plain": [
              "<Figure size 432x288 with 1 Axes>"
            ]
          },
          "metadata": {
            "needs_background": "light"
          },
          "output_type": "display_data"
        }
      ],
      "source": [
        "plt.plot(passengers_data['Passengers'])"
      ]
    },
    {
      "cell_type": "code",
      "execution_count": 1388,
      "metadata": {
        "colab": {
          "base_uri": "https://localhost:8080/"
        },
        "id": "hYbswpywDaag",
        "outputId": "1a42c305-ee0b-4436-c4b2-bc477be4cb6f"
      },
      "outputs": [
        {
          "data": {
            "text/plain": [
              "(144, 1)"
            ]
          },
          "execution_count": 1388,
          "metadata": {},
          "output_type": "execute_result"
        }
      ],
      "source": [
        "dataset = passengers_data.iloc[:,1].values\n",
        "dataset = dataset.reshape(-1,1)\n",
        "dataset = dataset.astype('float32')\n",
        "dataset.shape"
      ]
    },
    {
      "cell_type": "code",
      "execution_count": 1389,
      "metadata": {
        "colab": {
          "base_uri": "https://localhost:8080/"
        },
        "id": "hFPMZybGwE2c",
        "outputId": "46b19822-ccda-4da5-a8c8-f15b3e393d73"
      },
      "outputs": [],
      "source": [
        "scaler = MinMaxScaler(feature_range=(0,1))\n",
        "dataset = scaler.fit_transform(dataset)"
      ]
    },
    {
      "cell_type": "code",
      "execution_count": 1390,
      "metadata": {
        "colab": {
          "base_uri": "https://localhost:8080/"
        },
        "id": "9UzJ8vY5DktW",
        "outputId": "f477e862-840e-43ed-a7e0-42b97126e278"
      },
      "outputs": [
        {
          "data": {
            "text/plain": [
              "(72, 1)"
            ]
          },
          "execution_count": 1390,
          "metadata": {},
          "output_type": "execute_result"
        }
      ],
      "source": [
        "train_size = int(len(dataset)*0.50)\n",
        "test_size = len(dataset) - train_size\n",
        "train = dataset[0:train_size,:]\n",
        "test = dataset[train_size:len(dataset),:]\n",
        "train.shape\n",
        "test.shape"
      ]
    },
    {
      "cell_type": "code",
      "execution_count": 1391,
      "metadata": {
        "id": "eHk6WqogDkzF"
      },
      "outputs": [],
      "source": [
        "def get_data(data , lag = 10, delay = 0, next_steps = 1):\n",
        "    \"\"\" Here slices for windowing are created \"\"\"\n",
        "\n",
        "    np_data = np.array(data)  # Convert to the numpy array for slicing data\n",
        "    N = np_data.shape[0] # Total number of samples\n",
        "    k = N - (lag + delay + next_steps)\n",
        "\n",
        "    # Create Input and output Slice\n",
        "    in_slice = np.array([range(i, i + lag) for i in range(k)])\n",
        "    op_slice = np.array([range(i + lag + delay, i + lag + delay + next_steps) for i in range(k)])\n",
        "\n",
        "    return np_data[in_slice,:], np_data[op_slice,:]"
      ]
    },
    {
      "cell_type": "code",
      "execution_count": 1392,
      "metadata": {
        "id": "hb6mUhwMDk14"
      },
      "outputs": [],
      "source": [
        "X_train, y_train = get_data(train, 5)\n",
        "X_test, y_test = get_data(test, 5)"
      ]
    },
    {
      "cell_type": "code",
      "execution_count": 1393,
      "metadata": {
        "id": "A5oAcBARwE5C"
      },
      "outputs": [],
      "source": [
        "X_train = X_train.reshape(X_train.shape[0], X_train.shape[1], 1)\n",
        "X_test = X_test.reshape(X_test.shape[0], X_test.shape[1], 1)"
      ]
    },
    {
      "cell_type": "code",
      "execution_count": 1394,
      "metadata": {
        "colab": {
          "base_uri": "https://localhost:8080/"
        },
        "id": "wKPcFfr9wE7w",
        "outputId": "c9f2b0d5-09b5-4c54-e4a0-4e93fcae1cd7"
      },
      "outputs": [
        {
          "data": {
            "text/plain": [
              "(66, 5, 1)"
            ]
          },
          "execution_count": 1394,
          "metadata": {},
          "output_type": "execute_result"
        }
      ],
      "source": [
        "X_train.shape"
      ]
    },
    {
      "cell_type": "code",
      "execution_count": 1395,
      "metadata": {},
      "outputs": [
        {
          "data": {
            "text/plain": [
              "(66, 5, 1)"
            ]
          },
          "execution_count": 1395,
          "metadata": {},
          "output_type": "execute_result"
        }
      ],
      "source": [
        "X_test.shape"
      ]
    },
    {
      "cell_type": "code",
      "execution_count": 1396,
      "metadata": {
        "id": "mXB0ADQwwE-D"
      },
      "outputs": [],
      "source": [
        "model = Sequential()\n",
        "model.add(LSTM(2, input_shape = (X_train.shape[1], X_train.shape[2])))\n",
        "model.add(Dense(1))\n",
        "model.compile(loss=\"mse\", optimizer=\"adam\", metrics=['mae'])"
      ]
    },
    {
      "cell_type": "code",
      "execution_count": 1397,
      "metadata": {
        "colab": {
          "base_uri": "https://localhost:8080/"
        },
        "id": "uLFqly0nEHl_",
        "outputId": "4f398adc-50fd-4a19-ccfc-2d5031badcee"
      },
      "outputs": [
        {
          "name": "stdout",
          "output_type": "stream",
          "text": [
            "Model: \"sequential_81\"\n",
            "_________________________________________________________________\n",
            " Layer (type)                Output Shape              Param #   \n",
            "=================================================================\n",
            " lstm_97 (LSTM)              (None, 2)                 32        \n",
            "                                                                 \n",
            " dense_79 (Dense)            (None, 1)                 3         \n",
            "                                                                 \n",
            "=================================================================\n",
            "Total params: 35\n",
            "Trainable params: 35\n",
            "Non-trainable params: 0\n",
            "_________________________________________________________________\n"
          ]
        }
      ],
      "source": [
        "model.summary()"
      ]
    },
    {
      "cell_type": "code",
      "execution_count": 1398,
      "metadata": {
        "colab": {
          "base_uri": "https://localhost:8080/"
        },
        "id": "KltWESsdEHoo",
        "outputId": "d72a5202-df06-422d-f6d6-7dfb88dce98b"
      },
      "outputs": [
        {
          "name": "stdout",
          "output_type": "stream",
          "text": [
            "Epoch 1/300\n",
            "7/7 [==============================] - 1s 6ms/step - loss: 0.0039 - mae: 0.0511\n",
            "Epoch 2/300\n",
            "7/7 [==============================] - 0s 6ms/step - loss: 0.0029 - mae: 0.0426\n",
            "Epoch 3/300\n",
            "7/7 [==============================] - 0s 7ms/step - loss: 0.0026 - mae: 0.0400\n",
            "Epoch 4/300\n",
            "7/7 [==============================] - 0s 6ms/step - loss: 0.0026 - mae: 0.0404\n",
            "Epoch 5/300\n",
            "7/7 [==============================] - 0s 6ms/step - loss: 0.0026 - mae: 0.0410\n",
            "Epoch 6/300\n",
            "7/7 [==============================] - 0s 6ms/step - loss: 0.0026 - mae: 0.0406\n",
            "Epoch 7/300\n",
            "7/7 [==============================] - 0s 6ms/step - loss: 0.0026 - mae: 0.0401\n",
            "Epoch 8/300\n",
            "7/7 [==============================] - 0s 6ms/step - loss: 0.0026 - mae: 0.0398\n",
            "Epoch 9/300\n",
            "7/7 [==============================] - 0s 6ms/step - loss: 0.0026 - mae: 0.0398\n",
            "Epoch 10/300\n",
            "7/7 [==============================] - 0s 6ms/step - loss: 0.0025 - mae: 0.0397\n",
            "Epoch 11/300\n",
            "7/7 [==============================] - 0s 5ms/step - loss: 0.0026 - mae: 0.0399\n",
            "Epoch 12/300\n",
            "7/7 [==============================] - 0s 6ms/step - loss: 0.0025 - mae: 0.0398\n",
            "Epoch 13/300\n",
            "7/7 [==============================] - 0s 6ms/step - loss: 0.0025 - mae: 0.0397\n",
            "Epoch 14/300\n",
            "7/7 [==============================] - 0s 6ms/step - loss: 0.0025 - mae: 0.0397\n",
            "Epoch 15/300\n",
            "7/7 [==============================] - 0s 6ms/step - loss: 0.0026 - mae: 0.0401\n",
            "Epoch 16/300\n",
            "7/7 [==============================] - 0s 6ms/step - loss: 0.0025 - mae: 0.0399\n",
            "Epoch 17/300\n",
            "7/7 [==============================] - 0s 6ms/step - loss: 0.0025 - mae: 0.0397\n",
            "Epoch 18/300\n",
            "7/7 [==============================] - 0s 6ms/step - loss: 0.0025 - mae: 0.0397\n",
            "Epoch 19/300\n",
            "7/7 [==============================] - 0s 6ms/step - loss: 0.0025 - mae: 0.0398\n",
            "Epoch 20/300\n",
            "7/7 [==============================] - 0s 6ms/step - loss: 0.0025 - mae: 0.0398\n",
            "Epoch 21/300\n",
            "7/7 [==============================] - 0s 6ms/step - loss: 0.0025 - mae: 0.0397\n",
            "Epoch 22/300\n",
            "7/7 [==============================] - 0s 6ms/step - loss: 0.0025 - mae: 0.0397\n",
            "Epoch 23/300\n",
            "7/7 [==============================] - 0s 5ms/step - loss: 0.0025 - mae: 0.0398\n",
            "Epoch 24/300\n",
            "7/7 [==============================] - 0s 6ms/step - loss: 0.0025 - mae: 0.0395\n",
            "Epoch 25/300\n",
            "7/7 [==============================] - 0s 5ms/step - loss: 0.0025 - mae: 0.0396\n",
            "Epoch 26/300\n",
            "7/7 [==============================] - 0s 5ms/step - loss: 0.0025 - mae: 0.0399\n",
            "Epoch 27/300\n",
            "7/7 [==============================] - 0s 5ms/step - loss: 0.0025 - mae: 0.0397\n",
            "Epoch 28/300\n",
            "7/7 [==============================] - 0s 5ms/step - loss: 0.0025 - mae: 0.0395\n",
            "Epoch 29/300\n",
            "7/7 [==============================] - 0s 6ms/step - loss: 0.0025 - mae: 0.0396\n",
            "Epoch 30/300\n",
            "7/7 [==============================] - 0s 6ms/step - loss: 0.0025 - mae: 0.0395\n",
            "Epoch 31/300\n",
            "7/7 [==============================] - 0s 6ms/step - loss: 0.0025 - mae: 0.0396\n",
            "Epoch 32/300\n",
            "7/7 [==============================] - 0s 6ms/step - loss: 0.0025 - mae: 0.0394\n",
            "Epoch 33/300\n",
            "7/7 [==============================] - 0s 6ms/step - loss: 0.0025 - mae: 0.0394\n",
            "Epoch 34/300\n",
            "7/7 [==============================] - 0s 5ms/step - loss: 0.0025 - mae: 0.0394\n",
            "Epoch 35/300\n",
            "7/7 [==============================] - 0s 6ms/step - loss: 0.0025 - mae: 0.0394\n",
            "Epoch 36/300\n",
            "7/7 [==============================] - 0s 7ms/step - loss: 0.0025 - mae: 0.0394\n",
            "Epoch 37/300\n",
            "7/7 [==============================] - 0s 7ms/step - loss: 0.0025 - mae: 0.0394\n",
            "Epoch 38/300\n",
            "7/7 [==============================] - 0s 6ms/step - loss: 0.0025 - mae: 0.0394\n",
            "Epoch 39/300\n",
            "7/7 [==============================] - 0s 5ms/step - loss: 0.0025 - mae: 0.0394\n",
            "Epoch 40/300\n",
            "7/7 [==============================] - 0s 6ms/step - loss: 0.0025 - mae: 0.0394\n",
            "Epoch 41/300\n",
            "7/7 [==============================] - 0s 6ms/step - loss: 0.0025 - mae: 0.0394\n",
            "Epoch 42/300\n",
            "7/7 [==============================] - 0s 6ms/step - loss: 0.0025 - mae: 0.0395\n",
            "Epoch 43/300\n",
            "7/7 [==============================] - 0s 7ms/step - loss: 0.0025 - mae: 0.0396\n",
            "Epoch 44/300\n",
            "7/7 [==============================] - 0s 6ms/step - loss: 0.0025 - mae: 0.0394\n",
            "Epoch 45/300\n",
            "7/7 [==============================] - 0s 6ms/step - loss: 0.0025 - mae: 0.0393\n",
            "Epoch 46/300\n",
            "7/7 [==============================] - 0s 6ms/step - loss: 0.0025 - mae: 0.0393\n",
            "Epoch 47/300\n",
            "7/7 [==============================] - 0s 6ms/step - loss: 0.0025 - mae: 0.0392\n",
            "Epoch 48/300\n",
            "7/7 [==============================] - 0s 6ms/step - loss: 0.0025 - mae: 0.0394\n",
            "Epoch 49/300\n",
            "7/7 [==============================] - 0s 6ms/step - loss: 0.0025 - mae: 0.0390\n",
            "Epoch 50/300\n",
            "7/7 [==============================] - 0s 6ms/step - loss: 0.0025 - mae: 0.0392\n",
            "Epoch 51/300\n",
            "7/7 [==============================] - 0s 5ms/step - loss: 0.0025 - mae: 0.0392\n",
            "Epoch 52/300\n",
            "7/7 [==============================] - 0s 6ms/step - loss: 0.0025 - mae: 0.0392\n",
            "Epoch 53/300\n",
            "7/7 [==============================] - 0s 5ms/step - loss: 0.0025 - mae: 0.0392\n",
            "Epoch 54/300\n",
            "7/7 [==============================] - 0s 5ms/step - loss: 0.0024 - mae: 0.0390\n",
            "Epoch 55/300\n",
            "7/7 [==============================] - 0s 5ms/step - loss: 0.0025 - mae: 0.0390\n",
            "Epoch 56/300\n",
            "7/7 [==============================] - 0s 5ms/step - loss: 0.0024 - mae: 0.0389\n",
            "Epoch 57/300\n",
            "7/7 [==============================] - 0s 5ms/step - loss: 0.0024 - mae: 0.0390\n",
            "Epoch 58/300\n",
            "7/7 [==============================] - 0s 5ms/step - loss: 0.0025 - mae: 0.0395\n",
            "Epoch 59/300\n",
            "7/7 [==============================] - 0s 5ms/step - loss: 0.0024 - mae: 0.0391\n",
            "Epoch 60/300\n",
            "7/7 [==============================] - 0s 5ms/step - loss: 0.0024 - mae: 0.0390\n",
            "Epoch 61/300\n",
            "7/7 [==============================] - 0s 5ms/step - loss: 0.0024 - mae: 0.0389\n",
            "Epoch 62/300\n",
            "7/7 [==============================] - 0s 5ms/step - loss: 0.0024 - mae: 0.0389\n",
            "Epoch 63/300\n",
            "7/7 [==============================] - 0s 5ms/step - loss: 0.0024 - mae: 0.0390\n",
            "Epoch 64/300\n",
            "7/7 [==============================] - 0s 5ms/step - loss: 0.0024 - mae: 0.0390\n",
            "Epoch 65/300\n",
            "7/7 [==============================] - 0s 5ms/step - loss: 0.0024 - mae: 0.0389\n",
            "Epoch 66/300\n",
            "7/7 [==============================] - 0s 5ms/step - loss: 0.0024 - mae: 0.0389\n",
            "Epoch 67/300\n",
            "7/7 [==============================] - 0s 6ms/step - loss: 0.0024 - mae: 0.0388\n",
            "Epoch 68/300\n",
            "7/7 [==============================] - 0s 8ms/step - loss: 0.0024 - mae: 0.0387\n",
            "Epoch 69/300\n",
            "7/7 [==============================] - 0s 7ms/step - loss: 0.0024 - mae: 0.0388\n",
            "Epoch 70/300\n",
            "7/7 [==============================] - 0s 6ms/step - loss: 0.0024 - mae: 0.0387\n",
            "Epoch 71/300\n",
            "7/7 [==============================] - 0s 7ms/step - loss: 0.0024 - mae: 0.0386\n",
            "Epoch 72/300\n",
            "7/7 [==============================] - 0s 6ms/step - loss: 0.0024 - mae: 0.0387\n",
            "Epoch 73/300\n",
            "7/7 [==============================] - 0s 6ms/step - loss: 0.0024 - mae: 0.0387\n",
            "Epoch 74/300\n",
            "7/7 [==============================] - 0s 6ms/step - loss: 0.0024 - mae: 0.0386\n",
            "Epoch 75/300\n",
            "7/7 [==============================] - 0s 6ms/step - loss: 0.0024 - mae: 0.0387\n",
            "Epoch 76/300\n",
            "7/7 [==============================] - 0s 6ms/step - loss: 0.0024 - mae: 0.0387\n",
            "Epoch 77/300\n",
            "7/7 [==============================] - 0s 6ms/step - loss: 0.0024 - mae: 0.0387\n",
            "Epoch 78/300\n",
            "7/7 [==============================] - 0s 6ms/step - loss: 0.0024 - mae: 0.0386\n",
            "Epoch 79/300\n",
            "7/7 [==============================] - 0s 5ms/step - loss: 0.0024 - mae: 0.0386\n",
            "Epoch 80/300\n",
            "7/7 [==============================] - 0s 6ms/step - loss: 0.0024 - mae: 0.0385\n",
            "Epoch 81/300\n",
            "7/7 [==============================] - 0s 6ms/step - loss: 0.0024 - mae: 0.0386\n",
            "Epoch 82/300\n",
            "7/7 [==============================] - 0s 6ms/step - loss: 0.0024 - mae: 0.0386\n",
            "Epoch 83/300\n",
            "7/7 [==============================] - 0s 6ms/step - loss: 0.0024 - mae: 0.0385\n",
            "Epoch 84/300\n",
            "7/7 [==============================] - 0s 5ms/step - loss: 0.0024 - mae: 0.0385\n",
            "Epoch 85/300\n",
            "7/7 [==============================] - 0s 5ms/step - loss: 0.0024 - mae: 0.0384\n",
            "Epoch 86/300\n",
            "7/7 [==============================] - 0s 5ms/step - loss: 0.0024 - mae: 0.0386\n",
            "Epoch 87/300\n",
            "7/7 [==============================] - 0s 5ms/step - loss: 0.0024 - mae: 0.0385\n",
            "Epoch 88/300\n",
            "7/7 [==============================] - 0s 5ms/step - loss: 0.0024 - mae: 0.0384\n",
            "Epoch 89/300\n",
            "7/7 [==============================] - 0s 6ms/step - loss: 0.0024 - mae: 0.0385\n",
            "Epoch 90/300\n",
            "7/7 [==============================] - 0s 6ms/step - loss: 0.0024 - mae: 0.0383\n",
            "Epoch 91/300\n",
            "7/7 [==============================] - 0s 6ms/step - loss: 0.0024 - mae: 0.0383\n",
            "Epoch 92/300\n",
            "7/7 [==============================] - 0s 5ms/step - loss: 0.0024 - mae: 0.0382\n",
            "Epoch 93/300\n",
            "7/7 [==============================] - 0s 5ms/step - loss: 0.0024 - mae: 0.0382\n",
            "Epoch 94/300\n",
            "7/7 [==============================] - 0s 5ms/step - loss: 0.0024 - mae: 0.0382\n",
            "Epoch 95/300\n",
            "7/7 [==============================] - 0s 6ms/step - loss: 0.0023 - mae: 0.0383\n",
            "Epoch 96/300\n",
            "7/7 [==============================] - 0s 6ms/step - loss: 0.0024 - mae: 0.0383\n",
            "Epoch 97/300\n",
            "7/7 [==============================] - 0s 5ms/step - loss: 0.0023 - mae: 0.0382\n",
            "Epoch 98/300\n",
            "7/7 [==============================] - 0s 5ms/step - loss: 0.0023 - mae: 0.0381\n",
            "Epoch 99/300\n",
            "7/7 [==============================] - 0s 5ms/step - loss: 0.0024 - mae: 0.0382\n",
            "Epoch 100/300\n",
            "7/7 [==============================] - 0s 5ms/step - loss: 0.0023 - mae: 0.0380\n",
            "Epoch 101/300\n",
            "7/7 [==============================] - 0s 5ms/step - loss: 0.0024 - mae: 0.0384\n",
            "Epoch 102/300\n",
            "7/7 [==============================] - 0s 6ms/step - loss: 0.0024 - mae: 0.0385\n",
            "Epoch 103/300\n",
            "7/7 [==============================] - 0s 6ms/step - loss: 0.0023 - mae: 0.0381\n",
            "Epoch 104/300\n",
            "7/7 [==============================] - 0s 5ms/step - loss: 0.0023 - mae: 0.0379\n",
            "Epoch 105/300\n",
            "7/7 [==============================] - 0s 5ms/step - loss: 0.0023 - mae: 0.0379\n",
            "Epoch 106/300\n",
            "7/7 [==============================] - 0s 5ms/step - loss: 0.0023 - mae: 0.0379\n",
            "Epoch 107/300\n",
            "7/7 [==============================] - 0s 5ms/step - loss: 0.0023 - mae: 0.0380\n",
            "Epoch 108/300\n",
            "7/7 [==============================] - 0s 5ms/step - loss: 0.0023 - mae: 0.0383\n",
            "Epoch 109/300\n",
            "7/7 [==============================] - 0s 5ms/step - loss: 0.0023 - mae: 0.0380\n",
            "Epoch 110/300\n",
            "7/7 [==============================] - 0s 5ms/step - loss: 0.0023 - mae: 0.0380\n",
            "Epoch 111/300\n",
            "7/7 [==============================] - 0s 5ms/step - loss: 0.0023 - mae: 0.0377\n",
            "Epoch 112/300\n",
            "7/7 [==============================] - 0s 5ms/step - loss: 0.0023 - mae: 0.0378\n",
            "Epoch 113/300\n",
            "7/7 [==============================] - 0s 6ms/step - loss: 0.0023 - mae: 0.0378\n",
            "Epoch 114/300\n",
            "7/7 [==============================] - 0s 6ms/step - loss: 0.0023 - mae: 0.0378\n",
            "Epoch 115/300\n",
            "7/7 [==============================] - 0s 5ms/step - loss: 0.0023 - mae: 0.0378\n",
            "Epoch 116/300\n",
            "7/7 [==============================] - 0s 6ms/step - loss: 0.0023 - mae: 0.0377\n",
            "Epoch 117/300\n",
            "7/7 [==============================] - 0s 5ms/step - loss: 0.0023 - mae: 0.0378\n",
            "Epoch 118/300\n",
            "7/7 [==============================] - 0s 6ms/step - loss: 0.0023 - mae: 0.0376\n",
            "Epoch 119/300\n",
            "7/7 [==============================] - 0s 6ms/step - loss: 0.0023 - mae: 0.0378\n",
            "Epoch 120/300\n",
            "7/7 [==============================] - 0s 5ms/step - loss: 0.0023 - mae: 0.0377\n",
            "Epoch 121/300\n",
            "7/7 [==============================] - 0s 5ms/step - loss: 0.0023 - mae: 0.0377\n",
            "Epoch 122/300\n",
            "7/7 [==============================] - 0s 6ms/step - loss: 0.0023 - mae: 0.0376\n",
            "Epoch 123/300\n",
            "7/7 [==============================] - 0s 6ms/step - loss: 0.0023 - mae: 0.0377\n",
            "Epoch 124/300\n",
            "7/7 [==============================] - 0s 5ms/step - loss: 0.0023 - mae: 0.0374\n",
            "Epoch 125/300\n",
            "7/7 [==============================] - 0s 6ms/step - loss: 0.0023 - mae: 0.0376\n",
            "Epoch 126/300\n",
            "7/7 [==============================] - 0s 5ms/step - loss: 0.0023 - mae: 0.0375\n",
            "Epoch 127/300\n",
            "7/7 [==============================] - 0s 6ms/step - loss: 0.0023 - mae: 0.0374\n",
            "Epoch 128/300\n",
            "7/7 [==============================] - 0s 5ms/step - loss: 0.0023 - mae: 0.0375\n",
            "Epoch 129/300\n",
            "7/7 [==============================] - 0s 5ms/step - loss: 0.0023 - mae: 0.0375\n",
            "Epoch 130/300\n",
            "7/7 [==============================] - 0s 5ms/step - loss: 0.0023 - mae: 0.0374\n",
            "Epoch 131/300\n",
            "7/7 [==============================] - 0s 5ms/step - loss: 0.0022 - mae: 0.0373\n",
            "Epoch 132/300\n",
            "7/7 [==============================] - 0s 6ms/step - loss: 0.0022 - mae: 0.0372\n",
            "Epoch 133/300\n",
            "7/7 [==============================] - 0s 5ms/step - loss: 0.0022 - mae: 0.0373\n",
            "Epoch 134/300\n",
            "7/7 [==============================] - 0s 5ms/step - loss: 0.0023 - mae: 0.0374\n",
            "Epoch 135/300\n",
            "7/7 [==============================] - 0s 5ms/step - loss: 0.0022 - mae: 0.0372\n",
            "Epoch 136/300\n",
            "7/7 [==============================] - 0s 6ms/step - loss: 0.0022 - mae: 0.0371\n",
            "Epoch 137/300\n",
            "7/7 [==============================] - 0s 6ms/step - loss: 0.0023 - mae: 0.0374\n",
            "Epoch 138/300\n",
            "7/7 [==============================] - 0s 5ms/step - loss: 0.0022 - mae: 0.0371\n",
            "Epoch 139/300\n",
            "7/7 [==============================] - 0s 6ms/step - loss: 0.0022 - mae: 0.0371\n",
            "Epoch 140/300\n",
            "7/7 [==============================] - 0s 6ms/step - loss: 0.0022 - mae: 0.0372\n",
            "Epoch 141/300\n",
            "7/7 [==============================] - 0s 6ms/step - loss: 0.0022 - mae: 0.0370\n",
            "Epoch 142/300\n",
            "7/7 [==============================] - 0s 5ms/step - loss: 0.0022 - mae: 0.0369\n",
            "Epoch 143/300\n",
            "7/7 [==============================] - 0s 5ms/step - loss: 0.0022 - mae: 0.0369\n",
            "Epoch 144/300\n",
            "7/7 [==============================] - 0s 6ms/step - loss: 0.0022 - mae: 0.0369\n",
            "Epoch 145/300\n",
            "7/7 [==============================] - 0s 6ms/step - loss: 0.0022 - mae: 0.0369\n",
            "Epoch 146/300\n",
            "7/7 [==============================] - 0s 6ms/step - loss: 0.0022 - mae: 0.0366\n",
            "Epoch 147/300\n",
            "7/7 [==============================] - 0s 6ms/step - loss: 0.0022 - mae: 0.0370\n",
            "Epoch 148/300\n",
            "7/7 [==============================] - 0s 6ms/step - loss: 0.0022 - mae: 0.0369\n",
            "Epoch 149/300\n",
            "7/7 [==============================] - 0s 5ms/step - loss: 0.0022 - mae: 0.0368\n",
            "Epoch 150/300\n",
            "7/7 [==============================] - 0s 5ms/step - loss: 0.0022 - mae: 0.0367\n",
            "Epoch 151/300\n",
            "7/7 [==============================] - 0s 5ms/step - loss: 0.0022 - mae: 0.0369\n",
            "Epoch 152/300\n",
            "7/7 [==============================] - 0s 6ms/step - loss: 0.0022 - mae: 0.0366\n",
            "Epoch 153/300\n",
            "7/7 [==============================] - 0s 5ms/step - loss: 0.0022 - mae: 0.0366\n",
            "Epoch 154/300\n",
            "7/7 [==============================] - 0s 5ms/step - loss: 0.0022 - mae: 0.0366\n",
            "Epoch 155/300\n",
            "7/7 [==============================] - 0s 6ms/step - loss: 0.0022 - mae: 0.0366\n",
            "Epoch 156/300\n",
            "7/7 [==============================] - 0s 5ms/step - loss: 0.0022 - mae: 0.0365\n",
            "Epoch 157/300\n",
            "7/7 [==============================] - 0s 6ms/step - loss: 0.0022 - mae: 0.0365\n",
            "Epoch 158/300\n",
            "7/7 [==============================] - 0s 5ms/step - loss: 0.0022 - mae: 0.0365\n",
            "Epoch 159/300\n",
            "7/7 [==============================] - 0s 5ms/step - loss: 0.0022 - mae: 0.0365\n",
            "Epoch 160/300\n",
            "7/7 [==============================] - 0s 5ms/step - loss: 0.0021 - mae: 0.0363\n",
            "Epoch 161/300\n",
            "7/7 [==============================] - 0s 6ms/step - loss: 0.0021 - mae: 0.0364\n",
            "Epoch 162/300\n",
            "7/7 [==============================] - 0s 6ms/step - loss: 0.0021 - mae: 0.0363\n",
            "Epoch 163/300\n",
            "7/7 [==============================] - 0s 5ms/step - loss: 0.0021 - mae: 0.0362\n",
            "Epoch 164/300\n",
            "7/7 [==============================] - 0s 6ms/step - loss: 0.0021 - mae: 0.0361\n",
            "Epoch 165/300\n",
            "7/7 [==============================] - 0s 6ms/step - loss: 0.0021 - mae: 0.0362\n",
            "Epoch 166/300\n",
            "7/7 [==============================] - 0s 6ms/step - loss: 0.0021 - mae: 0.0363\n",
            "Epoch 167/300\n",
            "7/7 [==============================] - 0s 6ms/step - loss: 0.0021 - mae: 0.0362\n",
            "Epoch 168/300\n",
            "7/7 [==============================] - 0s 6ms/step - loss: 0.0021 - mae: 0.0361\n",
            "Epoch 169/300\n",
            "7/7 [==============================] - 0s 6ms/step - loss: 0.0021 - mae: 0.0360\n",
            "Epoch 170/300\n",
            "7/7 [==============================] - 0s 6ms/step - loss: 0.0021 - mae: 0.0360\n",
            "Epoch 171/300\n",
            "7/7 [==============================] - 0s 6ms/step - loss: 0.0021 - mae: 0.0359\n",
            "Epoch 172/300\n",
            "7/7 [==============================] - 0s 7ms/step - loss: 0.0021 - mae: 0.0359\n",
            "Epoch 173/300\n",
            "7/7 [==============================] - 0s 7ms/step - loss: 0.0021 - mae: 0.0358\n",
            "Epoch 174/300\n",
            "7/7 [==============================] - 0s 7ms/step - loss: 0.0021 - mae: 0.0358\n",
            "Epoch 175/300\n",
            "7/7 [==============================] - 0s 6ms/step - loss: 0.0021 - mae: 0.0358\n",
            "Epoch 176/300\n",
            "7/7 [==============================] - 0s 6ms/step - loss: 0.0021 - mae: 0.0357\n",
            "Epoch 177/300\n",
            "7/7 [==============================] - 0s 6ms/step - loss: 0.0021 - mae: 0.0357\n",
            "Epoch 178/300\n",
            "7/7 [==============================] - 0s 6ms/step - loss: 0.0021 - mae: 0.0356\n",
            "Epoch 179/300\n",
            "7/7 [==============================] - 0s 6ms/step - loss: 0.0021 - mae: 0.0357\n",
            "Epoch 180/300\n",
            "7/7 [==============================] - 0s 6ms/step - loss: 0.0021 - mae: 0.0356\n",
            "Epoch 181/300\n",
            "7/7 [==============================] - 0s 6ms/step - loss: 0.0021 - mae: 0.0355\n",
            "Epoch 182/300\n",
            "7/7 [==============================] - 0s 6ms/step - loss: 0.0020 - mae: 0.0354\n",
            "Epoch 183/300\n",
            "7/7 [==============================] - 0s 6ms/step - loss: 0.0021 - mae: 0.0355\n",
            "Epoch 184/300\n",
            "7/7 [==============================] - 0s 5ms/step - loss: 0.0020 - mae: 0.0354\n",
            "Epoch 185/300\n",
            "7/7 [==============================] - 0s 6ms/step - loss: 0.0020 - mae: 0.0353\n",
            "Epoch 186/300\n",
            "7/7 [==============================] - 0s 6ms/step - loss: 0.0020 - mae: 0.0353\n",
            "Epoch 187/300\n",
            "7/7 [==============================] - 0s 6ms/step - loss: 0.0020 - mae: 0.0353\n",
            "Epoch 188/300\n",
            "7/7 [==============================] - 0s 5ms/step - loss: 0.0020 - mae: 0.0352\n",
            "Epoch 189/300\n",
            "7/7 [==============================] - 0s 6ms/step - loss: 0.0020 - mae: 0.0351\n",
            "Epoch 190/300\n",
            "7/7 [==============================] - 0s 5ms/step - loss: 0.0020 - mae: 0.0353\n",
            "Epoch 191/300\n",
            "7/7 [==============================] - 0s 5ms/step - loss: 0.0020 - mae: 0.0352\n",
            "Epoch 192/300\n",
            "7/7 [==============================] - 0s 6ms/step - loss: 0.0020 - mae: 0.0350\n",
            "Epoch 193/300\n",
            "7/7 [==============================] - 0s 6ms/step - loss: 0.0020 - mae: 0.0349\n",
            "Epoch 194/300\n",
            "7/7 [==============================] - 0s 5ms/step - loss: 0.0020 - mae: 0.0350\n",
            "Epoch 195/300\n",
            "7/7 [==============================] - 0s 6ms/step - loss: 0.0020 - mae: 0.0350\n",
            "Epoch 196/300\n",
            "7/7 [==============================] - 0s 5ms/step - loss: 0.0020 - mae: 0.0349\n",
            "Epoch 197/300\n",
            "7/7 [==============================] - 0s 5ms/step - loss: 0.0020 - mae: 0.0347\n",
            "Epoch 198/300\n",
            "7/7 [==============================] - 0s 6ms/step - loss: 0.0020 - mae: 0.0347\n",
            "Epoch 199/300\n",
            "7/7 [==============================] - 0s 5ms/step - loss: 0.0020 - mae: 0.0346\n",
            "Epoch 200/300\n",
            "7/7 [==============================] - 0s 6ms/step - loss: 0.0020 - mae: 0.0346\n",
            "Epoch 201/300\n",
            "7/7 [==============================] - 0s 5ms/step - loss: 0.0020 - mae: 0.0346\n",
            "Epoch 202/300\n",
            "7/7 [==============================] - 0s 6ms/step - loss: 0.0020 - mae: 0.0345\n",
            "Epoch 203/300\n",
            "7/7 [==============================] - 0s 6ms/step - loss: 0.0019 - mae: 0.0345\n",
            "Epoch 204/300\n",
            "7/7 [==============================] - 0s 6ms/step - loss: 0.0019 - mae: 0.0344\n",
            "Epoch 205/300\n",
            "7/7 [==============================] - 0s 6ms/step - loss: 0.0019 - mae: 0.0344\n",
            "Epoch 206/300\n",
            "7/7 [==============================] - 0s 6ms/step - loss: 0.0019 - mae: 0.0344\n",
            "Epoch 207/300\n",
            "7/7 [==============================] - 0s 6ms/step - loss: 0.0019 - mae: 0.0342\n",
            "Epoch 208/300\n",
            "7/7 [==============================] - 0s 6ms/step - loss: 0.0019 - mae: 0.0344\n",
            "Epoch 209/300\n",
            "7/7 [==============================] - 0s 6ms/step - loss: 0.0019 - mae: 0.0340\n",
            "Epoch 210/300\n",
            "7/7 [==============================] - 0s 6ms/step - loss: 0.0019 - mae: 0.0341\n",
            "Epoch 211/300\n",
            "7/7 [==============================] - 0s 6ms/step - loss: 0.0019 - mae: 0.0341\n",
            "Epoch 212/300\n",
            "7/7 [==============================] - 0s 6ms/step - loss: 0.0019 - mae: 0.0340\n",
            "Epoch 213/300\n",
            "7/7 [==============================] - 0s 5ms/step - loss: 0.0019 - mae: 0.0339\n",
            "Epoch 214/300\n",
            "7/7 [==============================] - 0s 6ms/step - loss: 0.0019 - mae: 0.0339\n",
            "Epoch 215/300\n",
            "7/7 [==============================] - 0s 6ms/step - loss: 0.0019 - mae: 0.0337\n",
            "Epoch 216/300\n",
            "7/7 [==============================] - 0s 6ms/step - loss: 0.0019 - mae: 0.0342\n",
            "Epoch 217/300\n",
            "7/7 [==============================] - 0s 6ms/step - loss: 0.0019 - mae: 0.0340\n",
            "Epoch 218/300\n",
            "7/7 [==============================] - 0s 6ms/step - loss: 0.0019 - mae: 0.0338\n",
            "Epoch 219/300\n",
            "7/7 [==============================] - 0s 5ms/step - loss: 0.0019 - mae: 0.0336\n",
            "Epoch 220/300\n",
            "7/7 [==============================] - 0s 5ms/step - loss: 0.0019 - mae: 0.0337\n",
            "Epoch 221/300\n",
            "7/7 [==============================] - 0s 6ms/step - loss: 0.0019 - mae: 0.0336\n",
            "Epoch 222/300\n",
            "7/7 [==============================] - 0s 5ms/step - loss: 0.0018 - mae: 0.0336\n",
            "Epoch 223/300\n",
            "7/7 [==============================] - 0s 5ms/step - loss: 0.0018 - mae: 0.0335\n",
            "Epoch 224/300\n",
            "7/7 [==============================] - 0s 5ms/step - loss: 0.0018 - mae: 0.0334\n",
            "Epoch 225/300\n",
            "7/7 [==============================] - 0s 5ms/step - loss: 0.0018 - mae: 0.0332\n",
            "Epoch 226/300\n",
            "7/7 [==============================] - 0s 5ms/step - loss: 0.0018 - mae: 0.0332\n",
            "Epoch 227/300\n",
            "7/7 [==============================] - 0s 5ms/step - loss: 0.0018 - mae: 0.0332\n",
            "Epoch 228/300\n",
            "7/7 [==============================] - 0s 5ms/step - loss: 0.0018 - mae: 0.0331\n",
            "Epoch 229/300\n",
            "7/7 [==============================] - 0s 5ms/step - loss: 0.0018 - mae: 0.0330\n",
            "Epoch 230/300\n",
            "7/7 [==============================] - 0s 5ms/step - loss: 0.0018 - mae: 0.0330\n",
            "Epoch 231/300\n",
            "7/7 [==============================] - 0s 5ms/step - loss: 0.0018 - mae: 0.0330\n",
            "Epoch 232/300\n",
            "7/7 [==============================] - 0s 5ms/step - loss: 0.0018 - mae: 0.0329\n",
            "Epoch 233/300\n",
            "7/7 [==============================] - 0s 5ms/step - loss: 0.0018 - mae: 0.0332\n",
            "Epoch 234/300\n",
            "7/7 [==============================] - 0s 5ms/step - loss: 0.0018 - mae: 0.0329\n",
            "Epoch 235/300\n",
            "7/7 [==============================] - 0s 5ms/step - loss: 0.0018 - mae: 0.0331\n",
            "Epoch 236/300\n",
            "7/7 [==============================] - 0s 6ms/step - loss: 0.0018 - mae: 0.0327\n",
            "Epoch 237/300\n",
            "7/7 [==============================] - 0s 6ms/step - loss: 0.0018 - mae: 0.0326\n",
            "Epoch 238/300\n",
            "7/7 [==============================] - 0s 6ms/step - loss: 0.0017 - mae: 0.0326\n",
            "Epoch 239/300\n",
            "7/7 [==============================] - 0s 5ms/step - loss: 0.0017 - mae: 0.0328\n",
            "Epoch 240/300\n",
            "7/7 [==============================] - 0s 5ms/step - loss: 0.0017 - mae: 0.0329\n",
            "Epoch 241/300\n",
            "7/7 [==============================] - 0s 5ms/step - loss: 0.0017 - mae: 0.0327\n",
            "Epoch 242/300\n",
            "7/7 [==============================] - 0s 6ms/step - loss: 0.0017 - mae: 0.0324\n",
            "Epoch 243/300\n",
            "7/7 [==============================] - 0s 6ms/step - loss: 0.0017 - mae: 0.0324\n",
            "Epoch 244/300\n",
            "7/7 [==============================] - 0s 5ms/step - loss: 0.0017 - mae: 0.0324\n",
            "Epoch 245/300\n",
            "7/7 [==============================] - 0s 5ms/step - loss: 0.0017 - mae: 0.0323\n",
            "Epoch 246/300\n",
            "7/7 [==============================] - 0s 5ms/step - loss: 0.0017 - mae: 0.0322\n",
            "Epoch 247/300\n",
            "7/7 [==============================] - 0s 5ms/step - loss: 0.0017 - mae: 0.0323\n",
            "Epoch 248/300\n",
            "7/7 [==============================] - 0s 5ms/step - loss: 0.0017 - mae: 0.0325\n",
            "Epoch 249/300\n",
            "7/7 [==============================] - 0s 6ms/step - loss: 0.0017 - mae: 0.0325\n",
            "Epoch 250/300\n",
            "7/7 [==============================] - 0s 5ms/step - loss: 0.0017 - mae: 0.0321\n",
            "Epoch 251/300\n",
            "7/7 [==============================] - 0s 6ms/step - loss: 0.0017 - mae: 0.0318\n",
            "Epoch 252/300\n",
            "7/7 [==============================] - 0s 6ms/step - loss: 0.0017 - mae: 0.0321\n",
            "Epoch 253/300\n",
            "7/7 [==============================] - 0s 6ms/step - loss: 0.0017 - mae: 0.0320\n",
            "Epoch 254/300\n",
            "7/7 [==============================] - 0s 5ms/step - loss: 0.0017 - mae: 0.0320\n",
            "Epoch 255/300\n",
            "7/7 [==============================] - 0s 6ms/step - loss: 0.0017 - mae: 0.0323\n",
            "Epoch 256/300\n",
            "7/7 [==============================] - 0s 5ms/step - loss: 0.0016 - mae: 0.0319\n",
            "Epoch 257/300\n",
            "7/7 [==============================] - 0s 5ms/step - loss: 0.0016 - mae: 0.0316\n",
            "Epoch 258/300\n",
            "7/7 [==============================] - 0s 5ms/step - loss: 0.0016 - mae: 0.0316\n",
            "Epoch 259/300\n",
            "7/7 [==============================] - 0s 5ms/step - loss: 0.0016 - mae: 0.0320\n",
            "Epoch 260/300\n",
            "7/7 [==============================] - 0s 6ms/step - loss: 0.0016 - mae: 0.0320\n",
            "Epoch 261/300\n",
            "7/7 [==============================] - 0s 6ms/step - loss: 0.0016 - mae: 0.0317\n",
            "Epoch 262/300\n",
            "7/7 [==============================] - 0s 5ms/step - loss: 0.0016 - mae: 0.0316\n",
            "Epoch 263/300\n",
            "7/7 [==============================] - 0s 5ms/step - loss: 0.0016 - mae: 0.0313\n",
            "Epoch 264/300\n",
            "7/7 [==============================] - 0s 5ms/step - loss: 0.0016 - mae: 0.0316\n",
            "Epoch 265/300\n",
            "7/7 [==============================] - 0s 5ms/step - loss: 0.0016 - mae: 0.0321\n",
            "Epoch 266/300\n",
            "7/7 [==============================] - 0s 6ms/step - loss: 0.0016 - mae: 0.0319\n",
            "Epoch 267/300\n",
            "7/7 [==============================] - 0s 5ms/step - loss: 0.0016 - mae: 0.0314\n",
            "Epoch 268/300\n",
            "7/7 [==============================] - 0s 6ms/step - loss: 0.0016 - mae: 0.0312\n",
            "Epoch 269/300\n",
            "7/7 [==============================] - 0s 5ms/step - loss: 0.0016 - mae: 0.0314\n",
            "Epoch 270/300\n",
            "7/7 [==============================] - 0s 5ms/step - loss: 0.0016 - mae: 0.0313\n",
            "Epoch 271/300\n",
            "7/7 [==============================] - 0s 5ms/step - loss: 0.0016 - mae: 0.0312\n",
            "Epoch 272/300\n",
            "7/7 [==============================] - 0s 5ms/step - loss: 0.0016 - mae: 0.0312\n",
            "Epoch 273/300\n",
            "7/7 [==============================] - 0s 5ms/step - loss: 0.0015 - mae: 0.0310\n",
            "Epoch 274/300\n",
            "7/7 [==============================] - 0s 5ms/step - loss: 0.0016 - mae: 0.0310\n",
            "Epoch 275/300\n",
            "7/7 [==============================] - 0s 5ms/step - loss: 0.0015 - mae: 0.0310\n",
            "Epoch 276/300\n",
            "7/7 [==============================] - 0s 5ms/step - loss: 0.0015 - mae: 0.0313\n",
            "Epoch 277/300\n",
            "7/7 [==============================] - 0s 5ms/step - loss: 0.0015 - mae: 0.0315\n",
            "Epoch 278/300\n",
            "7/7 [==============================] - 0s 5ms/step - loss: 0.0015 - mae: 0.0311\n",
            "Epoch 279/300\n",
            "7/7 [==============================] - 0s 5ms/step - loss: 0.0015 - mae: 0.0308\n",
            "Epoch 280/300\n",
            "7/7 [==============================] - 0s 5ms/step - loss: 0.0015 - mae: 0.0308\n",
            "Epoch 281/300\n",
            "7/7 [==============================] - 0s 5ms/step - loss: 0.0015 - mae: 0.0308\n",
            "Epoch 282/300\n",
            "7/7 [==============================] - 0s 6ms/step - loss: 0.0015 - mae: 0.0308\n",
            "Epoch 283/300\n",
            "7/7 [==============================] - 0s 6ms/step - loss: 0.0015 - mae: 0.0308\n",
            "Epoch 284/300\n",
            "7/7 [==============================] - 0s 6ms/step - loss: 0.0015 - mae: 0.0306\n",
            "Epoch 285/300\n",
            "7/7 [==============================] - 0s 6ms/step - loss: 0.0015 - mae: 0.0309\n",
            "Epoch 286/300\n",
            "7/7 [==============================] - 0s 8ms/step - loss: 0.0015 - mae: 0.0310\n",
            "Epoch 287/300\n",
            "7/7 [==============================] - 0s 7ms/step - loss: 0.0015 - mae: 0.0307\n",
            "Epoch 288/300\n",
            "7/7 [==============================] - 0s 7ms/step - loss: 0.0015 - mae: 0.0307\n",
            "Epoch 289/300\n",
            "7/7 [==============================] - 0s 6ms/step - loss: 0.0015 - mae: 0.0305\n",
            "Epoch 290/300\n",
            "7/7 [==============================] - 0s 6ms/step - loss: 0.0015 - mae: 0.0303\n",
            "Epoch 291/300\n",
            "7/7 [==============================] - 0s 5ms/step - loss: 0.0015 - mae: 0.0304\n",
            "Epoch 292/300\n",
            "7/7 [==============================] - 0s 5ms/step - loss: 0.0015 - mae: 0.0303\n",
            "Epoch 293/300\n",
            "7/7 [==============================] - 0s 5ms/step - loss: 0.0015 - mae: 0.0303\n",
            "Epoch 294/300\n",
            "7/7 [==============================] - 0s 6ms/step - loss: 0.0015 - mae: 0.0301\n",
            "Epoch 295/300\n",
            "7/7 [==============================] - 0s 6ms/step - loss: 0.0015 - mae: 0.0302\n",
            "Epoch 296/300\n",
            "7/7 [==============================] - 0s 6ms/step - loss: 0.0014 - mae: 0.0302\n",
            "Epoch 297/300\n",
            "7/7 [==============================] - 0s 6ms/step - loss: 0.0014 - mae: 0.0301\n",
            "Epoch 298/300\n",
            "7/7 [==============================] - 0s 5ms/step - loss: 0.0015 - mae: 0.0307\n",
            "Epoch 299/300\n",
            "7/7 [==============================] - 0s 5ms/step - loss: 0.0014 - mae: 0.0302\n",
            "Epoch 300/300\n",
            "7/7 [==============================] - 0s 5ms/step - loss: 0.0014 - mae: 0.0300\n"
          ]
        },
        {
          "data": {
            "text/plain": [
              "<keras.callbacks.History at 0x7f8d18dcb1f0>"
            ]
          },
          "execution_count": 1398,
          "metadata": {},
          "output_type": "execute_result"
        }
      ],
      "source": [
        "model.fit(X_train, y_train, epochs=300, batch_size=10)"
      ]
    },
    {
      "cell_type": "code",
      "execution_count": 1399,
      "metadata": {
        "id": "jy2ljRfEEHrX"
      },
      "outputs": [],
      "source": [
        "y_pred = model.predict(X_test)"
      ]
    },
    {
      "cell_type": "code",
      "execution_count": 1400,
      "metadata": {
        "id": "HQO22tA_wFAt"
      },
      "outputs": [],
      "source": [
        "y_pred = scaler.inverse_transform(y_pred)\n",
        "y_test = np.array(y_test)\n",
        "y_test = y_test.reshape(-1, 1)\n",
        "y_test = scaler.inverse_transform(y_test)"
      ]
    },
    {
      "cell_type": "code",
      "execution_count": 1401,
      "metadata": {
        "colab": {
          "base_uri": "https://localhost:8080/",
          "height": 320
        },
        "id": "3bSH2te2EpsC",
        "outputId": "19065930-fd75-468c-d1b1-f8d5877c1c4e"
      },
      "outputs": [
        {
          "data": {
            "image/png": "[encoded data removed]",
            "text/plain": [
              "<Figure size 1008x360 with 1 Axes>"
            ]
          },
          "metadata": {
            "needs_background": "light"
          },
          "output_type": "display_data"
        }
      ],
      "source": [
        "plt.figure(figsize=(14,5))\n",
        "plt.plot(y_test, label = 'Real')\n",
        "plt.plot(y_pred, label = 'Predicted')\n",
        "plt.ylabel('passengers')\n",
        "plt.legend()\n",
        "plt.show()"
      ]
    },
    {
      "cell_type": "markdown",
      "metadata": {},
      "source": [
        "Так как данных очень мало, достаточно сети с одним слоем и 3 нейронами. При большем количестве эпох можно обучить и 2 нейрона."
      ]
    }
  ],
  "metadata": {
    "accelerator": "GPU",
    "colab": {
      "collapsed_sections": [],
      "name": "HW5.ipynb",
      "provenance": []
    },
    "kernelspec": {
      "display_name": "Python 3",
      "name": "python3"
    },
    "language_info": {
      "codemirror_mode": {
        "name": "ipython",
        "version": 3
      },
      "file_extension": ".py",
      "mimetype": "text/x-python",
      "name": "python",
      "nbconvert_exporter": "python",
      "pygments_lexer": "ipython3",
      "version": "3.8.10"
    }
  },
  "nbformat": 4,
  "nbformat_minor": 0
}
