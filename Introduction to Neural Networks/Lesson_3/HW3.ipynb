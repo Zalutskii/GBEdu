{
  "cells": [
    {
      "cell_type": "markdown",
      "metadata": {
        "id": "vLDFxivbk1SY"
      },
      "source": [
        "  1. Постройте нейронную сеть(берем простую линейную сеть, которую разбирали на уроке: меняем число слоев, число нейронов , типы активации, тип оптимизатора)  на датасет from sklearn.datasets import load_boston. "
      ]
    },
    {
      "cell_type": "code",
      "execution_count": 35,
      "metadata": {
        "id": "x_4_WnknkUwK"
      },
      "outputs": [
        {
          "name": "stderr",
          "output_type": "stream",
          "text": [
            "UsageError: Line magic function `%tensorflow_version` not found.\n"
          ]
        }
      ],
      "source": [
        "%tensorflow_version 2.x"
      ]
    },
    {
      "cell_type": "code",
      "execution_count": 36,
      "metadata": {
        "id": "-EqOZ_4ElRfS"
      },
      "outputs": [],
      "source": [
        "\n",
        "import pandas as pd\n",
        "import numpy as np\n",
        "\n",
        "from sklearn.datasets import load_boston\n",
        "from sklearn.model_selection import train_test_split\n",
        "\n",
        "\n",
        "import tensorflow as tf\n",
        "from tensorflow import keras\n",
        "from tensorflow.keras.models import Sequential\n",
        "from tensorflow.keras.layers import Dense\n"
      ]
    },
    {
      "cell_type": "code",
      "execution_count": 37,
      "metadata": {
        "colab": {
          "base_uri": "https://localhost:8080/",
          "height": 144
        },
        "id": "WO_n_0y3lRiO",
        "outputId": "738dce31-2b2d-4396-c7a1-f6f2f53f9da1"
      },
      "outputs": [
        {
          "name": "stderr",
          "output_type": "stream",
          "text": [
            "/home/ivan/.local/lib/python3.8/site-packages/sklearn/utils/deprecation.py:87: FutureWarning: Function load_boston is deprecated; `load_boston` is deprecated in 1.0 and will be removed in 1.2.\n",
            "\n",
            "    The Boston housing prices dataset has an ethical problem. You can refer to\n",
            "    the documentation of this function for further details.\n",
            "\n",
            "    The scikit-learn maintainers therefore strongly discourage the use of this\n",
            "    dataset unless the purpose of the code is to study and educate about\n",
            "    ethical issues in data science and machine learning.\n",
            "\n",
            "    In this special case, you can fetch the dataset from the original\n",
            "    source::\n",
            "\n",
            "        import pandas as pd\n",
            "        import numpy as np\n",
            "\n",
            "\n",
            "        data_url = \"http://lib.stat.cmu.edu/datasets/boston\"\n",
            "        raw_df = pd.read_csv(data_url, sep=\"\\s+\", skiprows=22, header=None)\n",
            "        data = np.hstack([raw_df.values[::2, :], raw_df.values[1::2, :2]])\n",
            "        target = raw_df.values[1::2, 2]\n",
            "\n",
            "    Alternative datasets include the California housing dataset (i.e.\n",
            "    :func:`~sklearn.datasets.fetch_california_housing`) and the Ames housing\n",
            "    dataset. You can load the datasets as follows::\n",
            "\n",
            "        from sklearn.datasets import fetch_california_housing\n",
            "        housing = fetch_california_housing()\n",
            "\n",
            "    for the California housing dataset and::\n",
            "\n",
            "        from sklearn.datasets import fetch_openml\n",
            "        housing = fetch_openml(name=\"house_prices\", as_frame=True)\n",
            "\n",
            "    for the Ames housing dataset.\n",
            "    \n",
            "  warnings.warn(msg, category=FutureWarning)\n"
          ]
        },
        {
          "data": {
            "text/html": [
              "<div>\n",
              "<style scoped>\n",
              "    .dataframe tbody tr th:only-of-type {\n",
              "        vertical-align: middle;\n",
              "    }\n",
              "\n",
              "    .dataframe tbody tr th {\n",
              "        vertical-align: top;\n",
              "    }\n",
              "\n",
              "    .dataframe thead th {\n",
              "        text-align: right;\n",
              "    }\n",
              "</style>\n",
              "<table border=\"1\" class=\"dataframe\">\n",
              "  <thead>\n",
              "    <tr style=\"text-align: right;\">\n",
              "      <th></th>\n",
              "      <th>CRIM</th>\n",
              "      <th>ZN</th>\n",
              "      <th>INDUS</th>\n",
              "      <th>CHAS</th>\n",
              "      <th>NOX</th>\n",
              "      <th>RM</th>\n",
              "      <th>AGE</th>\n",
              "      <th>DIS</th>\n",
              "      <th>RAD</th>\n",
              "      <th>TAX</th>\n",
              "      <th>PTRATIO</th>\n",
              "      <th>B</th>\n",
              "      <th>LSTAT</th>\n",
              "    </tr>\n",
              "  </thead>\n",
              "  <tbody>\n",
              "    <tr>\n",
              "      <th>0</th>\n",
              "      <td>0.00632</td>\n",
              "      <td>18.0</td>\n",
              "      <td>2.31</td>\n",
              "      <td>0.0</td>\n",
              "      <td>0.538</td>\n",
              "      <td>6.575</td>\n",
              "      <td>65.2</td>\n",
              "      <td>4.0900</td>\n",
              "      <td>1.0</td>\n",
              "      <td>296.0</td>\n",
              "      <td>15.3</td>\n",
              "      <td>396.90</td>\n",
              "      <td>4.98</td>\n",
              "    </tr>\n",
              "    <tr>\n",
              "      <th>1</th>\n",
              "      <td>0.02731</td>\n",
              "      <td>0.0</td>\n",
              "      <td>7.07</td>\n",
              "      <td>0.0</td>\n",
              "      <td>0.469</td>\n",
              "      <td>6.421</td>\n",
              "      <td>78.9</td>\n",
              "      <td>4.9671</td>\n",
              "      <td>2.0</td>\n",
              "      <td>242.0</td>\n",
              "      <td>17.8</td>\n",
              "      <td>396.90</td>\n",
              "      <td>9.14</td>\n",
              "    </tr>\n",
              "    <tr>\n",
              "      <th>2</th>\n",
              "      <td>0.02729</td>\n",
              "      <td>0.0</td>\n",
              "      <td>7.07</td>\n",
              "      <td>0.0</td>\n",
              "      <td>0.469</td>\n",
              "      <td>7.185</td>\n",
              "      <td>61.1</td>\n",
              "      <td>4.9671</td>\n",
              "      <td>2.0</td>\n",
              "      <td>242.0</td>\n",
              "      <td>17.8</td>\n",
              "      <td>392.83</td>\n",
              "      <td>4.03</td>\n",
              "    </tr>\n",
              "    <tr>\n",
              "      <th>3</th>\n",
              "      <td>0.03237</td>\n",
              "      <td>0.0</td>\n",
              "      <td>2.18</td>\n",
              "      <td>0.0</td>\n",
              "      <td>0.458</td>\n",
              "      <td>6.998</td>\n",
              "      <td>45.8</td>\n",
              "      <td>6.0622</td>\n",
              "      <td>3.0</td>\n",
              "      <td>222.0</td>\n",
              "      <td>18.7</td>\n",
              "      <td>394.63</td>\n",
              "      <td>2.94</td>\n",
              "    </tr>\n",
              "    <tr>\n",
              "      <th>4</th>\n",
              "      <td>0.06905</td>\n",
              "      <td>0.0</td>\n",
              "      <td>2.18</td>\n",
              "      <td>0.0</td>\n",
              "      <td>0.458</td>\n",
              "      <td>7.147</td>\n",
              "      <td>54.2</td>\n",
              "      <td>6.0622</td>\n",
              "      <td>3.0</td>\n",
              "      <td>222.0</td>\n",
              "      <td>18.7</td>\n",
              "      <td>396.90</td>\n",
              "      <td>5.33</td>\n",
              "    </tr>\n",
              "  </tbody>\n",
              "</table>\n",
              "</div>"
            ],
            "text/plain": [
              "      CRIM    ZN  INDUS  CHAS    NOX     RM   AGE     DIS  RAD    TAX  \\\n",
              "0  0.00632  18.0   2.31   0.0  0.538  6.575  65.2  4.0900  1.0  296.0   \n",
              "1  0.02731   0.0   7.07   0.0  0.469  6.421  78.9  4.9671  2.0  242.0   \n",
              "2  0.02729   0.0   7.07   0.0  0.469  7.185  61.1  4.9671  2.0  242.0   \n",
              "3  0.03237   0.0   2.18   0.0  0.458  6.998  45.8  6.0622  3.0  222.0   \n",
              "4  0.06905   0.0   2.18   0.0  0.458  7.147  54.2  6.0622  3.0  222.0   \n",
              "\n",
              "   PTRATIO       B  LSTAT  \n",
              "0     15.3  396.90   4.98  \n",
              "1     17.8  396.90   9.14  \n",
              "2     17.8  392.83   4.03  \n",
              "3     18.7  394.63   2.94  \n",
              "4     18.7  396.90   5.33  "
            ]
          },
          "execution_count": 37,
          "metadata": {},
          "output_type": "execute_result"
        }
      ],
      "source": [
        "boston = load_boston()\n",
        "data = boston.data\n",
        "target = boston.target\n",
        "df = pd.DataFrame(data, columns=boston.feature_names)\n",
        "df.head()"
      ]
    },
    {
      "cell_type": "code",
      "execution_count": 38,
      "metadata": {
        "id": "NsoLsyhhlRnY"
      },
      "outputs": [],
      "source": [
        "train_data, test_data, train_target, test_target = train_test_split(data, target, test_size=0.20)"
      ]
    },
    {
      "cell_type": "code",
      "execution_count": 39,
      "metadata": {
        "colab": {
          "base_uri": "https://localhost:8080/"
        },
        "id": "5XOTGC6blRqD",
        "outputId": "99d6d6ac-a6fa-4da3-a072-74065921957f"
      },
      "outputs": [
        {
          "data": {
            "text/plain": [
              "(404, 13)"
            ]
          },
          "execution_count": 39,
          "metadata": {},
          "output_type": "execute_result"
        }
      ],
      "source": [
        "train_data.shape"
      ]
    },
    {
      "cell_type": "code",
      "execution_count": 40,
      "metadata": {
        "id": "vgvVNCxxz-JS"
      },
      "outputs": [],
      "source": [
        "model = keras.Sequential([\n",
        "  keras.layers.Dense(64, activation='relu',\n",
        "                      input_shape=(train_data.shape[1],)),\n",
        "  keras.layers.Dense(32, activation='relu'),\n",
        "  keras.layers.Dense(1)\n",
        "])"
      ]
    },
    {
      "cell_type": "code",
      "execution_count": 41,
      "metadata": {
        "id": "X7YkwIuoz-L-"
      },
      "outputs": [],
      "source": [
        "model.compile(loss='mse', optimizer=keras.optimizers.Adam(learning_rate=0.001), metrics=['accuracy'])"
      ]
    },
    {
      "cell_type": "code",
      "execution_count": 42,
      "metadata": {
        "colab": {
          "base_uri": "https://localhost:8080/"
        },
        "id": "cGOmO9LMz-Oy",
        "outputId": "ea130b79-e024-47f7-a2b7-55ab24329841"
      },
      "outputs": [
        {
          "data": {
            "text/plain": [
              "<keras.callbacks.History at 0x7f82b06af6a0>"
            ]
          },
          "execution_count": 42,
          "metadata": {},
          "output_type": "execute_result"
        }
      ],
      "source": [
        "model.fit(train_data, train_target, epochs=5, verbose = 0)"
      ]
    },
    {
      "cell_type": "code",
      "execution_count": 43,
      "metadata": {
        "colab": {
          "base_uri": "https://localhost:8080/"
        },
        "id": "y8kEqInIz-Q8",
        "outputId": "4872c100-c62f-4f60-f14b-7feee81ef5b3"
      },
      "outputs": [
        {
          "name": "stdout",
          "output_type": "stream",
          "text": [
            "13/13 [==============================] - 0s 977us/step - loss: 65.6052 - accuracy: 0.0000e+00\n"
          ]
        },
        {
          "data": {
            "text/plain": [
              "[65.60521697998047, 0.0]"
            ]
          },
          "execution_count": 43,
          "metadata": {},
          "output_type": "execute_result"
        }
      ],
      "source": [
        "model.evaluate(train_data, train_target)"
      ]
    },
    {
      "cell_type": "markdown",
      "metadata": {
        "id": "uo8ZqqgFk1ft"
      },
      "source": [
        "**2. Измените функцию потерь и метрику для этой задачи. Постройте 10-15 вариантов и сведите результаты их работы в таблицу  Опишите, какого результата вы добились от нейросети? Что помогло вам улучшить ее точность?**"
      ]
    },
    {
      "cell_type": "code",
      "execution_count": 47,
      "metadata": {
        "colab": {
          "base_uri": "https://localhost:8080/",
          "height": 424
        },
        "id": "I3MJSoWP_WUg",
        "outputId": "faa6a002-f46b-47c4-8750-07ad6adfd24f"
      },
      "outputs": [
        {
          "name": "stdout",
          "output_type": "stream",
          "text": [
            "13/13 - 0s - loss: 6.2935 - mean_absolute_error: 6.2935 - 75ms/epoch - 6ms/step\n",
            "4/4 - 0s - loss: 7.4866 - mean_absolute_error: 7.4866 - 18ms/epoch - 4ms/step\n",
            "13/13 - 0s - loss: nan - mean_absolute_error: nan - 92ms/epoch - 7ms/step\n",
            "4/4 - 0s - loss: nan - mean_absolute_error: nan - 23ms/epoch - 6ms/step\n",
            "13/13 - 0s - loss: 6.5659 - mean_squared_error: 87.4990 - 79ms/epoch - 6ms/step\n",
            "4/4 - 0s - loss: 8.4033 - mean_squared_error: 161.8238 - 22ms/epoch - 5ms/step\n",
            "13/13 - 0s - loss: 78.1105 - mean_squared_error: 78.1105 - 78ms/epoch - 6ms/step\n",
            "4/4 - 0s - loss: 110.4572 - mean_squared_error: 110.4572 - 22ms/epoch - 5ms/step\n",
            "13/13 - 0s - loss: 6.2936 - mean_absolute_percentage_error: 33.2988 - 83ms/epoch - 6ms/step\n",
            "4/4 - 0s - loss: 7.4861 - mean_absolute_percentage_error: 33.3857 - 25ms/epoch - 6ms/step\n",
            "13/13 - 0s - loss: nan - mean_absolute_percentage_error: nan - 84ms/epoch - 6ms/step\n",
            "4/4 - 0s - loss: nan - mean_absolute_percentage_error: nan - 20ms/epoch - 5ms/step\n",
            "13/13 - 0s - loss: 3.9871 - mean_absolute_error: 3.9871 - 75ms/epoch - 6ms/step\n",
            "4/4 - 0s - loss: 4.7419 - mean_absolute_error: 4.7419 - 22ms/epoch - 6ms/step\n",
            "13/13 - 0s - loss: 27.3557 - mean_absolute_error: 3.8934 - 73ms/epoch - 6ms/step\n",
            "4/4 - 0s - loss: 45.1401 - mean_absolute_error: 4.7845 - 20ms/epoch - 5ms/step\n",
            "13/13 - 0s - loss: 3.0450 - mean_squared_error: 23.3705 - 76ms/epoch - 6ms/step\n",
            "4/4 - 0s - loss: 4.6098 - mean_squared_error: 46.5278 - 19ms/epoch - 5ms/step\n",
            "13/13 - 0s - loss: 21.0232 - mean_squared_error: 21.0232 - 76ms/epoch - 6ms/step\n",
            "4/4 - 0s - loss: 36.9103 - mean_squared_error: 36.9103 - 22ms/epoch - 5ms/step\n",
            "13/13 - 0s - loss: 4.0696 - mean_absolute_percentage_error: 22.6075 - 81ms/epoch - 6ms/step\n",
            "4/4 - 0s - loss: 5.0237 - mean_absolute_percentage_error: 24.6685 - 25ms/epoch - 6ms/step\n",
            "13/13 - 0s - loss: 52.7362 - mean_absolute_percentage_error: 36.2020 - 82ms/epoch - 6ms/step\n",
            "4/4 - 0s - loss: 53.2603 - mean_absolute_percentage_error: 35.2372 - 21ms/epoch - 5ms/step\n",
            "13/13 - 0s - loss: 2.8041 - mean_absolute_error: 2.8041 - 71ms/epoch - 5ms/step\n",
            "4/4 - 0s - loss: 4.2888 - mean_absolute_error: 4.2888 - 17ms/epoch - 4ms/step\n",
            "13/13 - 0s - loss: 21.5353 - mean_absolute_error: 3.4955 - 72ms/epoch - 6ms/step\n",
            "4/4 - 0s - loss: 35.1218 - mean_absolute_error: 4.4022 - 18ms/epoch - 5ms/step\n",
            "13/13 - 0s - loss: 2.8800 - mean_squared_error: 21.5032 - 430ms/epoch - 33ms/step\n",
            "4/4 - 0s - loss: 3.9963 - mean_squared_error: 39.9194 - 27ms/epoch - 7ms/step\n",
            "13/13 - 0s - loss: 18.0010 - mean_squared_error: 18.0010 - 80ms/epoch - 6ms/step\n",
            "4/4 - 0s - loss: 33.1670 - mean_squared_error: 33.1670 - 26ms/epoch - 7ms/step\n",
            "13/13 - 0s - loss: 2.9704 - mean_absolute_percentage_error: 13.2869 - 83ms/epoch - 6ms/step\n",
            "4/4 - 0s - loss: 4.0875 - mean_absolute_percentage_error: 16.4797 - 22ms/epoch - 5ms/step\n",
            "13/13 - 0s - loss: 17.2468 - mean_absolute_percentage_error: 13.4056 - 86ms/epoch - 7ms/step\n",
            "4/4 - 0s - loss: 30.6749 - mean_absolute_percentage_error: 14.7292 - 22ms/epoch - 5ms/step\n"
          ]
        }
      ],
      "source": [
        "results = []\n",
        "\n",
        "for optim in ['SGD', 'RMSprop', 'Adam']:\n",
        "  for metrics in ['mean_absolute_error', 'mean_squared_error', 'mean_absolute_percentage_error']:\n",
        "      for loss in ['mae', 'mse' ]:\n",
        "        model = keras.Sequential([\n",
        "        keras.layers.Dense(64, activation='relu',input_shape=(train_data.shape[1],)),\n",
        "        keras.layers.Dense(32, activation='relu'),\n",
        "        keras.layers.Dense(1)\n",
        "        ])\n",
        "        result = {}\n",
        "        model.compile(optimizer=optim, loss=loss, metrics=metrics)\n",
        "\n",
        "        model.fit(train_data, train_target, epochs=200, verbose = 0)\n",
        "\n",
        "        loss_train, metric_train = model.evaluate(train_data, train_target, verbose=2)\n",
        "        loss_test, metric_test = model.evaluate(test_data, test_target, verbose=2)\n",
        "\n",
        "        result['metrics'] = metrics\n",
        "        result['loss'] = loss\n",
        "        result['Оптимизатор'] = optim\n",
        "        result['Train'] = round(metric_train, 3)\n",
        "        result['Test'] = round(metric_test,3)\n",
        "        results.append(result)\n",
        "\n",
        "\n",
        "result = pd.DataFrame(results)\n",
        "\n"
      ]
    },
    {
      "cell_type": "markdown",
      "metadata": {},
      "source": []
    },
    {
      "cell_type": "code",
      "execution_count": 48,
      "metadata": {},
      "outputs": [
        {
          "data": {
            "text/html": [
              "<div>\n",
              "<style scoped>\n",
              "    .dataframe tbody tr th:only-of-type {\n",
              "        vertical-align: middle;\n",
              "    }\n",
              "\n",
              "    .dataframe tbody tr th {\n",
              "        vertical-align: top;\n",
              "    }\n",
              "\n",
              "    .dataframe thead th {\n",
              "        text-align: right;\n",
              "    }\n",
              "</style>\n",
              "<table border=\"1\" class=\"dataframe\">\n",
              "  <thead>\n",
              "    <tr style=\"text-align: right;\">\n",
              "      <th></th>\n",
              "      <th>metrics</th>\n",
              "      <th>loss</th>\n",
              "      <th>Оптимизатор</th>\n",
              "      <th>Train</th>\n",
              "      <th>Test</th>\n",
              "    </tr>\n",
              "  </thead>\n",
              "  <tbody>\n",
              "    <tr>\n",
              "      <th>0</th>\n",
              "      <td>mean_absolute_error</td>\n",
              "      <td>mae</td>\n",
              "      <td>SGD</td>\n",
              "      <td>6.293</td>\n",
              "      <td>7.487</td>\n",
              "    </tr>\n",
              "    <tr>\n",
              "      <th>1</th>\n",
              "      <td>mean_absolute_error</td>\n",
              "      <td>mse</td>\n",
              "      <td>SGD</td>\n",
              "      <td>NaN</td>\n",
              "      <td>NaN</td>\n",
              "    </tr>\n",
              "    <tr>\n",
              "      <th>2</th>\n",
              "      <td>mean_squared_error</td>\n",
              "      <td>mae</td>\n",
              "      <td>SGD</td>\n",
              "      <td>87.499</td>\n",
              "      <td>161.824</td>\n",
              "    </tr>\n",
              "    <tr>\n",
              "      <th>3</th>\n",
              "      <td>mean_squared_error</td>\n",
              "      <td>mse</td>\n",
              "      <td>SGD</td>\n",
              "      <td>78.110</td>\n",
              "      <td>110.457</td>\n",
              "    </tr>\n",
              "    <tr>\n",
              "      <th>4</th>\n",
              "      <td>mean_absolute_percentage_error</td>\n",
              "      <td>mae</td>\n",
              "      <td>SGD</td>\n",
              "      <td>33.299</td>\n",
              "      <td>33.386</td>\n",
              "    </tr>\n",
              "    <tr>\n",
              "      <th>5</th>\n",
              "      <td>mean_absolute_percentage_error</td>\n",
              "      <td>mse</td>\n",
              "      <td>SGD</td>\n",
              "      <td>NaN</td>\n",
              "      <td>NaN</td>\n",
              "    </tr>\n",
              "    <tr>\n",
              "      <th>6</th>\n",
              "      <td>mean_absolute_error</td>\n",
              "      <td>mae</td>\n",
              "      <td>RMSprop</td>\n",
              "      <td>3.987</td>\n",
              "      <td>4.742</td>\n",
              "    </tr>\n",
              "    <tr>\n",
              "      <th>7</th>\n",
              "      <td>mean_absolute_error</td>\n",
              "      <td>mse</td>\n",
              "      <td>RMSprop</td>\n",
              "      <td>3.893</td>\n",
              "      <td>4.785</td>\n",
              "    </tr>\n",
              "    <tr>\n",
              "      <th>8</th>\n",
              "      <td>mean_squared_error</td>\n",
              "      <td>mae</td>\n",
              "      <td>RMSprop</td>\n",
              "      <td>23.370</td>\n",
              "      <td>46.528</td>\n",
              "    </tr>\n",
              "    <tr>\n",
              "      <th>9</th>\n",
              "      <td>mean_squared_error</td>\n",
              "      <td>mse</td>\n",
              "      <td>RMSprop</td>\n",
              "      <td>21.023</td>\n",
              "      <td>36.910</td>\n",
              "    </tr>\n",
              "    <tr>\n",
              "      <th>10</th>\n",
              "      <td>mean_absolute_percentage_error</td>\n",
              "      <td>mae</td>\n",
              "      <td>RMSprop</td>\n",
              "      <td>22.607</td>\n",
              "      <td>24.668</td>\n",
              "    </tr>\n",
              "    <tr>\n",
              "      <th>11</th>\n",
              "      <td>mean_absolute_percentage_error</td>\n",
              "      <td>mse</td>\n",
              "      <td>RMSprop</td>\n",
              "      <td>36.202</td>\n",
              "      <td>35.237</td>\n",
              "    </tr>\n",
              "    <tr>\n",
              "      <th>12</th>\n",
              "      <td>mean_absolute_error</td>\n",
              "      <td>mae</td>\n",
              "      <td>Adam</td>\n",
              "      <td>2.804</td>\n",
              "      <td>4.289</td>\n",
              "    </tr>\n",
              "    <tr>\n",
              "      <th>13</th>\n",
              "      <td>mean_absolute_error</td>\n",
              "      <td>mse</td>\n",
              "      <td>Adam</td>\n",
              "      <td>3.495</td>\n",
              "      <td>4.402</td>\n",
              "    </tr>\n",
              "    <tr>\n",
              "      <th>14</th>\n",
              "      <td>mean_squared_error</td>\n",
              "      <td>mae</td>\n",
              "      <td>Adam</td>\n",
              "      <td>21.503</td>\n",
              "      <td>39.919</td>\n",
              "    </tr>\n",
              "    <tr>\n",
              "      <th>15</th>\n",
              "      <td>mean_squared_error</td>\n",
              "      <td>mse</td>\n",
              "      <td>Adam</td>\n",
              "      <td>18.001</td>\n",
              "      <td>33.167</td>\n",
              "    </tr>\n",
              "    <tr>\n",
              "      <th>16</th>\n",
              "      <td>mean_absolute_percentage_error</td>\n",
              "      <td>mae</td>\n",
              "      <td>Adam</td>\n",
              "      <td>13.287</td>\n",
              "      <td>16.480</td>\n",
              "    </tr>\n",
              "    <tr>\n",
              "      <th>17</th>\n",
              "      <td>mean_absolute_percentage_error</td>\n",
              "      <td>mse</td>\n",
              "      <td>Adam</td>\n",
              "      <td>13.406</td>\n",
              "      <td>14.729</td>\n",
              "    </tr>\n",
              "  </tbody>\n",
              "</table>\n",
              "</div>"
            ],
            "text/plain": [
              "                           metrics loss Оптимизатор   Train     Test\n",
              "0              mean_absolute_error  mae         SGD   6.293    7.487\n",
              "1              mean_absolute_error  mse         SGD     NaN      NaN\n",
              "2               mean_squared_error  mae         SGD  87.499  161.824\n",
              "3               mean_squared_error  mse         SGD  78.110  110.457\n",
              "4   mean_absolute_percentage_error  mae         SGD  33.299   33.386\n",
              "5   mean_absolute_percentage_error  mse         SGD     NaN      NaN\n",
              "6              mean_absolute_error  mae     RMSprop   3.987    4.742\n",
              "7              mean_absolute_error  mse     RMSprop   3.893    4.785\n",
              "8               mean_squared_error  mae     RMSprop  23.370   46.528\n",
              "9               mean_squared_error  mse     RMSprop  21.023   36.910\n",
              "10  mean_absolute_percentage_error  mae     RMSprop  22.607   24.668\n",
              "11  mean_absolute_percentage_error  mse     RMSprop  36.202   35.237\n",
              "12             mean_absolute_error  mae        Adam   2.804    4.289\n",
              "13             mean_absolute_error  mse        Adam   3.495    4.402\n",
              "14              mean_squared_error  mae        Adam  21.503   39.919\n",
              "15              mean_squared_error  mse        Adam  18.001   33.167\n",
              "16  mean_absolute_percentage_error  mae        Adam  13.287   16.480\n",
              "17  mean_absolute_percentage_error  mse        Adam  13.406   14.729"
            ]
          },
          "execution_count": 48,
          "metadata": {},
          "output_type": "execute_result"
        }
      ],
      "source": [
        "result"
      ]
    },
    {
      "cell_type": "markdown",
      "metadata": {},
      "source": [
        "Лучше всего mean_absolute_error\tпри любом оптимизаторе, думаю это потому что данные без предподготовки\t"
      ]
    }
  ],
  "metadata": {
    "accelerator": "GPU",
    "colab": {
      "collapsed_sections": [],
      "name": "HW3.ipynb",
      "provenance": []
    },
    "kernelspec": {
      "display_name": "Python 3",
      "name": "python3"
    },
    "language_info": {
      "codemirror_mode": {
        "name": "ipython",
        "version": 3
      },
      "file_extension": ".py",
      "mimetype": "text/x-python",
      "name": "python",
      "nbconvert_exporter": "python",
      "pygments_lexer": "ipython3",
      "version": "3.8.10"
    }
  },
  "nbformat": 4,
  "nbformat_minor": 0
}
