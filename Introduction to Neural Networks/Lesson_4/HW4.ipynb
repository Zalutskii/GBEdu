{
  "cells": [
    {
      "cell_type": "markdown",
      "metadata": {
        "id": "wgdvGcXKGTpV"
      },
      "source": [
        "\n",
        "Вариант 1. (простой)\n",
        "\n",
        "- обучить сверточную нейронную сеть в стиле AlexNet (с падением размера ядра свертки и последовательностью блоков свертка-пулинг  (conv-pool)-(conv-pool)-...) на датасете fashion-mnist"
      ]
    },
    {
      "cell_type": "code",
      "execution_count": 27,
      "metadata": {
        "id": "BdI3U0hhGXvU"
      },
      "outputs": [],
      "source": [
        "import pandas as pd\n",
        "\n",
        "from tensorflow.keras.models import Sequential\n",
        "from tensorflow.keras import models, layers\n",
        "from  tensorflow.keras.layers import Dense\n",
        "from  tensorflow.keras.utils import to_categorical\n",
        "\n",
        "from tensorflow.keras.utils import to_categorical\n",
        "from keras.datasets import fashion_mnist"
      ]
    },
    {
      "cell_type": "code",
      "execution_count": 28,
      "metadata": {
        "colab": {
          "base_uri": "https://localhost:8080/"
        },
        "id": "foLrEi7TG3Lp",
        "outputId": "da6d3560-e766-40c8-a84c-fd37d658d9e1"
      },
      "outputs": [],
      "source": [
        "(x_train, y_train), (x_test, y_test)=fashion_mnist.load_data()"
      ]
    },
    {
      "cell_type": "code",
      "execution_count": 29,
      "metadata": {
        "id": "7y9H-7j4G3Oc"
      },
      "outputs": [],
      "source": [
        "x_train = x_train.astype('float32')\n",
        "x_test = x_test.astype('float32')\n",
        "\n",
        "x_train /= 255 \n",
        "x_test /= 255 \n",
        "\n",
        "y_train = to_categorical(y_train, 10) \n",
        "y_test = to_categorical(y_test, 10) \n",
        "\n",
        "x_train = x_train.reshape(x_train.shape[0], 28,28,1)\n",
        "x_test = x_test.reshape(x_test.shape[0], 28,28,1)"
      ]
    },
    {
      "cell_type": "markdown",
      "metadata": {
        "id": "MycQB0jmGTsI"
      },
      "source": [
        "- оценить рост точности при увеличении ширины сети (больше ядер)\n"
      ]
    },
    {
      "cell_type": "code",
      "execution_count": 30,
      "metadata": {
        "id": "lmATeMz1FgkU"
      },
      "outputs": [],
      "source": [
        "results = []"
      ]
    },
    {
      "cell_type": "code",
      "execution_count": 31,
      "metadata": {
        "colab": {
          "base_uri": "https://localhost:8080/"
        },
        "id": "-8_U4QxYG3RT",
        "outputId": "0b7f60df-c8e8-4b0b-8882-ecb6342a71e8"
      },
      "outputs": [
        {
          "name": "stdout",
          "output_type": "stream",
          "text": [
            "Epoch 1/2\n",
            "469/469 [==============================] - 33s 70ms/step - loss: 1.0272 - accuracy: 0.6450 - val_loss: 0.6985 - val_accuracy: 0.7361\n",
            "Epoch 2/2\n",
            "469/469 [==============================] - 31s 66ms/step - loss: 0.6429 - accuracy: 0.7582 - val_loss: 0.6151 - val_accuracy: 0.7630\n",
            "Epoch 1/2\n",
            "469/469 [==============================] - 31s 66ms/step - loss: 1.1064 - accuracy: 0.6207 - val_loss: 0.7097 - val_accuracy: 0.7359\n",
            "Epoch 2/2\n",
            "469/469 [==============================] - 31s 66ms/step - loss: 0.6506 - accuracy: 0.7610 - val_loss: 0.7173 - val_accuracy: 0.7427\n",
            "Epoch 1/2\n",
            "469/469 [==============================] - 37s 77ms/step - loss: 1.0549 - accuracy: 0.6351 - val_loss: 0.7184 - val_accuracy: 0.7253\n",
            "Epoch 2/2\n",
            "469/469 [==============================] - 35s 75ms/step - loss: 0.6478 - accuracy: 0.7615 - val_loss: 0.6350 - val_accuracy: 0.7753\n",
            "Epoch 1/2\n",
            "469/469 [==============================] - 31s 66ms/step - loss: 1.1581 - accuracy: 0.5925 - val_loss: 0.7363 - val_accuracy: 0.7149\n",
            "Epoch 2/2\n",
            "469/469 [==============================] - 30s 64ms/step - loss: 0.6482 - accuracy: 0.7564 - val_loss: 0.6108 - val_accuracy: 0.7715\n",
            "Epoch 1/2\n",
            "469/469 [==============================] - 31s 66ms/step - loss: 1.0345 - accuracy: 0.6374 - val_loss: 0.8070 - val_accuracy: 0.7131\n",
            "Epoch 2/2\n",
            "469/469 [==============================] - 31s 66ms/step - loss: 0.6372 - accuracy: 0.7641 - val_loss: 0.6115 - val_accuracy: 0.7754\n",
            "Epoch 1/2\n",
            "469/469 [==============================] - 35s 73ms/step - loss: 1.0264 - accuracy: 0.6388 - val_loss: 0.7394 - val_accuracy: 0.7231\n",
            "Epoch 2/2\n",
            "469/469 [==============================] - 31s 66ms/step - loss: 0.6446 - accuracy: 0.7619 - val_loss: 0.6346 - val_accuracy: 0.7684\n",
            "Epoch 1/2\n",
            "469/469 [==============================] - 35s 74ms/step - loss: 1.1833 - accuracy: 0.5897 - val_loss: 0.7426 - val_accuracy: 0.7128\n",
            "Epoch 2/2\n",
            "469/469 [==============================] - 34s 72ms/step - loss: 0.6747 - accuracy: 0.7484 - val_loss: 0.6215 - val_accuracy: 0.7682\n",
            "Epoch 1/2\n",
            "469/469 [==============================] - 38s 80ms/step - loss: 1.0946 - accuracy: 0.6135 - val_loss: 0.7173 - val_accuracy: 0.7357\n",
            "Epoch 2/2\n",
            "469/469 [==============================] - 32s 68ms/step - loss: 0.6504 - accuracy: 0.7606 - val_loss: 0.6112 - val_accuracy: 0.7801\n",
            "Epoch 1/2\n",
            "469/469 [==============================] - 33s 70ms/step - loss: 1.0924 - accuracy: 0.6221 - val_loss: 0.7829 - val_accuracy: 0.7113\n",
            "Epoch 2/2\n",
            "469/469 [==============================] - 32s 68ms/step - loss: 0.6705 - accuracy: 0.7523 - val_loss: 0.6234 - val_accuracy: 0.7623\n",
            "Epoch 1/2\n",
            "469/469 [==============================] - 29s 61ms/step - loss: 1.1235 - accuracy: 0.6086 - val_loss: 0.7156 - val_accuracy: 0.7468\n",
            "Epoch 2/2\n",
            "469/469 [==============================] - 28s 60ms/step - loss: 0.6345 - accuracy: 0.7626 - val_loss: 0.6194 - val_accuracy: 0.7645\n",
            "Epoch 1/2\n",
            "469/469 [==============================] - 28s 59ms/step - loss: 1.0234 - accuracy: 0.6398 - val_loss: 0.7796 - val_accuracy: 0.7096\n",
            "Epoch 2/2\n",
            "469/469 [==============================] - 28s 59ms/step - loss: 0.6641 - accuracy: 0.7519 - val_loss: 0.7142 - val_accuracy: 0.7204\n"
          ]
        }
      ],
      "source": [
        "for i in range (11):\n",
        "  result = {}\n",
        "  model = Sequential()\n",
        "  model.add(layers.Conv2D(12, kernel_size=(5, 5), strides=(1, 1), activation='relu', input_shape=(28,28,1), padding=\"same\"))\n",
        "  model.add(layers.AveragePooling2D(pool_size=(2, 2), strides=(1, 1), padding='valid'))\n",
        "  model.add(layers.Conv2D(32, kernel_size=(3, 3), strides=(1, 1), activation='relu', padding='valid'))\n",
        "  model.add(layers.AveragePooling2D(pool_size=(2, 2), strides=(2, 2), padding='valid'))\n",
        "  model.add(layers.Conv2D(120, kernel_size=(2, 2), strides=(1, 1), activation='relu', padding='valid'))\n",
        "  model.add(layers.Flatten())\n",
        "  model.add(layers.Dense(84, activation='relu'))\n",
        "  model.add(layers.Dense(10, activation='softmax'))\n",
        "\n",
        "  model.compile(loss=keras.losses.categorical_crossentropy, optimizer='SGD', metrics=[\"accuracy\"])\n",
        "  hh = model.fit(x=x_train,y=y_train, epochs=2, batch_size=128, validation_data=(x_test, y_test), verbose=1)\n",
        "\n",
        "  result['neurons'] = '12, 32, 120'\n",
        "  result['kernels'] = '5, 3, 2'\n",
        "  result['Conv_layer'] = 3\n",
        "  result['Pooling_layer'] = 2\n",
        "  result['accuracy_tr']= hh.history['accuracy'][-1]\n",
        "  result['accuracy_val']= hh.history['val_accuracy'][-1]\n",
        "\n",
        "  results.append(result)"
      ]
    },
    {
      "cell_type": "code",
      "execution_count": 32,
      "metadata": {},
      "outputs": [
        {
          "name": "stdout",
          "output_type": "stream",
          "text": [
            "Epoch 1/2\n",
            "469/469 [==============================] - 76s 162ms/step - loss: 0.8329 - accuracy: 0.7039 - val_loss: 0.6087 - val_accuracy: 0.7687\n",
            "Epoch 2/2\n",
            "469/469 [==============================] - 74s 159ms/step - loss: 0.5271 - accuracy: 0.8077 - val_loss: 0.5517 - val_accuracy: 0.7887\n",
            "Epoch 1/2\n",
            "469/469 [==============================] - 69s 146ms/step - loss: 0.8991 - accuracy: 0.6828 - val_loss: 0.6831 - val_accuracy: 0.7427\n",
            "Epoch 2/2\n",
            "469/469 [==============================] - 71s 152ms/step - loss: 0.5507 - accuracy: 0.7985 - val_loss: 0.5255 - val_accuracy: 0.8089\n",
            "Epoch 1/2\n",
            "469/469 [==============================] - 72s 152ms/step - loss: 0.9272 - accuracy: 0.6786 - val_loss: 0.8419 - val_accuracy: 0.7201\n",
            "Epoch 2/2\n",
            "469/469 [==============================] - 69s 147ms/step - loss: 0.5544 - accuracy: 0.7977 - val_loss: 0.5601 - val_accuracy: 0.7992\n",
            "Epoch 1/2\n",
            "469/469 [==============================] - 80s 169ms/step - loss: 0.8380 - accuracy: 0.7069 - val_loss: 0.6023 - val_accuracy: 0.7682\n",
            "Epoch 2/2\n",
            "469/469 [==============================] - 77s 163ms/step - loss: 0.5383 - accuracy: 0.8028 - val_loss: 0.5443 - val_accuracy: 0.7911\n",
            "Epoch 1/2\n",
            "469/469 [==============================] - 79s 168ms/step - loss: 0.8828 - accuracy: 0.6983 - val_loss: 0.6555 - val_accuracy: 0.7567\n",
            "Epoch 2/2\n",
            "469/469 [==============================] - 80s 170ms/step - loss: 0.5354 - accuracy: 0.8072 - val_loss: 0.5235 - val_accuracy: 0.8139\n",
            "Epoch 1/2\n",
            "469/469 [==============================] - 78s 167ms/step - loss: 0.8775 - accuracy: 0.7033 - val_loss: 0.6086 - val_accuracy: 0.7746\n",
            "Epoch 2/2\n",
            "469/469 [==============================] - 80s 171ms/step - loss: 0.5294 - accuracy: 0.8089 - val_loss: 0.5028 - val_accuracy: 0.8181\n",
            "Epoch 1/2\n",
            "469/469 [==============================] - 79s 168ms/step - loss: 0.8662 - accuracy: 0.7034 - val_loss: 0.6052 - val_accuracy: 0.7802\n",
            "Epoch 2/2\n",
            "469/469 [==============================] - 80s 171ms/step - loss: 0.5391 - accuracy: 0.8066 - val_loss: 0.5359 - val_accuracy: 0.8075\n",
            "Epoch 1/2\n",
            "469/469 [==============================] - 79s 168ms/step - loss: 0.9348 - accuracy: 0.6763 - val_loss: 0.7532 - val_accuracy: 0.7210\n",
            "Epoch 2/2\n",
            "469/469 [==============================] - 71s 151ms/step - loss: 0.5647 - accuracy: 0.7934 - val_loss: 0.5254 - val_accuracy: 0.8091\n",
            "Epoch 1/2\n",
            "469/469 [==============================] - 72s 152ms/step - loss: 0.8656 - accuracy: 0.7025 - val_loss: 0.6113 - val_accuracy: 0.7746\n",
            "Epoch 2/2\n",
            "469/469 [==============================] - 71s 152ms/step - loss: 0.5243 - accuracy: 0.8101 - val_loss: 0.5453 - val_accuracy: 0.7949\n",
            "Epoch 1/2\n",
            "469/469 [==============================] - 72s 153ms/step - loss: 0.9160 - accuracy: 0.6859 - val_loss: 0.5837 - val_accuracy: 0.7901\n",
            "Epoch 2/2\n",
            "469/469 [==============================] - 71s 151ms/step - loss: 0.5304 - accuracy: 0.8100 - val_loss: 0.5224 - val_accuracy: 0.8156\n",
            "Epoch 1/2\n",
            "469/469 [==============================] - 68s 144ms/step - loss: 0.8377 - accuracy: 0.7065 - val_loss: 0.6333 - val_accuracy: 0.7568\n",
            "Epoch 2/2\n",
            "469/469 [==============================] - 68s 145ms/step - loss: 0.5355 - accuracy: 0.8055 - val_loss: 0.5172 - val_accuracy: 0.8110\n"
          ]
        }
      ],
      "source": [
        "for i in range (11):\n",
        "  result = {}\n",
        "  model = Sequential()\n",
        "  model.add(layers.Conv2D(12, kernel_size=(5, 5), strides=(1, 1), activation='relu', input_shape=(28,28,1), padding=\"same\"))\n",
        "  model.add(layers.Conv2D(32, kernel_size=(3, 3), strides=(1, 1), activation='relu', padding='valid'))\n",
        "  model.add(layers.Conv2D(120, kernel_size=(2, 2), strides=(1, 1), activation='relu', padding='valid'))\n",
        "  model.add(layers.Flatten())\n",
        "  model.add(layers.Dense(84, activation='relu'))\n",
        "  model.add(layers.Dense(10, activation='softmax'))\n",
        "\n",
        "  model.compile(loss=keras.losses.categorical_crossentropy, optimizer='SGD', metrics=[\"accuracy\"])\n",
        "  hh = model.fit(x=x_train,y=y_train, epochs=2, batch_size=128, validation_data=(x_test, y_test), verbose=1)\n",
        "\n",
        "  result['neurons'] = '12, 32, 120'\n",
        "  result['kernels'] = '5, 3, 2'\n",
        "  result['Conv_layer'] = 3\n",
        "  result['Pooling_layer'] = 0\n",
        "  result['accuracy_tr']= hh.history['accuracy'][-1]\n",
        "  result['accuracy_val']= hh.history['val_accuracy'][-1]\n",
        "\n",
        "  results.append(result)"
      ]
    },
    {
      "cell_type": "code",
      "execution_count": 33,
      "metadata": {
        "colab": {
          "base_uri": "https://localhost:8080/"
        },
        "id": "waHVWypoR4g5",
        "outputId": "818bf1dc-8f53-4f1e-8342-e02f2931e47e"
      },
      "outputs": [
        {
          "name": "stdout",
          "output_type": "stream",
          "text": [
            "Epoch 1/2\n",
            "469/469 [==============================] - 41s 87ms/step - loss: 1.1097 - accuracy: 0.6183 - val_loss: 0.7515 - val_accuracy: 0.7168\n",
            "Epoch 2/2\n",
            "469/469 [==============================] - 40s 85ms/step - loss: 0.6513 - accuracy: 0.7611 - val_loss: 0.6125 - val_accuracy: 0.7778\n",
            "Epoch 1/2\n",
            "469/469 [==============================] - 40s 85ms/step - loss: 1.0758 - accuracy: 0.6275 - val_loss: 0.7403 - val_accuracy: 0.7231\n",
            "Epoch 2/2\n",
            "469/469 [==============================] - 39s 84ms/step - loss: 0.6536 - accuracy: 0.7602 - val_loss: 0.6413 - val_accuracy: 0.7589\n",
            "Epoch 1/2\n",
            "469/469 [==============================] - 40s 85ms/step - loss: 1.1572 - accuracy: 0.5832 - val_loss: 0.8159 - val_accuracy: 0.6983\n",
            "Epoch 2/2\n",
            "469/469 [==============================] - 40s 85ms/step - loss: 0.6968 - accuracy: 0.7378 - val_loss: 0.6360 - val_accuracy: 0.7583\n",
            "Epoch 1/2\n",
            "469/469 [==============================] - 41s 87ms/step - loss: 1.1566 - accuracy: 0.5799 - val_loss: 0.7680 - val_accuracy: 0.7076\n",
            "Epoch 2/2\n",
            "469/469 [==============================] - 40s 85ms/step - loss: 0.6768 - accuracy: 0.7503 - val_loss: 0.6526 - val_accuracy: 0.7644\n",
            "Epoch 1/2\n",
            "469/469 [==============================] - 40s 85ms/step - loss: 1.1203 - accuracy: 0.6084 - val_loss: 0.7278 - val_accuracy: 0.7343\n",
            "Epoch 2/2\n",
            "469/469 [==============================] - 40s 85ms/step - loss: 0.6550 - accuracy: 0.7584 - val_loss: 0.6702 - val_accuracy: 0.7561\n",
            "Epoch 1/2\n",
            "469/469 [==============================] - 41s 88ms/step - loss: 1.1057 - accuracy: 0.6151 - val_loss: 0.8067 - val_accuracy: 0.6716\n",
            "Epoch 2/2\n",
            "469/469 [==============================] - 41s 87ms/step - loss: 0.6403 - accuracy: 0.7652 - val_loss: 0.6067 - val_accuracy: 0.7777\n",
            "Epoch 1/2\n",
            "469/469 [==============================] - 40s 85ms/step - loss: 1.1257 - accuracy: 0.6071 - val_loss: 0.7664 - val_accuracy: 0.7214\n",
            "Epoch 2/2\n",
            "469/469 [==============================] - 40s 86ms/step - loss: 0.6456 - accuracy: 0.7635 - val_loss: 0.6469 - val_accuracy: 0.7376\n",
            "Epoch 1/2\n",
            "469/469 [==============================] - 40s 85ms/step - loss: 1.1390 - accuracy: 0.5902 - val_loss: 0.7340 - val_accuracy: 0.7303\n",
            "Epoch 2/2\n",
            "469/469 [==============================] - 39s 84ms/step - loss: 0.6608 - accuracy: 0.7549 - val_loss: 0.6684 - val_accuracy: 0.7532\n",
            "Epoch 1/2\n",
            "469/469 [==============================] - 40s 85ms/step - loss: 1.0606 - accuracy: 0.6127 - val_loss: 0.7170 - val_accuracy: 0.7226\n",
            "Epoch 2/2\n",
            "469/469 [==============================] - 44s 93ms/step - loss: 0.6351 - accuracy: 0.7639 - val_loss: 0.6407 - val_accuracy: 0.7400\n",
            "Epoch 1/2\n",
            "469/469 [==============================] - 52s 111ms/step - loss: 1.0699 - accuracy: 0.6061 - val_loss: 0.8376 - val_accuracy: 0.6961\n",
            "Epoch 2/2\n",
            "469/469 [==============================] - 50s 106ms/step - loss: 0.6599 - accuracy: 0.7533 - val_loss: 0.6586 - val_accuracy: 0.7580\n",
            "Epoch 1/2\n",
            "469/469 [==============================] - 47s 100ms/step - loss: 1.0886 - accuracy: 0.6082 - val_loss: 0.8561 - val_accuracy: 0.6992\n",
            "Epoch 2/2\n",
            "469/469 [==============================] - 47s 100ms/step - loss: 0.6678 - accuracy: 0.7526 - val_loss: 0.6437 - val_accuracy: 0.7587\n"
          ]
        }
      ],
      "source": [
        "for i in range (11):\n",
        "  result = {}\n",
        "  model = Sequential()\n",
        "  model.add(layers.Conv2D(12, kernel_size=(10, 10), strides=(1, 1), activation='relu', input_shape=(28,28,1), padding=\"same\"))\n",
        "  model.add(layers.AveragePooling2D(pool_size=(2, 2), strides=(1, 1), padding='valid'))\n",
        "  model.add(layers.Conv2D(32, kernel_size=(5, 5), strides=(1, 1), activation='relu', padding='valid'))\n",
        "  model.add(layers.AveragePooling2D(pool_size=(2, 2), strides=(2, 2), padding='valid'))\n",
        "  model.add(layers.Conv2D(120, kernel_size=(3, 3), strides=(1, 1), activation='relu', padding='valid'))\n",
        "  model.add(layers.Flatten())\n",
        "  model.add(layers.Dense(84, activation='relu'))\n",
        "  model.add(layers.Dense(10, activation='softmax'))\n",
        "\n",
        "  model.compile(loss=keras.losses.categorical_crossentropy, optimizer='SGD', metrics=[\"accuracy\"])\n",
        "  hh = model.fit(x=x_train,y=y_train, epochs=2, batch_size=128, validation_data=(x_test, y_test), verbose=1)\n",
        "\n",
        "  result['neurons'] = '12, 32, 120'\n",
        "  result['kernels'] = '10, 5, 3'\n",
        "  result['Conv_layer'] = 3\n",
        "  result['Pooling_layer'] = 2\n",
        "  result['accuracy_tr']= hh.history['accuracy'][-1]\n",
        "  result['accuracy_val']= hh.history['val_accuracy'][-1]\n",
        "\n",
        "  results.append(result)"
      ]
    },
    {
      "cell_type": "code",
      "execution_count": 34,
      "metadata": {
        "colab": {
          "base_uri": "https://localhost:8080/"
        },
        "id": "twl6WV40SGm_",
        "outputId": "a75eb0f1-d1b3-452f-832b-bd5a03529fe7"
      },
      "outputs": [
        {
          "name": "stdout",
          "output_type": "stream",
          "text": [
            "Epoch 1/2\n",
            "469/469 [==============================] - 103s 219ms/step - loss: 1.0785 - accuracy: 0.6040 - val_loss: 0.7298 - val_accuracy: 0.7267\n",
            "Epoch 2/2\n",
            "469/469 [==============================] - 101s 216ms/step - loss: 0.6279 - accuracy: 0.7695 - val_loss: 0.5933 - val_accuracy: 0.7865\n",
            "Epoch 1/2\n",
            "469/469 [==============================] - 88s 187ms/step - loss: 1.0430 - accuracy: 0.6239 - val_loss: 0.7453 - val_accuracy: 0.7198\n",
            "Epoch 2/2\n",
            "469/469 [==============================] - 86s 183ms/step - loss: 0.6365 - accuracy: 0.7653 - val_loss: 0.5953 - val_accuracy: 0.7784\n",
            "Epoch 1/2\n",
            "469/469 [==============================] - 87s 185ms/step - loss: 1.0480 - accuracy: 0.6148 - val_loss: 0.7663 - val_accuracy: 0.7039\n",
            "Epoch 2/2\n",
            "469/469 [==============================] - 98s 210ms/step - loss: 0.6387 - accuracy: 0.7656 - val_loss: 0.6058 - val_accuracy: 0.7772\n",
            "Epoch 1/2\n",
            "469/469 [==============================] - 105s 223ms/step - loss: 1.0808 - accuracy: 0.6096 - val_loss: 0.7014 - val_accuracy: 0.7297\n",
            "Epoch 2/2\n",
            "469/469 [==============================] - 102s 218ms/step - loss: 0.6367 - accuracy: 0.7610 - val_loss: 0.6406 - val_accuracy: 0.7628\n",
            "Epoch 1/2\n",
            "469/469 [==============================] - 91s 195ms/step - loss: 1.0389 - accuracy: 0.6283 - val_loss: 0.7154 - val_accuracy: 0.7308\n",
            "Epoch 2/2\n",
            "469/469 [==============================] - 92s 196ms/step - loss: 0.6393 - accuracy: 0.7643 - val_loss: 0.6118 - val_accuracy: 0.7716\n",
            "Epoch 1/2\n",
            "469/469 [==============================] - 93s 199ms/step - loss: 1.0714 - accuracy: 0.6227 - val_loss: 0.7275 - val_accuracy: 0.7145\n",
            "Epoch 2/2\n",
            "469/469 [==============================] - 93s 197ms/step - loss: 0.6357 - accuracy: 0.7674 - val_loss: 0.6562 - val_accuracy: 0.7589\n",
            "Epoch 1/2\n",
            "469/469 [==============================] - 97s 206ms/step - loss: 1.0821 - accuracy: 0.6009 - val_loss: 0.6968 - val_accuracy: 0.7426\n",
            "Epoch 2/2\n",
            "469/469 [==============================] - 101s 214ms/step - loss: 0.6336 - accuracy: 0.7671 - val_loss: 0.5977 - val_accuracy: 0.7790\n",
            "Epoch 1/2\n",
            "469/469 [==============================] - 103s 218ms/step - loss: 1.1093 - accuracy: 0.5945 - val_loss: 0.6909 - val_accuracy: 0.7517\n",
            "Epoch 2/2\n",
            "469/469 [==============================] - 88s 188ms/step - loss: 0.6213 - accuracy: 0.7717 - val_loss: 0.6071 - val_accuracy: 0.7774\n",
            "Epoch 1/2\n",
            "469/469 [==============================] - 86s 182ms/step - loss: 1.1047 - accuracy: 0.5962 - val_loss: 0.7121 - val_accuracy: 0.7374\n",
            "Epoch 2/2\n",
            "469/469 [==============================] - 85s 182ms/step - loss: 0.6343 - accuracy: 0.7643 - val_loss: 0.5932 - val_accuracy: 0.7863\n",
            "Epoch 1/2\n",
            "469/469 [==============================] - 86s 182ms/step - loss: 1.0287 - accuracy: 0.6321 - val_loss: 0.7244 - val_accuracy: 0.7221\n",
            "Epoch 2/2\n",
            "469/469 [==============================] - 87s 186ms/step - loss: 0.6375 - accuracy: 0.7649 - val_loss: 0.6205 - val_accuracy: 0.7773\n",
            "Epoch 1/2\n",
            "469/469 [==============================] - 85s 182ms/step - loss: 1.1620 - accuracy: 0.5799 - val_loss: 0.8206 - val_accuracy: 0.6809\n",
            "Epoch 2/2\n",
            "469/469 [==============================] - 90s 192ms/step - loss: 0.6695 - accuracy: 0.7511 - val_loss: 0.6200 - val_accuracy: 0.7752\n"
          ]
        }
      ],
      "source": [
        "for i in range (11):\n",
        "  result = {}\n",
        "  model = Sequential()\n",
        "  model.add(layers.Conv2D(12, kernel_size=(20, 20), strides=(1, 1), activation='relu', input_shape=(28,28,1), padding=\"same\"))\n",
        "  model.add(layers.AveragePooling2D(pool_size=(2, 2), strides=(1, 1), padding='valid'))\n",
        "  model.add(layers.Conv2D(32, kernel_size=(10, 10), strides=(1, 1), activation='relu', padding='valid'))\n",
        "  model.add(layers.AveragePooling2D(pool_size=(2, 2), strides=(2, 2), padding='valid'))\n",
        "  model.add(layers.Conv2D(120, kernel_size=(5, 5), strides=(1, 1), activation='relu', padding='valid'))\n",
        "  model.add(layers.Flatten())\n",
        "  model.add(layers.Dense(84, activation='relu'))\n",
        "  model.add(layers.Dense(10, activation='softmax'))\n",
        "\n",
        "  model.compile(loss=keras.losses.categorical_crossentropy, optimizer='SGD', metrics=[\"accuracy\"])\n",
        "  hh = model.fit(x=x_train,y=y_train, epochs=2, batch_size=128, validation_data=(x_test, y_test), verbose=1)\n",
        "\n",
        "  result['neurons'] = '12, 32, 120'\n",
        "  result['kernels'] = '20, 10, 5'\n",
        "  result['Conv_layer'] = 3\n",
        "  result['Pooling_layer'] = 2\n",
        "  result['accuracy_tr']= hh.history['accuracy'][-1]\n",
        "  result['accuracy_val']= hh.history['val_accuracy'][-1]\n",
        "\n",
        "  results.append(result)"
      ]
    },
    {
      "cell_type": "markdown",
      "metadata": {
        "id": "vAK_bO0tGTvB"
      },
      "source": [
        "- оценить рост точности при увеличении глубины сети (больше слоев)\n"
      ]
    },
    {
      "cell_type": "code",
      "execution_count": 35,
      "metadata": {
        "colab": {
          "base_uri": "https://localhost:8080/"
        },
        "id": "RikJ0ovWcod4",
        "outputId": "f08c8751-ec68-4801-a10d-2e001392f48b"
      },
      "outputs": [
        {
          "name": "stdout",
          "output_type": "stream",
          "text": [
            "Epoch 1/2\n",
            "469/469 [==============================] - 38s 81ms/step - loss: 1.4637 - accuracy: 0.4560 - val_loss: 0.8396 - val_accuracy: 0.6745\n",
            "Epoch 2/2\n",
            "469/469 [==============================] - 37s 78ms/step - loss: 0.7608 - accuracy: 0.7121 - val_loss: 0.7130 - val_accuracy: 0.7371\n",
            "Epoch 1/2\n",
            "469/469 [==============================] - 39s 81ms/step - loss: 2.0137 - accuracy: 0.3282 - val_loss: 1.0327 - val_accuracy: 0.6422\n",
            "Epoch 2/2\n",
            "469/469 [==============================] - 37s 78ms/step - loss: 0.8630 - accuracy: 0.6821 - val_loss: 0.8278 - val_accuracy: 0.6934\n",
            "Epoch 1/2\n",
            "469/469 [==============================] - 38s 80ms/step - loss: 1.9264 - accuracy: 0.3374 - val_loss: 0.9255 - val_accuracy: 0.6656\n",
            "Epoch 2/2\n",
            "469/469 [==============================] - 37s 78ms/step - loss: 0.8039 - accuracy: 0.6999 - val_loss: 0.8030 - val_accuracy: 0.6971\n",
            "Epoch 1/2\n",
            "469/469 [==============================] - 37s 77ms/step - loss: 1.4854 - accuracy: 0.4766 - val_loss: 0.8898 - val_accuracy: 0.6691\n",
            "Epoch 2/2\n",
            "469/469 [==============================] - 33s 70ms/step - loss: 0.7556 - accuracy: 0.7162 - val_loss: 0.7468 - val_accuracy: 0.7140\n",
            "Epoch 1/2\n",
            "469/469 [==============================] - 32s 69ms/step - loss: 1.6821 - accuracy: 0.3833 - val_loss: 0.9408 - val_accuracy: 0.6346\n",
            "Epoch 2/2\n",
            "469/469 [==============================] - 32s 68ms/step - loss: 0.7738 - accuracy: 0.7126 - val_loss: 0.7321 - val_accuracy: 0.7330\n",
            "Epoch 1/2\n",
            "469/469 [==============================] - 33s 69ms/step - loss: 1.4800 - accuracy: 0.4792 - val_loss: 0.8345 - val_accuracy: 0.6769\n",
            "Epoch 2/2\n",
            "469/469 [==============================] - 32s 69ms/step - loss: 0.7505 - accuracy: 0.7169 - val_loss: 0.7423 - val_accuracy: 0.7220\n",
            "Epoch 1/2\n",
            "469/469 [==============================] - 32s 68ms/step - loss: 1.4430 - accuracy: 0.4890 - val_loss: 0.8965 - val_accuracy: 0.6710\n",
            "Epoch 2/2\n",
            "469/469 [==============================] - 32s 68ms/step - loss: 0.7720 - accuracy: 0.7117 - val_loss: 0.8229 - val_accuracy: 0.6812\n",
            "Epoch 1/2\n",
            "469/469 [==============================] - 32s 69ms/step - loss: 1.4088 - accuracy: 0.5066 - val_loss: 0.9987 - val_accuracy: 0.6118\n",
            "Epoch 2/2\n",
            "469/469 [==============================] - 32s 68ms/step - loss: 0.7563 - accuracy: 0.7142 - val_loss: 0.7505 - val_accuracy: 0.7264\n",
            "Epoch 1/2\n",
            "469/469 [==============================] - 32s 69ms/step - loss: 1.4819 - accuracy: 0.4559 - val_loss: 0.9250 - val_accuracy: 0.6562\n",
            "Epoch 2/2\n",
            "469/469 [==============================] - 32s 68ms/step - loss: 0.7561 - accuracy: 0.7186 - val_loss: 0.7953 - val_accuracy: 0.6989\n",
            "Epoch 1/2\n",
            "469/469 [==============================] - 32s 68ms/step - loss: 1.6555 - accuracy: 0.4266 - val_loss: 0.9796 - val_accuracy: 0.6732\n",
            "Epoch 2/2\n",
            "469/469 [==============================] - 32s 68ms/step - loss: 0.7633 - accuracy: 0.7155 - val_loss: 0.6668 - val_accuracy: 0.7517\n",
            "Epoch 1/2\n",
            "469/469 [==============================] - 33s 70ms/step - loss: 1.7393 - accuracy: 0.4387 - val_loss: 0.9217 - val_accuracy: 0.6482\n",
            "Epoch 2/2\n",
            "469/469 [==============================] - 32s 68ms/step - loss: 0.7842 - accuracy: 0.7034 - val_loss: 0.8006 - val_accuracy: 0.6976\n"
          ]
        }
      ],
      "source": [
        "for i in range (11):\n",
        "  result = {}\n",
        "\n",
        "  model = Sequential()\n",
        "\n",
        "  model.add(layers.Conv2D(6, kernel_size=(6, 6), strides=(1, 1), activation='relu', padding=\"same\"))\n",
        "  model.add(layers.Conv2D(12, kernel_size=(5, 5), strides=(1, 1), activation='relu', input_shape=(28,28,1), padding='valid'))\n",
        "  model.add(layers.AveragePooling2D(pool_size=(2, 2), strides=(1, 1), padding='valid'))\n",
        "  model.add(layers.Conv2D(32, kernel_size=(4, 4), strides=(1, 1), activation='relu', padding='valid'))\n",
        "  model.add(layers.AveragePooling2D(pool_size=(2, 2), strides=(2, 2), padding='valid'))\n",
        "  model.add(layers.Conv2D(80, kernel_size=(3, 3), strides=(1, 1), activation='relu', padding='valid'))\n",
        "  model.add(layers.AveragePooling2D(pool_size=(2, 2), strides=(2, 2), padding='valid'))\n",
        "  model.add(layers.Conv2D(80, kernel_size=(2, 2), strides=(1, 1), activation='relu', padding='valid'))\n",
        "  model.add(layers.Flatten())\n",
        "  model.add(layers.Dense(84, activation='relu'))\n",
        "  model.add(layers.Dense(10, activation='softmax'))\n",
        "\n",
        "  model.compile(loss=keras.losses.categorical_crossentropy, optimizer='SGD', metrics=[\"accuracy\"])\n",
        "  hh = model.fit(x=x_train,y=y_train, epochs=2, batch_size=128, validation_data=(x_test, y_test), verbose=1)\n",
        "\n",
        "  result['neurons'] = '6, 12, 32, 80, 80'\n",
        "  result['kernels'] = '6, 5, 4, 3, 2'\n",
        "  result['Conv_layer'] = 5\n",
        "  result['Pooling_layer'] = 3\n",
        "  result['accuracy_tr']= hh.history['accuracy'][-1]\n",
        "  result['accuracy_val']= hh.history['val_accuracy'][-1]\n",
        "\n",
        "  results.append(result)"
      ]
    },
    {
      "cell_type": "code",
      "execution_count": 43,
      "metadata": {},
      "outputs": [
        {
          "name": "stdout",
          "output_type": "stream",
          "text": [
            "Epoch 1/2\n",
            "469/469 [==============================] - 70s 149ms/step - loss: 1.1052 - accuracy: 0.6065 - val_loss: 0.6708 - val_accuracy: 0.7491\n",
            "Epoch 2/2\n",
            "469/469 [==============================] - 73s 156ms/step - loss: 0.5752 - accuracy: 0.7867 - val_loss: 0.5164 - val_accuracy: 0.8123\n",
            "Epoch 1/2\n",
            "469/469 [==============================] - 83s 176ms/step - loss: 0.9559 - accuracy: 0.6583 - val_loss: 0.7161 - val_accuracy: 0.7305\n",
            "Epoch 2/2\n",
            "469/469 [==============================] - 76s 162ms/step - loss: 0.5924 - accuracy: 0.7821 - val_loss: 0.5937 - val_accuracy: 0.7711\n",
            "Epoch 1/2\n",
            "469/469 [==============================] - 75s 160ms/step - loss: 1.1345 - accuracy: 0.5991 - val_loss: 0.6826 - val_accuracy: 0.7366\n",
            "Epoch 2/2\n",
            "469/469 [==============================] - 79s 168ms/step - loss: 0.5901 - accuracy: 0.7768 - val_loss: 0.5514 - val_accuracy: 0.7950\n",
            "Epoch 1/2\n",
            "469/469 [==============================] - 83s 176ms/step - loss: 1.0199 - accuracy: 0.6319 - val_loss: 0.7111 - val_accuracy: 0.7198\n",
            "Epoch 2/2\n",
            "469/469 [==============================] - 82s 174ms/step - loss: 0.5944 - accuracy: 0.7793 - val_loss: 0.5661 - val_accuracy: 0.7884\n",
            "Epoch 1/2\n",
            "469/469 [==============================] - 77s 163ms/step - loss: 0.9788 - accuracy: 0.6427 - val_loss: 0.6774 - val_accuracy: 0.7504\n",
            "Epoch 2/2\n",
            "469/469 [==============================] - 73s 155ms/step - loss: 0.5819 - accuracy: 0.7851 - val_loss: 0.5782 - val_accuracy: 0.7793\n",
            "Epoch 1/2\n",
            "469/469 [==============================] - 73s 154ms/step - loss: 1.2732 - accuracy: 0.5465 - val_loss: 0.6920 - val_accuracy: 0.7429\n",
            "Epoch 2/2\n",
            "469/469 [==============================] - 72s 153ms/step - loss: 0.6202 - accuracy: 0.7680 - val_loss: 0.6015 - val_accuracy: 0.7727\n",
            "Epoch 1/2\n",
            "469/469 [==============================] - 69s 147ms/step - loss: 1.1048 - accuracy: 0.5959 - val_loss: 0.7514 - val_accuracy: 0.7102\n",
            "Epoch 2/2\n",
            "469/469 [==============================] - 68s 145ms/step - loss: 0.6292 - accuracy: 0.7594 - val_loss: 0.6048 - val_accuracy: 0.7751\n",
            "Epoch 1/2\n",
            "469/469 [==============================] - 69s 146ms/step - loss: 1.1101 - accuracy: 0.5877 - val_loss: 0.7483 - val_accuracy: 0.7098\n",
            "Epoch 2/2\n",
            "469/469 [==============================] - 70s 148ms/step - loss: 0.6454 - accuracy: 0.7553 - val_loss: 0.6191 - val_accuracy: 0.7580\n",
            "Epoch 1/2\n",
            "469/469 [==============================] - 71s 150ms/step - loss: 1.0692 - accuracy: 0.6212 - val_loss: 0.6557 - val_accuracy: 0.7572\n",
            "Epoch 2/2\n",
            "469/469 [==============================] - 67s 143ms/step - loss: 0.5740 - accuracy: 0.7866 - val_loss: 0.6287 - val_accuracy: 0.7706\n",
            "Epoch 1/2\n",
            "469/469 [==============================] - 68s 145ms/step - loss: 1.0239 - accuracy: 0.6299 - val_loss: 0.6902 - val_accuracy: 0.7473\n",
            "Epoch 2/2\n",
            "469/469 [==============================] - 69s 148ms/step - loss: 0.5947 - accuracy: 0.7809 - val_loss: 0.5786 - val_accuracy: 0.7915\n",
            "Epoch 1/2\n",
            "469/469 [==============================] - 68s 144ms/step - loss: 1.0204 - accuracy: 0.6329 - val_loss: 0.6933 - val_accuracy: 0.7288\n",
            "Epoch 2/2\n",
            "469/469 [==============================] - 67s 142ms/step - loss: 0.6032 - accuracy: 0.7733 - val_loss: 0.6022 - val_accuracy: 0.7628\n"
          ]
        }
      ],
      "source": [
        "for i in range (11):\n",
        "  result = {}\n",
        "\n",
        "  model = Sequential()\n",
        "\n",
        "  model.add(layers.Conv2D(6, kernel_size=(6, 6), strides=(1, 1), activation='relu', padding=\"same\"))\n",
        "  model.add(layers.Conv2D(12, kernel_size=(5, 5), strides=(1, 1), activation='relu', input_shape=(28,28,1), padding='valid'))\n",
        "  model.add(layers.Conv2D(32, kernel_size=(4, 4), strides=(1, 1), activation='relu', padding='valid'))\n",
        "  model.add(layers.Conv2D(80, kernel_size=(3, 3), strides=(1, 1), activation='relu', padding='valid'))\n",
        "  model.add(layers.Conv2D(80, kernel_size=(2, 2), strides=(1, 1), activation='relu', padding='valid'))\n",
        "  model.add(layers.Flatten())\n",
        "  model.add(layers.Dense(84, activation='relu'))\n",
        "  model.add(layers.Dense(10, activation='softmax'))\n",
        "\n",
        "  model.compile(loss=keras.losses.categorical_crossentropy, optimizer='SGD', metrics=[\"accuracy\"])\n",
        "  hh = model.fit(x=x_train,y=y_train, epochs=2, batch_size=128, validation_data=(x_test, y_test), verbose=1)\n",
        "\n",
        "  result['neurons'] = '6, 12, 32, 80, 80'\n",
        "  result['kernels'] = '6, 5, 4, 3, 2'\n",
        "  result['Conv_layer'] = 5\n",
        "  result['Pooling_layer'] = 0\n",
        "  result['accuracy_tr']= hh.history['accuracy'][-1]\n",
        "  result['accuracy_val']= hh.history['val_accuracy'][-1]\n",
        "\n",
        "  results.append(result)"
      ]
    },
    {
      "cell_type": "markdown",
      "metadata": {
        "id": "QqipmmivGTxu"
      },
      "source": [
        "- сравнить с точностью полносвязной сети для этой выборки\n",
        "    </li>"
      ]
    },
    {
      "cell_type": "code",
      "execution_count": 44,
      "metadata": {
        "id": "xlItCBaIQD-E"
      },
      "outputs": [],
      "source": [
        "(train_imagesi,train_labels),(test_imagesi,test_labels)=fashion_mnist.load_data()"
      ]
    },
    {
      "cell_type": "code",
      "execution_count": 45,
      "metadata": {
        "id": "M0WqwjCzQEBL"
      },
      "outputs": [],
      "source": [
        "# Normalize the images.\n",
        "train_images = (train_imagesi / 127) - 1\n",
        "test_images = (test_imagesi / 127) - 1\n",
        "\n",
        "# Flatten the images.\n",
        "train_images = train_images.reshape((-1, 784))\n",
        "test_images = test_images.reshape((-1, 784))"
      ]
    },
    {
      "cell_type": "code",
      "execution_count": 46,
      "metadata": {
        "colab": {
          "base_uri": "https://localhost:8080/"
        },
        "id": "gEijlm1GM4l6",
        "outputId": "538552ac-ef72-499d-9d6d-2090b07ca2c6"
      },
      "outputs": [
        {
          "name": "stdout",
          "output_type": "stream",
          "text": [
            "Epoch 1/2\n",
            "469/469 [==============================] - 2s 3ms/step - loss: 0.5195 - accuracy: 0.8134 - val_loss: 0.4524 - val_accuracy: 0.8346\n",
            "Epoch 2/2\n",
            "469/469 [==============================] - 1s 3ms/step - loss: 0.3712 - accuracy: 0.8642 - val_loss: 0.4035 - val_accuracy: 0.8543\n",
            "Epoch 1/2\n",
            "469/469 [==============================] - 2s 3ms/step - loss: 0.5218 - accuracy: 0.8128 - val_loss: 0.4514 - val_accuracy: 0.8314\n",
            "Epoch 2/2\n",
            "469/469 [==============================] - 1s 3ms/step - loss: 0.3717 - accuracy: 0.8647 - val_loss: 0.4003 - val_accuracy: 0.8507\n",
            "Epoch 1/2\n",
            "469/469 [==============================] - 2s 3ms/step - loss: 0.5246 - accuracy: 0.8117 - val_loss: 0.4373 - val_accuracy: 0.8410\n",
            "Epoch 2/2\n",
            "469/469 [==============================] - 1s 3ms/step - loss: 0.3719 - accuracy: 0.8648 - val_loss: 0.4163 - val_accuracy: 0.8439\n",
            "Epoch 1/2\n",
            "469/469 [==============================] - 2s 3ms/step - loss: 0.5178 - accuracy: 0.8151 - val_loss: 0.4348 - val_accuracy: 0.8470\n",
            "Epoch 2/2\n",
            "469/469 [==============================] - 1s 3ms/step - loss: 0.3710 - accuracy: 0.8641 - val_loss: 0.3989 - val_accuracy: 0.8585\n",
            "Epoch 1/2\n",
            "469/469 [==============================] - 2s 3ms/step - loss: 0.5168 - accuracy: 0.8154 - val_loss: 0.4495 - val_accuracy: 0.8359\n",
            "Epoch 2/2\n",
            "469/469 [==============================] - 1s 3ms/step - loss: 0.3727 - accuracy: 0.8650 - val_loss: 0.3977 - val_accuracy: 0.8550\n",
            "Epoch 1/2\n",
            "469/469 [==============================] - 2s 3ms/step - loss: 0.5211 - accuracy: 0.8148 - val_loss: 0.4330 - val_accuracy: 0.8442\n",
            "Epoch 2/2\n",
            "469/469 [==============================] - 1s 3ms/step - loss: 0.3757 - accuracy: 0.8632 - val_loss: 0.4098 - val_accuracy: 0.8474\n",
            "Epoch 1/2\n",
            "469/469 [==============================] - 2s 3ms/step - loss: 0.5145 - accuracy: 0.8160 - val_loss: 0.4275 - val_accuracy: 0.8491\n",
            "Epoch 2/2\n",
            "469/469 [==============================] - 1s 3ms/step - loss: 0.3741 - accuracy: 0.8647 - val_loss: 0.4094 - val_accuracy: 0.8473\n",
            "Epoch 1/2\n",
            "469/469 [==============================] - 2s 3ms/step - loss: 0.5138 - accuracy: 0.8141 - val_loss: 0.4685 - val_accuracy: 0.8230\n",
            "Epoch 2/2\n",
            "469/469 [==============================] - 1s 3ms/step - loss: 0.3700 - accuracy: 0.8641 - val_loss: 0.3838 - val_accuracy: 0.8599\n",
            "Epoch 1/2\n",
            "469/469 [==============================] - 2s 3ms/step - loss: 0.5183 - accuracy: 0.8137 - val_loss: 0.5111 - val_accuracy: 0.8095\n",
            "Epoch 2/2\n",
            "469/469 [==============================] - 1s 3ms/step - loss: 0.3702 - accuracy: 0.8651 - val_loss: 0.3893 - val_accuracy: 0.8576\n",
            "Epoch 1/2\n",
            "469/469 [==============================] - 2s 3ms/step - loss: 0.5195 - accuracy: 0.8112 - val_loss: 0.4639 - val_accuracy: 0.8308\n",
            "Epoch 2/2\n",
            "469/469 [==============================] - 1s 3ms/step - loss: 0.3713 - accuracy: 0.8644 - val_loss: 0.3881 - val_accuracy: 0.8625\n",
            "Epoch 1/2\n",
            "469/469 [==============================] - 2s 3ms/step - loss: 0.5212 - accuracy: 0.8125 - val_loss: 0.4236 - val_accuracy: 0.8482\n",
            "Epoch 2/2\n",
            "469/469 [==============================] - 1s 3ms/step - loss: 0.3714 - accuracy: 0.8642 - val_loss: 0.3807 - val_accuracy: 0.8622\n"
          ]
        }
      ],
      "source": [
        "for i in range (11):\n",
        "  result = {}\n",
        "\n",
        "  model = Sequential()\n",
        "  model.add(layers.Dense(90, activation='relu', input_shape=(784,)))\n",
        "  model.add(layers.Dense(90, activation='relu'))\n",
        "  model.add(layers.Dense(10, activation='softmax'))\n",
        "\n",
        "  model.compile(loss=keras.losses.categorical_crossentropy, optimizer='Nadam', metrics=[\"accuracy\"])\n",
        "  hh = model.fit(x=train_images,y=to_categorical(train_labels), epochs=2, batch_size=128, validation_data=(test_images, to_categorical(test_labels)), verbose=1)\n",
        "\n",
        "  result['neurons'] = ''\n",
        "  result['kernels'] = ''\n",
        "  result['Conv_layer'] = 0\n",
        "  result['Pooling_layer'] = 0\n",
        "  result['accuracy_tr']= hh.history['accuracy'][-1]\n",
        "  result['accuracy_val']= hh.history['val_accuracy'][-1]\n",
        "\n",
        "  results.append(result)"
      ]
    },
    {
      "cell_type": "code",
      "execution_count": 47,
      "metadata": {
        "id": "xVweATLAUKGS"
      },
      "outputs": [],
      "source": [
        "result1 = pd.DataFrame(results)"
      ]
    },
    {
      "cell_type": "code",
      "execution_count": 48,
      "metadata": {
        "colab": {
          "base_uri": "https://localhost:8080/",
          "height": 426
        },
        "id": "aA5mCjL3hPkR",
        "outputId": "6a02473f-ae29-4488-afc1-99d94a8f55b3"
      },
      "outputs": [
        {
          "data": {
            "text/html": [
              "<div>\n",
              "<style scoped>\n",
              "    .dataframe tbody tr th:only-of-type {\n",
              "        vertical-align: middle;\n",
              "    }\n",
              "\n",
              "    .dataframe tbody tr th {\n",
              "        vertical-align: top;\n",
              "    }\n",
              "\n",
              "    .dataframe thead th {\n",
              "        text-align: right;\n",
              "    }\n",
              "</style>\n",
              "<table border=\"1\" class=\"dataframe\">\n",
              "  <thead>\n",
              "    <tr style=\"text-align: right;\">\n",
              "      <th></th>\n",
              "      <th></th>\n",
              "      <th></th>\n",
              "      <th></th>\n",
              "      <th>accuracy_tr</th>\n",
              "      <th>accuracy_val</th>\n",
              "    </tr>\n",
              "    <tr>\n",
              "      <th>neurons</th>\n",
              "      <th>kernels</th>\n",
              "      <th>Conv_layer</th>\n",
              "      <th>Pooling_layer</th>\n",
              "      <th></th>\n",
              "      <th></th>\n",
              "    </tr>\n",
              "  </thead>\n",
              "  <tbody>\n",
              "    <tr>\n",
              "      <th></th>\n",
              "      <th></th>\n",
              "      <th>0</th>\n",
              "      <th>0</th>\n",
              "      <td>0.864173</td>\n",
              "      <td>0.855100</td>\n",
              "    </tr>\n",
              "    <tr>\n",
              "      <th>12, 32, 120</th>\n",
              "      <th>5, 3, 2</th>\n",
              "      <th>3</th>\n",
              "      <th>0</th>\n",
              "      <td>0.804414</td>\n",
              "      <td>0.805273</td>\n",
              "    </tr>\n",
              "    <tr>\n",
              "      <th>6, 12, 32, 80, 80</th>\n",
              "      <th>6, 5, 4, 3, 2</th>\n",
              "      <th>5</th>\n",
              "      <th>0</th>\n",
              "      <td>0.775761</td>\n",
              "      <td>0.779709</td>\n",
              "    </tr>\n",
              "    <tr>\n",
              "      <th rowspan=\"3\" valign=\"top\">12, 32, 120</th>\n",
              "      <th>20, 10, 5</th>\n",
              "      <th>3</th>\n",
              "      <th>2</th>\n",
              "      <td>0.764741</td>\n",
              "      <td>0.775509</td>\n",
              "    </tr>\n",
              "    <tr>\n",
              "      <th>5, 3, 2</th>\n",
              "      <th>3</th>\n",
              "      <th>2</th>\n",
              "      <td>0.758098</td>\n",
              "      <td>0.762891</td>\n",
              "    </tr>\n",
              "    <tr>\n",
              "      <th>10, 5, 3</th>\n",
              "      <th>3</th>\n",
              "      <th>2</th>\n",
              "      <td>0.756470</td>\n",
              "      <td>0.758245</td>\n",
              "    </tr>\n",
              "    <tr>\n",
              "      <th>6, 12, 32, 80, 80</th>\n",
              "      <th>6, 5, 4, 3, 2</th>\n",
              "      <th>5</th>\n",
              "      <th>3</th>\n",
              "      <td>0.715457</td>\n",
              "      <td>0.720467</td>\n",
              "    </tr>\n",
              "  </tbody>\n",
              "</table>\n",
              "</div>"
            ],
            "text/plain": [
              "                                                          accuracy_tr  \\\n",
              "neurons           kernels       Conv_layer Pooling_layer                \n",
              "                                0          0                 0.864173   \n",
              "12, 32, 120       5, 3, 2       3          0                 0.804414   \n",
              "6, 12, 32, 80, 80 6, 5, 4, 3, 2 5          0                 0.775761   \n",
              "12, 32, 120       20, 10, 5     3          2                 0.764741   \n",
              "                  5, 3, 2       3          2                 0.758098   \n",
              "                  10, 5, 3      3          2                 0.756470   \n",
              "6, 12, 32, 80, 80 6, 5, 4, 3, 2 5          3                 0.715457   \n",
              "\n",
              "                                                          accuracy_val  \n",
              "neurons           kernels       Conv_layer Pooling_layer                \n",
              "                                0          0                  0.855100  \n",
              "12, 32, 120       5, 3, 2       3          0                  0.805273  \n",
              "6, 12, 32, 80, 80 6, 5, 4, 3, 2 5          0                  0.779709  \n",
              "12, 32, 120       20, 10, 5     3          2                  0.775509  \n",
              "                  5, 3, 2       3          2                  0.762891  \n",
              "                  10, 5, 3      3          2                  0.758245  \n",
              "6, 12, 32, 80, 80 6, 5, 4, 3, 2 5          3                  0.720467  "
            ]
          },
          "execution_count": 48,
          "metadata": {},
          "output_type": "execute_result"
        }
      ],
      "source": [
        "result1.groupby(['neurons', 'kernels','Conv_layer', 'Pooling_layer']).mean(['accuracy_val', 'accuracy_tr']).sort_values(by='accuracy_val', ascending=False)"
      ]
    },
    {
      "cell_type": "markdown",
      "metadata": {
        "id": "IkDCTI4nRpZY"
      },
      "source": [
        "Лучше всех показала себя модель с тремя полносвязными слоями. Чем меньше пуллинг слоев тем результат лучше."
      ]
    }
  ],
  "metadata": {
    "accelerator": "GPU",
    "colab": {
      "collapsed_sections": [],
      "name": "HW4.ipynb",
      "provenance": []
    },
    "kernelspec": {
      "display_name": "Python 3",
      "name": "python3"
    },
    "language_info": {
      "codemirror_mode": {
        "name": "ipython",
        "version": 3
      },
      "file_extension": ".py",
      "mimetype": "text/x-python",
      "name": "python",
      "nbconvert_exporter": "python",
      "pygments_lexer": "ipython3",
      "version": "3.8.10"
    }
  },
  "nbformat": 4,
  "nbformat_minor": 0
}
