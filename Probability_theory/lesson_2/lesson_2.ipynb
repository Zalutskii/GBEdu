{
 "cells": [
  {
   "cell_type": "markdown",
   "source": [
    "Задача 1\r\n",
    "\r\n",
    "Контрольная работа состоит из пяти вопросов. На каждый вопрос приведено четыре варианта ответа, один из которых правильный. Составьте закон распределения числа правильных ответов при простом угадывании. Найдите M(X), D(X)."
   ],
   "metadata": {}
  },
  {
   "cell_type": "code",
   "execution_count": 2,
   "source": [
    "import numpy as np"
   ],
   "outputs": [],
   "metadata": {}
  },
  {
   "cell_type": "code",
   "execution_count": 3,
   "source": [
    "def bernulli_tick(ticket: int, var_ques: int, know_answer:int)-> int:\r\n",
    "   \r\n",
    "    C = np.math.factorial(ticket)/(np.math.factorial(ticket - know_answer)*np.math.factorial(know_answer)) \r\n",
    "    \r\n",
    "    p = 1/var_ques\r\n",
    "    \r\n",
    "    p_k = p**know_answer\r\n",
    "    n_k = ticket - know_answer\r\n",
    "    \r\n",
    "    P = C* p_k *((1-p)** n_k)\r\n",
    "    \r\n",
    "    return P\r\n"
   ],
   "outputs": [],
   "metadata": {}
  },
  {
   "cell_type": "code",
   "execution_count": 10,
   "source": [
    "p_full = 0\r\n",
    "\r\n",
    "for x in range(6):\r\n",
    "    p = bernulli_tick(5,4,x)\r\n",
    "    p_full = p_full + p\r\n",
    "    print(f'Вероятность ответа на {x} вопросов: {p}')\r\n",
    "\r\n",
    "print('Сумма: ', p_full)\r\n",
    "\r\n"
   ],
   "outputs": [
    {
     "output_type": "stream",
     "name": "stdout",
     "text": [
      "Вероятность ответа на 0 вопросов: 0.2373046875\n",
      "Вероятность ответа на 1 вопросов: 0.3955078125\n",
      "Вероятность ответа на 2 вопросов: 0.263671875\n",
      "Вероятность ответа на 3 вопросов: 0.087890625\n",
      "Вероятность ответа на 4 вопросов: 0.0146484375\n",
      "Вероятность ответа на 5 вопросов: 0.0009765625\n",
      "Сумма:  1.0\n"
     ]
    }
   ],
   "metadata": {}
  },
  {
   "cell_type": "code",
   "execution_count": 9,
   "source": [
    "Mx = 5 * 1/4\r\n",
    "Dx = 5 * 1/4 *(1- 1/4)\r\n",
    "\r\n",
    "Mx, Dx"
   ],
   "outputs": [
    {
     "output_type": "execute_result",
     "data": {
      "text/plain": [
       "(1.25, 0.9375)"
      ]
     },
     "metadata": {},
     "execution_count": 9
    }
   ],
   "metadata": {}
  },
  {
   "cell_type": "markdown",
   "source": [
    "Задача 2\r\n",
    "\r\n",
    "Вероятность попадания в цель при одном выстреле равна 0.01. Какова вероятность того, что число попаданий при 200 выстрелах будет не менее 5 и не более 10?"
   ],
   "metadata": {}
  },
  {
   "cell_type": "code",
   "execution_count": 15,
   "source": [
    "def puasson(n, m, p):\r\n",
    "    lambda_ = n * p\r\n",
    "    return (lambda_**m / np.math.factorial(m)) * np.exp(-lambda_)\r\n",
    "    "
   ],
   "outputs": [],
   "metadata": {}
  },
  {
   "cell_type": "code",
   "execution_count": 18,
   "source": [
    "p_sum_puasson = 0\r\n",
    "\r\n",
    "for x in [5, 11]:\r\n",
    "    p_sum_puasson += puasson(200, x, 0.01)\r\n",
    "print(f'Вероятность того, что число попаданий при 200 выстрелах будет не менее 5 и не более 10 равна {p_sum_puasson}')"
   ],
   "outputs": [
    {
     "output_type": "stream",
     "name": "stdout",
     "text": [
      "Вероятность того, что число попаданий при 200 выстрелах будет не менее 5 и не более 10 равна 0.036127598713745504\n"
     ]
    }
   ],
   "metadata": {}
  },
  {
   "cell_type": "code",
   "execution_count": 176,
   "source": [
    "def puasson(n, m, p):\r\n",
    "    lambda_ = n * p\r\n",
    "    return (lambda_**m / np.math.factorial(m)) * np.exp(-lambda_)\r\n"
   ],
   "outputs": [],
   "metadata": {}
  },
  {
   "cell_type": "markdown",
   "source": [
    "Задача 3\r\n",
    "\r\n",
    "В условиях предыдущей задачи сколько выстрелов нужно сделать чтобы быть уверенным с вероятностью 0.9, что хотя бы 10 раз будет совершено попадание?\r\n",
    "\r\n",
    "Подсказка. Как посчитать P(X >= k) для величины X, имеющей биномиальное распределение? Здесь предстоит немножко покодить."
   ],
   "metadata": {}
  },
  {
   "cell_type": "code",
   "execution_count": 20,
   "source": [
    "p = 0.01\r\n",
    "k = 10\r\n",
    "n = 10\r\n",
    "\r\n",
    "def P_ge(n, k, p):\r\n",
    "    sum_ = 0\r\n",
    "    for k_ in range(0, k): \r\n",
    "        sum_ += puasson(n, k_, p)\r\n",
    "    return 1 - sum_\r\n",
    "\r\n",
    "while P_ge(n, k, p) < 0.9:\r\n",
    "    n += 1\r\n",
    "\r\n",
    "print(f'Нужно сделать {n} выстрелов, чтобы вероятность того что хотя бы {k} выстрелов попадут в цель была не менее 0.9. Вероятность в таком случае равна {P_ge(n, k, p)}')"
   ],
   "outputs": [
    {
     "output_type": "stream",
     "name": "stdout",
     "text": [
      "Нужно сделать 1421 выстрелов, чтобы вероятность того что хотя бы 10 выстрелов попадут в цель была не менее 0.9.\n",
      "Вероятность в таком случае равна 0.9001760722984115\n"
     ]
    }
   ],
   "metadata": {}
  }
 ],
 "metadata": {
  "kernelspec": {
   "name": "python3",
   "display_name": "Python 3.8.8 64-bit ('base': conda)"
  },
  "language_info": {
   "codemirror_mode": {
    "name": "ipython",
    "version": 3
   },
   "file_extension": ".py",
   "mimetype": "text/x-python",
   "name": "python",
   "nbconvert_exporter": "python",
   "pygments_lexer": "ipython3",
   "version": "3.8.8"
  },
  "interpreter": {
   "hash": "b3ba2566441a7c06988d0923437866b63cedc61552a5af99d1f4fb67d367b25f"
  }
 },
 "nbformat": 4,
 "nbformat_minor": 2
}