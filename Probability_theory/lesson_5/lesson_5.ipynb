{
 "metadata": {
  "language_info": {
   "codemirror_mode": {
    "name": "ipython",
    "version": 3
   },
   "file_extension": ".py",
   "mimetype": "text/x-python",
   "name": "python",
   "nbconvert_exporter": "python",
   "pygments_lexer": "ipython3",
   "version": "3.8.8"
  },
  "orig_nbformat": 2,
  "kernelspec": {
   "name": "python3",
   "display_name": "Python 3.8.8 64-bit ('base': conda)"
  },
  "interpreter": {
   "hash": "b3ba2566441a7c06988d0923437866b63cedc61552a5af99d1f4fb67d367b25f"
  }
 },
 "nbformat": 4,
 "nbformat_minor": 2,
 "cells": [
  {
   "cell_type": "markdown",
   "source": [
    "Задача 1\r\n",
    "\r\n",
    "Известно, что генеральная совокупность распределена нормально с известным средним квадратическим отклонением 16. Найти доверительный интервал для оценки математического ожидания mu с надёжностью 0.95, если выборочное среднее равно 80, а объём равен 256."
   ],
   "metadata": {}
  },
  {
   "cell_type": "code",
   "execution_count": 1,
   "source": [
    "from scipy import stats\r\n",
    "import numpy as np\r\n",
    "def confidence_interval(alpha,x,sigma,n):   \r\n",
    "    t1 = stats.norm.ppf(alpha/2)\r\n",
    "    t2 = stats.norm.ppf(1 - alpha/2)\r\n",
    "    return (x + t1*sigma / np.sqrt(n), x + t2*sigma / np.sqrt(n))\r\n",
    "p = 0.95\r\n",
    "sigma = 16\r\n",
    "alpha = 1 - p\r\n",
    "x = 80\r\n",
    "n = 256\r\n",
    "print(\"Довериетльный интеравал :\", confidence_interval(alpha, x, sigma, n))"
   ],
   "outputs": [
    {
     "output_type": "stream",
     "name": "stdout",
     "text": [
      "Довериетльный интеравал : (78.04003601545995, 81.95996398454005)\n"
     ]
    }
   ],
   "metadata": {}
  },
  {
   "cell_type": "markdown",
   "source": [
    "***"
   ],
   "metadata": {}
  },
  {
   "cell_type": "markdown",
   "source": [
    "Задача 2\r\n",
    "\r\n",
    "Продавец утверждает, что средний вес пачки печенья составляет 200 г. Из партии извлечена выборка из 10 пачек. Вес каждой пачки составляет:\r\n",
    "\r\n",
    "202, 203, 199, 197, 195, 201, 200, 204, 194, 190\r\n",
    "\r\n",
    "Известно, что их веса распределены нормально.\r\n",
    "1. Верно ли утверждение продавца, если учитывать, что уровень значимости равен 1%?\r\n",
    "2. Найдите P-значение для данного теста."
   ],
   "metadata": {}
  },
  {
   "cell_type": "code",
   "execution_count": 46,
   "source": [
    "def t_statistic(x,M,n,sigma_x):\r\n",
    "    return (x - M)/(sigma_x / np.math.sqrt(n))"
   ],
   "outputs": [],
   "metadata": {}
  },
  {
   "cell_type": "code",
   "execution_count": 47,
   "source": [
    "M = 200\r\n",
    "n = 10\r\n",
    "alpha = 0.01\r\n",
    "sample = np.array((202, 203, 199, 197, 195, 201, 200, 204, 194, 190))\r\n",
    "x = sample.mean()\r\n",
    "sigma_x = sample.std(ddof=1)"
   ],
   "outputs": [],
   "metadata": {}
  },
  {
   "cell_type": "markdown",
   "source": [
    "Находим t-статистику."
   ],
   "metadata": {}
  },
  {
   "cell_type": "code",
   "execution_count": 48,
   "source": [
    "S_t = t_statistic(x,M,n,sigma_x)\r\n",
    "S_t"
   ],
   "outputs": [
    {
     "output_type": "execute_result",
     "data": {
      "text/plain": [
       "-1.0651074037450896"
      ]
     },
     "metadata": {},
     "execution_count": 48
    }
   ],
   "metadata": {}
  },
  {
   "cell_type": "markdown",
   "source": [
    "считаем критическую область."
   ],
   "metadata": {}
  },
  {
   "cell_type": "code",
   "execution_count": 49,
   "source": [
    "t1 = stats.t.ppf(alpha / 2, df=n - 1)\r\n",
    "t2 = stats.t.ppf(1 - alpha / 2, df=n - 1)\r\n",
    "print(f\"(-inf;{t1}),({t2};+inf)\")"
   ],
   "outputs": [
    {
     "output_type": "stream",
     "name": "stdout",
     "text": [
      "(-inf;-3.2498355440153697),(3.2498355440153697;+inf)\n"
     ]
    }
   ],
   "metadata": {}
  },
  {
   "cell_type": "markdown",
   "source": [
    "наша статистика не попала в критическую область, значит наша нулевая гипотеза верна при нашем уровне значимости 0.001"
   ],
   "metadata": {}
  },
  {
   "cell_type": "markdown",
   "source": [
    "Посчитаем P-значение, для двусторнней области:$$P = 2 \\cdot \\min (P_l, P_r)$$"
   ],
   "metadata": {}
  },
  {
   "cell_type": "code",
   "execution_count": 50,
   "source": [
    "p_left = stats.t.cdf(S_t, df=n - 1)\r\n",
    "p_right = 1 - stats.t.cdf(S_t, df=n - 1)\r\n",
    "pvalue = 2 * min(p_left, p_right)\r\n",
    "pvalue\r\n"
   ],
   "outputs": [
    {
     "output_type": "execute_result",
     "data": {
      "text/plain": [
       "0.3145666035247285"
      ]
     },
     "metadata": {},
     "execution_count": 50
    }
   ],
   "metadata": {}
  },
  {
   "cell_type": "markdown",
   "source": [
    "Задача 3\r\n",
    "\r\n",
    "Утверждается, что шарики для подшипников, изготовленные автоматическим станком, имеют средний диаметр 17 мм. Используя уровень значимости 0.025 и правостороннюю критическую область, проверить данную гипотезу при условии, что в выборке из 100 шариков средний диаметр оказался равным 17.5 мм, а дисперсия известна и равна 4 мм."
   ],
   "metadata": {}
  },
  {
   "cell_type": "code",
   "execution_count": 2,
   "source": [
    "mean = 17.5\r\n",
    "alpha = 0.025\r\n",
    "\r\n",
    "# Правосторонняя критическая область: Ωα=(t1−α,∞).\r\n",
    "t = stats.norm.ppf(1 - alpha)\r\n",
    "t"
   ],
   "outputs": [
    {
     "output_type": "execute_result",
     "data": {
      "text/plain": [
       "1.959963984540054"
      ]
     },
     "metadata": {},
     "execution_count": 2
    }
   ],
   "metadata": {}
  },
  {
   "cell_type": "code",
   "execution_count": 4,
   "source": [
    "T = 5*(mean - 17)\r\n",
    "T"
   ],
   "outputs": [
    {
     "output_type": "execute_result",
     "data": {
      "text/plain": [
       "2.5"
      ]
     },
     "metadata": {},
     "execution_count": 4
    }
   ],
   "metadata": {}
  }
 ]
}