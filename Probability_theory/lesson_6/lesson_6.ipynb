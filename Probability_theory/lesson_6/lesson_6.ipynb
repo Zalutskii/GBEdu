{
 "cells": [
  {
   "cell_type": "code",
   "execution_count": 1,
   "source": [
    "import numpy as np\r\n",
    "import pandas as pd\r\n",
    "from matplotlib import pyplot as plt\r\n",
    "from scipy import stats"
   ],
   "outputs": [],
   "metadata": {}
  },
  {
   "cell_type": "markdown",
   "source": [
    "Задача 1\r\n",
    "\r\n",
    "Даны значения величины заработной платы заемщиков банка (salary) и значения их поведенческого кредитного скоринга (scoring):\r\n",
    "\r\n",
    "salary = [35, 45, 190, 200, 40, 70, 54, 150, 120, 110]\r\n",
    "scoring = [401, 574, 874, 919, 459, 739, 653, 902, 746, 832]\r\n",
    "\r\n",
    "1. Найдите ковариацию этих двух величин: сначала без использования специальных функций, а затем с помощью функции numpy.cov. Полученные значения должны быть равны.\r\n",
    "2. Найдите коэффициент корреляции Пирсона: с помощью ковариации и средних квадратических отклонений двух признаков, а затем с помощью специальных функций из библиотек numpy и pandas.\r\n"
   ],
   "metadata": {}
  },
  {
   "cell_type": "code",
   "execution_count": 2,
   "source": [
    "salary = np.array([35, 45, 190, 200, 40, 70, 54, 150, 120, 110])\r\n",
    "scoring = np.array([401, 574, 874, 919, 459, 739, 653, 902, 746, 832])\r\n",
    "\r\n",
    "MX = salary.mean()\r\n",
    "MY = scoring.mean()\r\n",
    "\r\n",
    "cov_0 = ((salary - MX) * (scoring - MY)).mean()\r\n",
    "cov_1 = (salary * scoring).mean() - MX * MY\r\n",
    "\r\n",
    "cov_3 = np.cov(salary, scoring)\r\n",
    "\r\n",
    "print('Ручные коварииации: ',cov_0, cov_1) \r\n",
    " \r\n",
    "print('Встроенная ковариация: ',cov_3)"
   ],
   "outputs": [
    {
     "output_type": "stream",
     "name": "stdout",
     "text": [
      "Ручные коварииации:  9157.84 9157.839999999997\n",
      "Встроенная ковариация:  [[ 3882.93333333 10175.37777778]\n",
      " [10175.37777778 33854.32222222]]\n"
     ]
    }
   ],
   "metadata": {}
  },
  {
   "cell_type": "code",
   "execution_count": 5,
   "source": [
    "result = pd.DataFrame(salary,scoring).reset_index()\r\n",
    "corr = cov_0 / (salary.std() * scoring.std())\r\n",
    "\r\n",
    "print(result.corr())\r\n",
    "print(corr)\r\n",
    "print('************')\r\n",
    "print('Коэффициент корреляции Пирсона:')\r\n",
    "print(np.corrcoef(salary,scoring))"
   ],
   "outputs": [
    {
     "output_type": "stream",
     "name": "stdout",
     "text": [
      "         index        0\n",
      "index  1.00000  0.88749\n",
      "0      0.88749  1.00000\n",
      "0.8874900920739162\n",
      "************\n",
      "Коэффициент корреляции Пирсона:\n",
      "[[1.         0.88749009]\n",
      " [0.88749009 1.        ]]\n"
     ]
    }
   ],
   "metadata": {
    "scrolled": true
   }
  },
  {
   "cell_type": "markdown",
   "source": [
    "Задача 2\r\n",
    "\r\n",
    "Измерены значения IQ выборки студентов, обучающихся в местных технических вузах:\r\n",
    "\r\n",
    "131, 125, 115, 122, 131, 115, 107, 99, 125, 111"
   ],
   "metadata": {}
  },
  {
   "cell_type": "code",
   "execution_count": 19,
   "source": [
    "IQ = np.array([131, 125, 115, 122, 131, 115, 107, 99, 125, 111])\r\n",
    "mean = IQ.mean()\r\n",
    "std = IQ.std(ddof=1)\r\n",
    "\r\n",
    "alpha = 0.05\r\n",
    "\r\n",
    "t = stats.t.ppf(1 - alpha / 2, df= IQ.shape[0] - 1)\r\n",
    "\r\n",
    "\r\n",
    "mean, std, t, (mean - t * std / np.sqrt(IQ.shape[0]), mean + t * std / np.sqrt(IQ.shape[0]))\r\n",
    "\r\n"
   ],
   "outputs": [
    {
     "output_type": "execute_result",
     "data": {
      "text/plain": [
       "(118.1,\n",
       " 10.54566788359614,\n",
       " 2.2621571627409915,\n",
       " (110.55608365158724, 125.64391634841274))"
      ]
     },
     "metadata": {},
     "execution_count": 19
    }
   ],
   "metadata": {}
  },
  {
   "cell_type": "markdown",
   "source": [
    "Известно, что в генеральной совокупности IQ распределен нормально. Найдите доверительный интервал для математического ожидания с надежностью 0.95."
   ],
   "metadata": {}
  },
  {
   "cell_type": "code",
   "execution_count": 20,
   "source": [
    "print('Доверительный интервал: {} '.format((mean - t * std / np.sqrt(IQ.shape[0]), mean + t * std / np.sqrt(IQ.shape[0]))))\r\n",
    "  "
   ],
   "outputs": [
    {
     "output_type": "stream",
     "name": "stdout",
     "text": [
      "Доверительный интервал: (110.55608365158724, 125.64391634841274) \n"
     ]
    }
   ],
   "metadata": {}
  },
  {
   "cell_type": "markdown",
   "source": [
    "Задача 3\r\n",
    "\r\n",
    "Известно, что рост футболистов в сборной распределен нормально с известной дисперсией 25. На выборке объёма 27 выборочное среднее составило 174.2. Найдите доверительный интервал для математического ожидания с надежностью 0.95."
   ],
   "metadata": {}
  },
  {
   "cell_type": "code",
   "execution_count": 10,
   "source": [
    "n = 27\r\n",
    "mean = 174.2\r\n",
    "std = 5\r\n",
    "alpha = 0.05\r\n",
    "\r\n",
    "t = stats.t.ppf(1 - alpha / 2, df=n - 1)\r\n",
    "print('t-распределение', t)"
   ],
   "outputs": [
    {
     "output_type": "stream",
     "name": "stdout",
     "text": [
      "t-распределение 2.055529438642871\n"
     ]
    }
   ],
   "metadata": {}
  },
  {
   "cell_type": "code",
   "execution_count": 11,
   "source": [
    "print('Доверительный интервал: {}, {} '.format((mean - t * std / np.sqrt(n)), (mean + t * std / np.sqrt(n))))"
   ],
   "outputs": [
    {
     "output_type": "stream",
     "name": "stdout",
     "text": [
      "Доверительный интервал: 172.2220658754539, 176.17793412454608 \n"
     ]
    }
   ],
   "metadata": {}
  }
 ],
 "metadata": {
  "kernelspec": {
   "name": "python3",
   "display_name": "Python 3.8.8 64-bit ('base': conda)"
  },
  "language_info": {
   "codemirror_mode": {
    "name": "ipython",
    "version": 3
   },
   "file_extension": ".py",
   "mimetype": "text/x-python",
   "name": "python",
   "nbconvert_exporter": "python",
   "pygments_lexer": "ipython3",
   "version": "3.8.8"
  },
  "interpreter": {
   "hash": "b3ba2566441a7c06988d0923437866b63cedc61552a5af99d1f4fb67d367b25f"
  }
 },
 "nbformat": 4,
 "nbformat_minor": 2
}