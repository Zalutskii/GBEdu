{
 "metadata": {
  "language_info": {
   "codemirror_mode": {
    "name": "ipython",
    "version": 3
   },
   "file_extension": ".py",
   "mimetype": "text/x-python",
   "name": "python",
   "nbconvert_exporter": "python",
   "pygments_lexer": "ipython3",
   "version": "3.8.8"
  },
  "orig_nbformat": 2,
  "kernelspec": {
   "name": "python3",
   "display_name": "Python 3.8.8 64-bit ('base': conda)"
  },
  "interpreter": {
   "hash": "b3ba2566441a7c06988d0923437866b63cedc61552a5af99d1f4fb67d367b25f"
  }
 },
 "nbformat": 4,
 "nbformat_minor": 2,
 "cells": [
  {
   "cell_type": "markdown",
   "source": [
    "Задача 1\r\n",
    "\r\n",
    "Провести дисперсионный анализ для определения того, есть ли различия среднего роста среди взрослых футболистов, хоккеистов и штангистов. Даны значения роста в трех группах случайно выбранных спортсменов:\r\n",
    "\r\n",
    "football_players = [173, 175, 180, 178, 177, 185, 183, 182]\r\n",
    "\r\n",
    "hockey_players = [177, 179, 180, 188, 177, 172, 171, 184, 180]\r\n",
    "\r\n",
    "lifters = [172, 173, 169, 177, 166, 180, 178, 177, 172, 166, 170]"
   ],
   "metadata": {}
  },
  {
   "cell_type": "code",
   "execution_count": 2,
   "source": [
    "import numpy as np\r\n",
    "from scipy import stats\r\n",
    "\r\n",
    "football_players = np.array([173, 175, 180, 178, 177, 185, 183, 182])\r\n",
    "hockey_players = np.array([177, 179, 180, 188, 177, 172, 171, 184, 180])\r\n",
    "lifters = np.array([172, 173, 169, 177, 166, 180, 178, 177, 172, 166, 170])\r\n",
    "stats.f_oneway(football_players, hockey_players, lifters)"
   ],
   "outputs": [
    {
     "output_type": "execute_result",
     "data": {
      "text/plain": [
       "F_onewayResult(statistic=5.500053450812596, pvalue=0.010482206918698694)"
      ]
     },
     "metadata": {},
     "execution_count": 2
    }
   ],
   "metadata": {}
  },
  {
   "cell_type": "markdown",
   "source": [
    "Отвергаем нулевую гипотезу на уровне значимости а=0.05\r\n",
    "\r\n",
    "Отввет:\r\n",
    "Различие среднего роста взрослых футболистов, хоккеистов и штангистов является статистически значимым\r\n"
   ],
   "metadata": {}
  }
 ]
}