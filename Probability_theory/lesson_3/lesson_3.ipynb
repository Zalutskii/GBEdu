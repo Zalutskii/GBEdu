{
 "metadata": {
  "language_info": {
   "codemirror_mode": {
    "name": "ipython",
    "version": 3
   },
   "file_extension": ".py",
   "mimetype": "text/x-python",
   "name": "python",
   "nbconvert_exporter": "python",
   "pygments_lexer": "ipython3",
   "version": "3.8.8"
  },
  "orig_nbformat": 2,
  "kernelspec": {
   "name": "python3",
   "display_name": "Python 3.8.8 64-bit ('base': conda)"
  },
  "interpreter": {
   "hash": "b3ba2566441a7c06988d0923437866b63cedc61552a5af99d1f4fb67d367b25f"
  }
 },
 "nbformat": 4,
 "nbformat_minor": 2,
 "cells": [
  {
   "cell_type": "code",
   "execution_count": 20,
   "source": [
    "import math\r\n",
    "import numpy as np\r\n",
    "import pandas as pd"
   ],
   "outputs": [],
   "metadata": {}
  },
  {
   "cell_type": "markdown",
   "source": [
    "Задача 1\r\n",
    "\r\n",
    "Даны значения зарплат из выборки выпускников:\r\n",
    "\r\n",
    "100, 80, 75, 77, 89, 33, 45, 25, 65, 17, 30, 24, 57, 55, 70, 75, 65, 84, 90, 150.\r\n",
    "\r\n",
    "Без использования статистических функций вроде mean, std, var, посчитать среднее арифметическое, среднее квадратичное отклонение, смещенную и несмещенную оценки дисперсий для данной выборки.\r\n",
    "\r\n",
    "Можно затем посчитать те же значения с использованием статистических функций, чтобы проверить себя."
   ],
   "metadata": {}
  },
  {
   "cell_type": "code",
   "execution_count": 21,
   "source": [
    "salaries = [100, 80, 75, 77, 89, 33, 45, 25, 65, 17, 30, 24, 57, 55, 70, 75, 65, 84, 90, 150]\r\n",
    "avarage = sum(salaries) / len(salaries)\r\n",
    "print(\"Средняя зарплата =  \", avarage)"
   ],
   "outputs": [
    {
     "output_type": "stream",
     "name": "stdout",
     "text": [
      "Средняя зарплата =   65.3\n"
     ]
    }
   ],
   "metadata": {
    "tags": []
   }
  },
  {
   "cell_type": "code",
   "execution_count": 22,
   "source": [
    "sample_variance = 1/(len(salaries) - 1) * sum([(i - avarage) ** 2 for i in salaries])\r\n",
    "print(\"Выборочная дисперсия несмещенная = \", sample_variance)\r\n",
    "print(\"Среднеквадратичное отклонение  = \", math.sqrt(sample_variance))"
   ],
   "outputs": [
    {
     "output_type": "stream",
     "name": "stdout",
     "text": [
      "Выборочная дисперсия несмещенная =  1000.1157894736842\n",
      "Среднеквадратичное отклонение  =  31.624607341019814\n"
     ]
    }
   ],
   "metadata": {
    "tags": []
   }
  },
  {
   "cell_type": "code",
   "execution_count": 23,
   "source": [
    "salaries = np.array(salaries)\r\n",
    "print(salaries.mean())\r\n",
    "print(salaries.var(ddof=1))\r\n",
    "print(salaries.std(ddof=1))"
   ],
   "outputs": [
    {
     "output_type": "stream",
     "name": "stdout",
     "text": [
      "65.3\n",
      "1000.1157894736842\n",
      "31.624607341019814\n"
     ]
    }
   ],
   "metadata": {
    "tags": []
   }
  },
  {
   "cell_type": "markdown",
   "source": [
    "Задача 2\r\n",
    "\r\n",
    "Для выборки из задачи 1 найти первый и третий квартили, интерквартильное расстояние. Найти выборсы в выборке, используя для этого \"усы\" из boxplot. В этой задаче можно использовать статистические функции."
   ],
   "metadata": {}
  },
  {
   "cell_type": "code",
   "execution_count": 24,
   "source": [
    "def quantile(data, alpha):\r\n",
    "    sorted_data = sorted(data)\r\n",
    "    index = len(data) * alpha\r\n",
    "    if isinstance(index,int):\r\n",
    "        return (sorted_data[index - 1] + sorted_data[index]) / 2\r\n",
    "    else:\r\n",
    "        return sorted_data[int(index)]\r\n",
    "print(\"Квартили:\")\r\n",
    "quartiles = [quantile(salaries, i) for i in (0.25, 0.5, 0.75)]\r\n",
    "print(quartiles)\r\n",
    "print(\"Первый квартиль = \", quartiles[0])\r\n",
    "print(\"Третий квартиль = \", quartiles[2])\r\n",
    "iqr = quartiles[2] - quartiles[0]\r\n",
    "print(f\"Интерквартильное расстояние: {iqr}\")\r\n",
    "boxplot_range = (quartiles[0] - 1.5 * iqr, quartiles[2] + 1.5 * iqr)\r\n",
    "blowout = [i for i in salaries if i < boxplot_range[0] or i > boxplot_range[1]]\r\n",
    "print(\"Наши выбросы: \", blowout)"
   ],
   "outputs": [
    {
     "output_type": "stream",
     "name": "stdout",
     "text": [
      "Квартили:\n",
      "[45, 70, 84]\n",
      "Первый квартиль =  45\n",
      "Третий квартиль =  84\n",
      "Интерквартильное расстояние: 39\n",
      "Наши выбросы:  [150]\n"
     ]
    }
   ],
   "metadata": {
    "tags": []
   }
  },
  {
   "cell_type": "markdown",
   "source": [
    "Задача 3\r\n",
    "\r\n",
    "В университет на факультеты A и B поступило равное количество студентов, а на факультет C студентов поступило столько же, сколько на A и B вместе. Вероятность того, что студент факультета A сдаст первую сессию, равна 0.8. Для студента факультета B эта вероятность равна 0.7, а для студента факультета C - 0.9. Студент сдал первую сессию. Какова вероятность, что он учится: \r\n",
    "a) на факультете A? \r\n",
    "б) на факультете B? \r\n",
    "в) на факультете C?\r\n",
    "\r\n",
    "Замечание: да, эта задача не на тему описательных статистик, но тема важная, и её стоит иногда освежать в памяти."
   ],
   "metadata": {}
  },
  {
   "cell_type": "code",
   "execution_count": 25,
   "source": [
    "p_a = 0.8\r\n",
    "p_b = 0.7\r\n",
    "p_c = 0.9\r\n",
    "\r\n",
    "#вероятность сдать первую сессаю\r\n",
    "pass_prob = (1/3)*p_a+(1/3)*p_b+(1/3)*p_c\r\n",
    "pass_prob"
   ],
   "outputs": [
    {
     "output_type": "execute_result",
     "data": {
      "text/plain": [
       "0.8"
      ]
     },
     "metadata": {},
     "execution_count": 25
    }
   ],
   "metadata": {}
  },
  {
   "cell_type": "code",
   "execution_count": 26,
   "source": [
    "#вероятность что на факультете A\r\n",
    "a_fac_prob = (1/3)* p_a / pass_prob\r\n",
    "a_fac_prob"
   ],
   "outputs": [
    {
     "output_type": "execute_result",
     "data": {
      "text/plain": [
       "0.3333333333333333"
      ]
     },
     "metadata": {},
     "execution_count": 26
    }
   ],
   "metadata": {}
  },
  {
   "cell_type": "code",
   "execution_count": 27,
   "source": [
    "#вероятность что на факультете B\r\n",
    "b_fac_prob = (1/3)* p_b / pass_prob\r\n",
    "b_fac_prob"
   ],
   "outputs": [
    {
     "output_type": "execute_result",
     "data": {
      "text/plain": [
       "0.29166666666666663"
      ]
     },
     "metadata": {},
     "execution_count": 27
    }
   ],
   "metadata": {}
  },
  {
   "cell_type": "code",
   "execution_count": 28,
   "source": [
    "#вероятность что на факультете C\r\n",
    "c_fac_prob = (1/3)* p_c / pass_prob\r\n",
    "c_fac_prob"
   ],
   "outputs": [
    {
     "output_type": "execute_result",
     "data": {
      "text/plain": [
       "0.37499999999999994"
      ]
     },
     "metadata": {},
     "execution_count": 28
    }
   ],
   "metadata": {}
  }
 ]
}