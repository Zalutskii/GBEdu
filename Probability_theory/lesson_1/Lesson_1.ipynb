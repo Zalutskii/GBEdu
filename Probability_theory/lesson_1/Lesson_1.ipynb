{
 "cells": [
  {
   "cell_type": "code",
   "execution_count": 1,
   "source": [
    "import numpy as np"
   ],
   "outputs": [],
   "metadata": {}
  },
  {
   "cell_type": "markdown",
   "source": [
    "Задача 1\n",
    "\n",
    "Группа студентов изучает 10 различных дисциплин. Сколькими способами можно составить расписание на понедельник, если в этот день должно быть 4 разных занятия?"
   ],
   "metadata": {}
  },
  {
   "cell_type": "code",
   "execution_count": 16,
   "source": [
    "a = np.math.factorial(10) / np.math.factorial(10-4)\r\n",
    "print('Количество комбинаций ', a)"
   ],
   "outputs": [
    {
     "output_type": "stream",
     "name": "stdout",
     "text": [
      "Количество комбинаций  5040.0\n"
     ]
    }
   ],
   "metadata": {}
  },
  {
   "cell_type": "markdown",
   "source": [
    "Задача 2\r\n",
    "\r\n",
    "Из колоды в 52 карты вынимают случайным образом 4 карты. Найти число исходов, соответствующих тому, что был вытянут хотя бы один туз. \r\n"
   ],
   "metadata": {}
  },
  {
   "cell_type": "code",
   "execution_count": 20,
   "source": [
    "\r\n",
    "def combinations(n: int, k: int) -> int:\r\n",
    "    \"\"\"количество сочетаний k из n\"\"\"\r\n",
    "    return np.math.factorial(n) / (np.math.factorial(k) * np.math.factorial(n - k))"
   ],
   "outputs": [],
   "metadata": {}
  },
  {
   "cell_type": "code",
   "execution_count": 26,
   "source": [
    "cards_4_of_52 = combinations(52, 4)\r\n",
    "\r\n",
    "print(\"комбинаций по 4 карты из 52\", cards_4_of_52)"
   ],
   "outputs": [
    {
     "output_type": "stream",
     "name": "stdout",
     "text": [
      "комбинаций по 4 карты из 52 270725.0\n"
     ]
    }
   ],
   "metadata": {}
  },
  {
   "cell_type": "code",
   "execution_count": 27,
   "source": [
    "cards_4_of_48 = combinations(48, 4)\r\n",
    "\r\n",
    "print(\"комбинаций по 4 карты из 48\", cards_4_of_48)"
   ],
   "outputs": [
    {
     "output_type": "stream",
     "name": "stdout",
     "text": [
      "комбинаций по 4 карты из 48 194580.0\n"
     ]
    }
   ],
   "metadata": {}
  },
  {
   "cell_type": "code",
   "execution_count": 28,
   "source": [
    "print(\"Комбинаций где хотябы один будет туз\", cards_4_of_52 - cards_4_of_48)"
   ],
   "outputs": [
    {
     "output_type": "stream",
     "name": "stdout",
     "text": [
      "Комбинаций где хотябы один будет туз 76145.0\n"
     ]
    }
   ],
   "metadata": {}
  },
  {
   "cell_type": "markdown",
   "source": [
    "Задача 3\n",
    "\n",
    "Семь человек рассаживаются наудачу на скамейке. Какова вероятность того, что два определённых человека будут сидеть рядом?"
   ],
   "metadata": {}
  },
  {
   "cell_type": "code",
   "execution_count": 29,
   "source": [
    "def probablity_pair(n: int, num_people: int, num_pair: int)-> int:\r\n",
    "    return (num_pair * num_people * np.math.factorial(n - num_people))/np.math.factorial(n)"
   ],
   "outputs": [],
   "metadata": {}
  },
  {
   "cell_type": "code",
   "execution_count": 30,
   "source": [
    "print('Вероятность того, что ', 2, 'из ', 7,'будут сидеть рядом:', probablity_pair(7,2,6))"
   ],
   "outputs": [
    {
     "output_type": "stream",
     "name": "stdout",
     "text": [
      "Вероятность того, что  2 из  7 будут сидеть рядом: 0.2857142857142857\n"
     ]
    }
   ],
   "metadata": {
    "scrolled": true
   }
  },
  {
   "cell_type": "markdown",
   "source": [
    "Задача 4 \r\n",
    " \r\n",
    "Из 60 вопросов, входящих в экзаменационные билеты, студент знает 50. Какова вероятность того, что среди трёх наугад выбранных вопросов студент знает: а) все? б) два?"
   ],
   "metadata": {}
  },
  {
   "cell_type": "code",
   "execution_count": 32,
   "source": [
    "def prob_happy_ticket(all_tick: int, know_tick: int, fortun_tick: int)-> int:\r\n",
    "    m = np.math.factorial(know_tick)/np.math.factorial(know_tick - fortun_tick) * np.math.factorial(fortun_tick)    \r\n",
    "    n = np.math.factorial(all_tick)/np.math.factorial(all_tick - fortun_tick) * np.math.factorial(fortun_tick)\r\n",
    "    return m/n"
   ],
   "outputs": [],
   "metadata": {}
  },
  {
   "cell_type": "code",
   "execution_count": 33,
   "source": [
    "print ('Вероятность того, что среди', 2, 'билетов студент знает все:', prob_happy_ticket(60,50,3))"
   ],
   "outputs": [
    {
     "output_type": "stream",
     "name": "stdout",
     "text": [
      "Вероятность того, что среди 2 билетов студент знает все: 0.5727644652250146\n"
     ]
    }
   ],
   "metadata": {}
  },
  {
   "cell_type": "code",
   "execution_count": 34,
   "source": [
    "print ('Вероятность того, что среди', 3, 'билетов студент знает все:', prob_happy_ticket(60,50,2))"
   ],
   "outputs": [
    {
     "output_type": "stream",
     "name": "stdout",
     "text": [
      "Вероятность того, что среди 3 билетов студент знает все: 0.692090395480226\n"
     ]
    }
   ],
   "metadata": {}
  },
  {
   "cell_type": "markdown",
   "source": [
    "Задача 5 \r\n",
    "\r\n",
    " Бросается игральная кость. Пусть событие A - появление чётного числа, событие B - появление числа больше трёх. Являются ли эти события независимыми?"
   ],
   "metadata": {}
  },
  {
   "cell_type": "markdown",
   "source": [
    "Считаем, что 𝑃(𝐴)=𝑃(𝐵)=1/2. Посчитаем совместную вероятность P(AB). Событие 𝐴𝐵 соответствует появлению чисел 4 и 6, т.е. P(AB)=1/3\r\n",
    "\r\n",
    "Следовательно, 𝑃(𝐴|𝐵) = P(AB)/𝑃(𝐵) = (1/3)/(1/2) = 2/3\r\n",
    "\r\n",
    "Поскольку 𝑃(𝐴|𝐵) не равно 𝑃(𝐴), заключаем, что события A и B зависимы."
   ],
   "metadata": {}
  }
 ],
 "metadata": {
  "kernelspec": {
   "name": "python3",
   "display_name": "Python 3.8.8 64-bit ('base': conda)"
  },
  "language_info": {
   "codemirror_mode": {
    "name": "ipython",
    "version": 3
   },
   "file_extension": ".py",
   "mimetype": "text/x-python",
   "name": "python",
   "nbconvert_exporter": "python",
   "pygments_lexer": "ipython3",
   "version": "3.8.8"
  },
  "interpreter": {
   "hash": "b3ba2566441a7c06988d0923437866b63cedc61552a5af99d1f4fb67d367b25f"
  }
 },
 "nbformat": 4,
 "nbformat_minor": 2
}