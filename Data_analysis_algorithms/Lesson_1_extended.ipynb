{
 "cells": [
  {
   "cell_type": "markdown",
   "source": [
    "### Домашнее задание <a class=\"anchor\" id=\"hw\"></a><center>"
   ],
   "metadata": {}
  },
  {
   "cell_type": "markdown",
   "source": [
    "1. Подберите скорость обучения (eta) и количество итераций"
   ],
   "metadata": {
    "colab_type": "text",
    "id": "huXrhXQsZTMt"
   }
  },
  {
   "cell_type": "code",
   "execution_count": 128,
   "source": [
    "n = X.shape[0]\r\n",
    "\r\n",
    "eta = 0.04\r\n",
    "n_iter = 100\r\n",
    "\r\n",
    "W = np.array([1, 0.5])\r\n",
    "print(f'Number of objects = {n} \\\r\n",
    "       \\nLearning rate = {eta} \\\r\n",
    "       \\nInitial weights = {W} \\n')\r\n",
    "MSE_old = 1\r\n",
    "MSE = 0\r\n",
    "i=0\r\n",
    "while abs(MSE - MSE_old) > 0.05:\r\n",
    "    i=i+1\r\n",
    "    y_pred = np.dot(X, W)\r\n",
    "    err = calc_mse(y, y_pred)\r\n",
    "    MSE_old = MSE\r\n",
    "    MSE = err\r\n",
    "    for k in range(W.shape[0]):\r\n",
    "        W[k] -= eta * (1/n * 2 * X[:, k] @ (y_pred - y))\r\n",
    "    if abs(MSE - MSE_old) < 0.4:\r\n",
    "        eta /= 1.5\r\n",
    "    print(f'Iteration #{i}: W_new = {W}, eta = {eta} MSE = {round(err, 2)}')"
   ],
   "outputs": [
    {
     "output_type": "stream",
     "name": "stdout",
     "text": [
      "Number of objects = 10        \n",
      "Learning rate = 0.04        \n",
      "Initial weights = [1.  0.5] \n",
      "\n",
      "Iteration #1: W_new = [ 5.32 15.58], eta = 0.04 MSE = 3047.75\n",
      "Iteration #2: W_new = [5.6752 9.1144], eta = 0.04 MSE = 1171.47\n",
      "Iteration #3: W_new = [ 7.553728 11.356768], eta = 0.04 MSE = 820.24\n",
      "Iteration #4: W_new = [ 8.74380544 10.0986688 ], eta = 0.04 MSE = 720.59\n",
      "Iteration #5: W_new = [10.14062049 10.26596593], eta = 0.04 MSE = 664.95\n",
      "Iteration #6: W_new = [11.38553903  9.87050335], eta = 0.04 MSE = 619.31\n",
      "Iteration #7: W_new = [12.6257751   9.71408943], eta = 0.04 MSE = 577.91\n",
      "Iteration #8: W_new = [13.80433163  9.47274178], eta = 0.04 MSE = 539.63\n",
      "Iteration #9: W_new = [14.94652708  9.27677337], eta = 0.04 MSE = 504.12\n",
      "Iteration #10: W_new = [16.0443793   9.07319509], eta = 0.04 MSE = 471.16\n",
      "Iteration #11: W_new = [17.10326214  8.88299874], eta = 0.04 MSE = 440.56\n",
      "Iteration #12: W_new = [18.12308147  8.69733754], eta = 0.04 MSE = 412.15\n",
      "Iteration #13: W_new = [19.10587394  8.51941893], eta = 0.04 MSE = 385.78\n",
      "Iteration #14: W_new = [20.05274348  8.34759944], eta = 0.04 MSE = 361.3\n",
      "Iteration #15: W_new = [20.96510014  8.18220577], eta = 0.04 MSE = 338.57\n",
      "Iteration #16: W_new = [21.84416274  8.02278189], eta = 0.04 MSE = 317.47\n",
      "Iteration #17: W_new = [22.69116207  7.86919946], eta = 0.04 MSE = 297.88\n",
      "Iteration #18: W_new = [23.50726123  7.7212093 ], eta = 0.04 MSE = 279.69\n",
      "Iteration #19: W_new = [24.2935901   7.57862196], eta = 0.04 MSE = 262.8\n",
      "Iteration #20: W_new = [25.05123363  7.44123447], eta = 0.04 MSE = 247.13\n",
      "Iteration #21: W_new = [25.78123866  7.30885952], eta = 0.04 MSE = 232.58\n",
      "Iteration #22: W_new = [26.48461328  7.18131329], eta = 0.04 MSE = 219.07\n",
      "Iteration #23: W_new = [27.16232903  7.05842003], eta = 0.04 MSE = 206.53\n",
      "Iteration #24: W_new = [27.8153219   6.94000982], eta = 0.04 MSE = 194.88\n",
      "Iteration #25: W_new = [28.44449379  6.82591921], eta = 0.04 MSE = 184.07\n",
      "Iteration #26: W_new = [29.05071368  6.71599058], eta = 0.04 MSE = 174.04\n",
      "Iteration #27: W_new = [29.63481885  6.61007211], eta = 0.04 MSE = 164.72\n",
      "Iteration #28: W_new = [30.19761603  6.50801752], eta = 0.04 MSE = 156.07\n",
      "Iteration #29: W_new = [30.73988255  6.40968585], eta = 0.04 MSE = 148.04\n",
      "Iteration #30: W_new = [31.26236734  6.31494128], eta = 0.04 MSE = 140.59\n",
      "Iteration #31: W_new = [31.76579204  6.22365298], eta = 0.04 MSE = 133.67\n",
      "Iteration #32: W_new = [32.25085197  6.13569484], eta = 0.04 MSE = 127.24\n",
      "Iteration #33: W_new = [32.71821705  6.05094539], eta = 0.04 MSE = 121.28\n",
      "Iteration #34: W_new = [33.16853279  5.96928757], eta = 0.04 MSE = 115.74\n",
      "Iteration #35: W_new = [33.60242115  5.89060861], eta = 0.04 MSE = 110.6\n",
      "Iteration #36: W_new = [34.02048139  5.81479983], eta = 0.04 MSE = 105.83\n",
      "Iteration #37: W_new = [34.42329092  5.74175653], eta = 0.04 MSE = 101.39\n",
      "Iteration #38: W_new = [34.81140608  5.67137783], eta = 0.04 MSE = 97.28\n",
      "Iteration #39: W_new = [35.18536292  5.60356652], eta = 0.04 MSE = 93.46\n",
      "Iteration #40: W_new = [35.54567792  5.53822895], eta = 0.04 MSE = 89.92\n",
      "Iteration #41: W_new = [35.89284874  5.47527488], eta = 0.04 MSE = 86.63\n",
      "Iteration #42: W_new = [36.22735487  5.41461735], eta = 0.04 MSE = 83.57\n",
      "Iteration #43: W_new = [36.54965832  5.35617259], eta = 0.04 MSE = 80.73\n",
      "Iteration #44: W_new = [36.86020423  5.29985987], eta = 0.04 MSE = 78.1\n",
      "Iteration #45: W_new = [37.15942152  5.24560143], eta = 0.04 MSE = 75.66\n",
      "Iteration #46: W_new = [37.44772346  5.19332232], eta = 0.04 MSE = 73.39\n",
      "Iteration #47: W_new = [37.72550822  5.14295034], eta = 0.04 MSE = 71.28\n",
      "Iteration #48: W_new = [37.99315948  5.09441591], eta = 0.04 MSE = 69.32\n",
      "Iteration #49: W_new = [38.25104691  5.047652  ], eta = 0.04 MSE = 67.51\n",
      "Iteration #50: W_new = [38.49952668  5.00259402], eta = 0.04 MSE = 65.82\n",
      "Iteration #51: W_new = [38.73894198  4.95917975], eta = 0.04 MSE = 64.26\n",
      "Iteration #52: W_new = [38.96962348  4.91734922], eta = 0.04 MSE = 62.8\n",
      "Iteration #53: W_new = [39.19188979  4.87704465], eta = 0.04 MSE = 61.45\n",
      "Iteration #54: W_new = [39.40604789  4.83821038], eta = 0.04 MSE = 60.2\n",
      "Iteration #55: W_new = [39.61239357  4.80079277], eta = 0.04 MSE = 59.04\n",
      "Iteration #56: W_new = [39.81121182  4.76474015], eta = 0.04 MSE = 57.96\n",
      "Iteration #57: W_new = [40.00277724  4.73000271], eta = 0.04 MSE = 56.96\n",
      "Iteration #58: W_new = [40.18735441  4.69653249], eta = 0.04 MSE = 56.03\n",
      "Iteration #59: W_new = [40.36519826  4.66428325], eta = 0.04 MSE = 55.16\n",
      "Iteration #60: W_new = [40.53655442  4.63321045], eta = 0.04 MSE = 54.36\n",
      "Iteration #61: W_new = [40.70165956  4.60327118], eta = 0.04 MSE = 53.62\n",
      "Iteration #62: W_new = [40.86074171  4.57442408], eta = 0.04 MSE = 52.93\n",
      "Iteration #63: W_new = [41.01402059  4.54662932], eta = 0.04 MSE = 52.28\n",
      "Iteration #64: W_new = [41.16170791  4.5198485 ], eta = 0.04 MSE = 51.69\n",
      "Iteration #65: W_new = [41.30400764  4.49404464], eta = 0.04 MSE = 51.14\n",
      "Iteration #66: W_new = [41.44111631  4.4691821 ], eta = 0.04 MSE = 50.62\n",
      "Iteration #67: W_new = [41.5732233   4.44522653], eta = 0.04 MSE = 50.15\n",
      "Iteration #68: W_new = [41.70051107  4.42214486], eta = 0.04 MSE = 49.7\n",
      "Iteration #69: W_new = [41.82315542  4.39990519], eta = 0.04 MSE = 49.29\n",
      "Iteration #70: W_new = [41.94132574  4.37847683], eta = 0.02666666666666667 MSE = 48.91\n",
      "Iteration #71: W_new = [42.01723207  4.36471239], eta = 0.017777777777777778 MSE = 48.56\n",
      "Iteration #72: W_new = [42.06660561  4.35575926], eta = 0.011851851851851851 MSE = 48.34\n",
      "Iteration #73: W_new = [42.09898764  4.34988728], eta = 0.007901234567901235 MSE = 48.2\n",
      "Iteration #74: W_new = [42.12034231  4.34601493], eta = 0.005267489711934157 MSE = 48.11\n",
      "Iteration #75: W_new = [42.13447618  4.34345198], eta = 0.0035116598079561047 MSE = 48.05\n",
      "Iteration #76: W_new = [42.14385349  4.34175154], eta = 0.0023411065386374033 MSE = 48.01\n"
     ]
    }
   ],
   "metadata": {
    "colab": {
     "base_uri": "https://localhost:8080/",
     "height": 185
    },
    "colab_type": "code",
    "id": "IDB22MQKMYaJ",
    "outputId": "4c03219e-a57c-4583-f439-6699fd0619bb"
   }
  },
  {
   "cell_type": "markdown",
   "source": [
    "2*. В этом коде мы избавляемся от итераций по весам, но тут есть ошибка, исправьте ее"
   ],
   "metadata": {
    "colab_type": "text",
    "id": "5Qu1o4JhZYwI"
   }
  },
  {
   "cell_type": "code",
   "execution_count": 130,
   "source": [
    "n = X.shape[0]\r\n",
    "\r\n",
    "eta = 1e-2 \r\n",
    "n_iter = 100\r\n",
    "\r\n",
    "W = np.array([1, 0.5])\r\n",
    "print(f'Number of objects = {n} \\\r\n",
    "       \\nLearning rate = {eta} \\\r\n",
    "       \\nInitial weights = {W} \\n')\r\n",
    "\r\n",
    "for i in range(n_iter):\r\n",
    "    y_pred = np.dot(X, W)\r\n",
    "    err = calc_mse(y, y_pred)\r\n",
    "#     for k in range(W.shape[0]):\r\n",
    "#         W[k] -= eta * (1/n * 2 * X[:, k] @ (y_pred - y))\r\n",
    "    # ИЗМЕНЕНИЯ\r\n",
    "    W -= eta * (1/n * 2 * np.dot(X.T, y_pred - y))\r\n",
    "    # ИЗМЕНЕНИЯ\r\n",
    "    #\r\n",
    "    if i % 10 == 0:\r\n",
    "        print(f'Iteration #{i}: W_new = {W}, MSE = {round(err,2)}')"
   ],
   "outputs": [
    {
     "output_type": "stream",
     "name": "stdout",
     "text": [
      "Number of objects = 10        \n",
      "Learning rate = 0.01        \n",
      "Initial weights = [1.  0.5] \n",
      "\n",
      "Iteration #0: W_new = [2.08 4.27], MSE = 3047.75\n",
      "Iteration #10: W_new = [ 7.0011236 10.6169007], MSE = 738.65\n",
      "Iteration #20: W_new = [10.3486292  10.10603105], MSE = 622.03\n",
      "Iteration #30: W_new = [13.38789582  9.55618391], MSE = 525.24\n",
      "Iteration #40: W_new = [16.16088505  9.05336203], MSE = 444.66\n",
      "Iteration #50: W_new = [18.69110735  8.59454545], MSE = 377.58\n",
      "Iteration #60: W_new = [20.99981865  8.17589626], MSE = 321.72\n",
      "Iteration #70: W_new = [23.10641138  7.79389815], MSE = 275.22\n",
      "Iteration #80: W_new = [25.02858024  7.44534246], MSE = 236.5\n",
      "Iteration #90: W_new = [26.78247081  7.12730145], MSE = 204.27\n"
     ]
    }
   ],
   "metadata": {}
  },
  {
   "cell_type": "markdown",
   "source": [
    "3*. Вместо того, чтобы задавать количество итераций, задайте другое условие останова алгоритма - когда веса перестают изменяться меньше определенного порога $\\epsilon$."
   ],
   "metadata": {}
  },
  {
   "cell_type": "code",
   "execution_count": 131,
   "source": [
    "n = X.shape[0]\r\n",
    "\r\n",
    "eta = 0.04\r\n",
    "n_iter = 100\r\n",
    "\r\n",
    "W = np.array([1, 0.5])\r\n",
    "print(f'Number of objects = {n} \\\r\n",
    "       \\nLearning rate = {eta} \\\r\n",
    "       \\nInitial weights = {W} \\n')\r\n",
    "MSE_old = 1\r\n",
    "MSE = 0\r\n",
    "i=0\r\n",
    "while abs(MSE - MSE_old) > 0.05:\r\n",
    "    i=i+1\r\n",
    "    y_pred = np.dot(X, W)\r\n",
    "    err = calc_mse(y, y_pred)\r\n",
    "    MSE_old = MSE\r\n",
    "    MSE = err\r\n",
    "    W -= eta * (1/n * 2 * np.dot(X.T, y_pred - y))\r\n",
    "    if abs(MSE - MSE_old) < 0.4:\r\n",
    "        eta /= 1.5\r\n",
    "    print(f'Iteration #{i}: W_new = {W}, eta = {eta} MSE = {round(err, 2)}')"
   ],
   "outputs": [
    {
     "output_type": "stream",
     "name": "stdout",
     "text": [
      "Number of objects = 10        \n",
      "Learning rate = 0.04        \n",
      "Initial weights = [1.  0.5] \n",
      "\n",
      "Iteration #1: W_new = [ 5.32 15.58], eta = 0.04 MSE = 3047.75\n",
      "Iteration #2: W_new = [5.6752 9.1144], eta = 0.04 MSE = 1171.47\n",
      "Iteration #3: W_new = [ 7.553728 11.356768], eta = 0.04 MSE = 820.24\n",
      "Iteration #4: W_new = [ 8.74380544 10.0986688 ], eta = 0.04 MSE = 720.59\n",
      "Iteration #5: W_new = [10.14062049 10.26596593], eta = 0.04 MSE = 664.95\n",
      "Iteration #6: W_new = [11.38553903  9.87050335], eta = 0.04 MSE = 619.31\n",
      "Iteration #7: W_new = [12.6257751   9.71408943], eta = 0.04 MSE = 577.91\n",
      "Iteration #8: W_new = [13.80433163  9.47274178], eta = 0.04 MSE = 539.63\n",
      "Iteration #9: W_new = [14.94652708  9.27677337], eta = 0.04 MSE = 504.12\n",
      "Iteration #10: W_new = [16.0443793   9.07319509], eta = 0.04 MSE = 471.16\n",
      "Iteration #11: W_new = [17.10326214  8.88299874], eta = 0.04 MSE = 440.56\n",
      "Iteration #12: W_new = [18.12308147  8.69733754], eta = 0.04 MSE = 412.15\n",
      "Iteration #13: W_new = [19.10587394  8.51941893], eta = 0.04 MSE = 385.78\n",
      "Iteration #14: W_new = [20.05274348  8.34759944], eta = 0.04 MSE = 361.3\n",
      "Iteration #15: W_new = [20.96510014  8.18220577], eta = 0.04 MSE = 338.57\n",
      "Iteration #16: W_new = [21.84416274  8.02278189], eta = 0.04 MSE = 317.47\n",
      "Iteration #17: W_new = [22.69116207  7.86919946], eta = 0.04 MSE = 297.88\n",
      "Iteration #18: W_new = [23.50726123  7.7212093 ], eta = 0.04 MSE = 279.69\n",
      "Iteration #19: W_new = [24.2935901   7.57862196], eta = 0.04 MSE = 262.8\n",
      "Iteration #20: W_new = [25.05123363  7.44123447], eta = 0.04 MSE = 247.13\n",
      "Iteration #21: W_new = [25.78123866  7.30885952], eta = 0.04 MSE = 232.58\n",
      "Iteration #22: W_new = [26.48461328  7.18131329], eta = 0.04 MSE = 219.07\n",
      "Iteration #23: W_new = [27.16232903  7.05842003], eta = 0.04 MSE = 206.53\n",
      "Iteration #24: W_new = [27.8153219   6.94000982], eta = 0.04 MSE = 194.88\n",
      "Iteration #25: W_new = [28.44449379  6.82591921], eta = 0.04 MSE = 184.07\n",
      "Iteration #26: W_new = [29.05071368  6.71599058], eta = 0.04 MSE = 174.04\n",
      "Iteration #27: W_new = [29.63481885  6.61007211], eta = 0.04 MSE = 164.72\n",
      "Iteration #28: W_new = [30.19761603  6.50801752], eta = 0.04 MSE = 156.07\n",
      "Iteration #29: W_new = [30.73988255  6.40968585], eta = 0.04 MSE = 148.04\n",
      "Iteration #30: W_new = [31.26236734  6.31494128], eta = 0.04 MSE = 140.59\n",
      "Iteration #31: W_new = [31.76579204  6.22365298], eta = 0.04 MSE = 133.67\n",
      "Iteration #32: W_new = [32.25085197  6.13569484], eta = 0.04 MSE = 127.24\n",
      "Iteration #33: W_new = [32.71821705  6.05094539], eta = 0.04 MSE = 121.28\n",
      "Iteration #34: W_new = [33.16853279  5.96928757], eta = 0.04 MSE = 115.74\n",
      "Iteration #35: W_new = [33.60242115  5.89060861], eta = 0.04 MSE = 110.6\n",
      "Iteration #36: W_new = [34.02048139  5.81479983], eta = 0.04 MSE = 105.83\n",
      "Iteration #37: W_new = [34.42329092  5.74175653], eta = 0.04 MSE = 101.39\n",
      "Iteration #38: W_new = [34.81140608  5.67137783], eta = 0.04 MSE = 97.28\n",
      "Iteration #39: W_new = [35.18536292  5.60356652], eta = 0.04 MSE = 93.46\n",
      "Iteration #40: W_new = [35.54567792  5.53822895], eta = 0.04 MSE = 89.92\n",
      "Iteration #41: W_new = [35.89284874  5.47527488], eta = 0.04 MSE = 86.63\n",
      "Iteration #42: W_new = [36.22735487  5.41461735], eta = 0.04 MSE = 83.57\n",
      "Iteration #43: W_new = [36.54965832  5.35617259], eta = 0.04 MSE = 80.73\n",
      "Iteration #44: W_new = [36.86020423  5.29985987], eta = 0.04 MSE = 78.1\n",
      "Iteration #45: W_new = [37.15942152  5.24560143], eta = 0.04 MSE = 75.66\n",
      "Iteration #46: W_new = [37.44772346  5.19332232], eta = 0.04 MSE = 73.39\n",
      "Iteration #47: W_new = [37.72550822  5.14295034], eta = 0.04 MSE = 71.28\n",
      "Iteration #48: W_new = [37.99315948  5.09441591], eta = 0.04 MSE = 69.32\n",
      "Iteration #49: W_new = [38.25104691  5.047652  ], eta = 0.04 MSE = 67.51\n",
      "Iteration #50: W_new = [38.49952668  5.00259402], eta = 0.04 MSE = 65.82\n",
      "Iteration #51: W_new = [38.73894198  4.95917975], eta = 0.04 MSE = 64.26\n",
      "Iteration #52: W_new = [38.96962348  4.91734922], eta = 0.04 MSE = 62.8\n",
      "Iteration #53: W_new = [39.19188979  4.87704465], eta = 0.04 MSE = 61.45\n",
      "Iteration #54: W_new = [39.40604789  4.83821038], eta = 0.04 MSE = 60.2\n",
      "Iteration #55: W_new = [39.61239357  4.80079277], eta = 0.04 MSE = 59.04\n",
      "Iteration #56: W_new = [39.81121182  4.76474015], eta = 0.04 MSE = 57.96\n",
      "Iteration #57: W_new = [40.00277724  4.73000271], eta = 0.04 MSE = 56.96\n",
      "Iteration #58: W_new = [40.18735441  4.69653249], eta = 0.04 MSE = 56.03\n",
      "Iteration #59: W_new = [40.36519826  4.66428325], eta = 0.04 MSE = 55.16\n",
      "Iteration #60: W_new = [40.53655442  4.63321045], eta = 0.04 MSE = 54.36\n",
      "Iteration #61: W_new = [40.70165956  4.60327118], eta = 0.04 MSE = 53.62\n",
      "Iteration #62: W_new = [40.86074171  4.57442408], eta = 0.04 MSE = 52.93\n",
      "Iteration #63: W_new = [41.01402059  4.54662932], eta = 0.04 MSE = 52.28\n",
      "Iteration #64: W_new = [41.16170791  4.5198485 ], eta = 0.04 MSE = 51.69\n",
      "Iteration #65: W_new = [41.30400764  4.49404464], eta = 0.04 MSE = 51.14\n",
      "Iteration #66: W_new = [41.44111631  4.4691821 ], eta = 0.04 MSE = 50.62\n",
      "Iteration #67: W_new = [41.5732233   4.44522653], eta = 0.04 MSE = 50.15\n",
      "Iteration #68: W_new = [41.70051107  4.42214486], eta = 0.04 MSE = 49.7\n",
      "Iteration #69: W_new = [41.82315542  4.39990519], eta = 0.04 MSE = 49.29\n",
      "Iteration #70: W_new = [41.94132574  4.37847683], eta = 0.02666666666666667 MSE = 48.91\n",
      "Iteration #71: W_new = [42.01723207  4.36471239], eta = 0.017777777777777778 MSE = 48.56\n",
      "Iteration #72: W_new = [42.06660561  4.35575926], eta = 0.011851851851851851 MSE = 48.34\n",
      "Iteration #73: W_new = [42.09898764  4.34988728], eta = 0.007901234567901235 MSE = 48.2\n",
      "Iteration #74: W_new = [42.12034231  4.34601493], eta = 0.005267489711934157 MSE = 48.11\n",
      "Iteration #75: W_new = [42.13447618  4.34345198], eta = 0.0035116598079561047 MSE = 48.05\n",
      "Iteration #76: W_new = [42.14385349  4.34175154], eta = 0.0023411065386374033 MSE = 48.01\n"
     ]
    }
   ],
   "metadata": {}
  }
 ],
 "metadata": {
  "colab": {
   "name": "Lesson_1.ipynb",
   "provenance": []
  },
  "kernelspec": {
   "name": "python3",
   "display_name": "Python 3.8.8 64-bit ('base': conda)"
  },
  "language_info": {
   "codemirror_mode": {
    "name": "ipython",
    "version": 3
   },
   "file_extension": ".py",
   "mimetype": "text/x-python",
   "name": "python",
   "nbconvert_exporter": "python",
   "pygments_lexer": "ipython3",
   "version": "3.8.8"
  },
  "interpreter": {
   "hash": "b3ba2566441a7c06988d0923437866b63cedc61552a5af99d1f4fb67d367b25f"
  }
 },
 "nbformat": 4,
 "nbformat_minor": 1
}