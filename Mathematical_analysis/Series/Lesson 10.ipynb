{
 "cells": [
  {
   "cell_type": "markdown",
   "source": [
    "### Тема  “Ряды”"
   ],
   "metadata": {}
  },
  {
   "cell_type": "markdown",
   "source": [
    "#### 1. Исследовать ряд на сходимость, используя признак д’Аламбера:"
   ],
   "metadata": {}
  },
  {
   "cell_type": "markdown",
   "source": [
    "$\\sum_{k=1}^\\infty \\frac{n^n}{(n!)^2}$"
   ],
   "metadata": {}
  },
  {
   "cell_type": "markdown",
   "source": [
    "$q=\\lim\\limits_{x \\to \\infty}\\frac{(n+1)^n*(n+1)}{((n+1!))^2}*\\frac{(n!)^2}{n^n}=$ ... $=\\frac{(1+\\frac{1}{n})^n}{n+1}=\\frac{e}{\\infty}=0$"
   ],
   "metadata": {}
  },
  {
   "cell_type": "markdown",
   "source": [
    "Ряд сходится"
   ],
   "metadata": {}
  },
  {
   "cell_type": "markdown",
   "source": [
    "#### 2. Исследовать ряд на сходимость, используя радикальный признак Коши:"
   ],
   "metadata": {}
  },
  {
   "cell_type": "markdown",
   "source": [
    "$\\sum_{k=1}^\\infty \\frac{n}{2^n}$"
   ],
   "metadata": {}
  },
  {
   "cell_type": "markdown",
   "source": [
    "$\\lim\\limits_{x \\to \\infty}\\sqrt[n]{\\frac{n}{2^n}}=\\frac{1}{2}\\lim\\limits_{x \\to \\infty}\\sqrt[n]{n}=\\frac{1}{2}$"
   ],
   "metadata": {}
  },
  {
   "cell_type": "markdown",
   "source": [
    "Ряд сходится"
   ],
   "metadata": {}
  },
  {
   "cell_type": "markdown",
   "source": [
    "#### 3. Исследовать ряд на сходимость, используя признак Лейбница:"
   ],
   "metadata": {}
  },
  {
   "cell_type": "markdown",
   "source": [
    "$\\sum_{k=1}^\\infty \\frac{(-1)^n}{n+\\ln(n)}$"
   ],
   "metadata": {}
  },
  {
   "cell_type": "markdown",
   "source": [
    "$\\lim\\limits_{x \\to \\infty}\\left|\\frac{(-1)^n}{n+\\ln(n)}\\right|=0$, монотонно убывает"
   ],
   "metadata": {}
  },
  {
   "cell_type": "markdown",
   "source": [
    "Ряд условно сходится"
   ],
   "metadata": {}
  },
  {
   "cell_type": "markdown",
   "source": [
    "#### 4. Исследовать ряд на сходимость, используя признак Раабе:"
   ],
   "metadata": {}
  },
  {
   "cell_type": "markdown",
   "source": [
    "$\\sum_{k=1}^\\infty \\frac{3^n}{2^n}$"
   ],
   "metadata": {}
  },
  {
   "cell_type": "markdown",
   "source": [
    "$\\lim\\limits_{x \\to \\infty}\\left(n*\\left(\\frac{\\frac{3^n}{2^n}}{\\frac{3^{n+1}}{2^{n+1}}}-1\\right)\\right)=-\\infty$"
   ],
   "metadata": {}
  },
  {
   "cell_type": "markdown",
   "source": [
    "Ряд рассходится"
   ],
   "metadata": {}
  },
  {
   "cell_type": "markdown",
   "source": [
    "#### 5. Разложить функцию по Тейлору в единице:"
   ],
   "metadata": {}
  },
  {
   "cell_type": "markdown",
   "source": [
    "$f(x)=\\ln(16x^2)$"
   ],
   "metadata": {}
  },
  {
   "cell_type": "markdown",
   "source": [
    "$\\ln(16)+\\frac{2}{1!}(x-1)^1-\\frac{2}{2!}(x-1)^2+\\frac{4}{3!}(x-1)^3-\\frac{12}{4!}(x-1)^4...$"
   ],
   "metadata": {}
  },
  {
   "cell_type": "markdown",
   "source": [
    "### Тема  “Понятие об интеграле”"
   ],
   "metadata": {}
  },
  {
   "cell_type": "markdown",
   "source": [
    "#### 1. Найти неопределенный интеграл:"
   ],
   "metadata": {}
  },
  {
   "cell_type": "markdown",
   "source": [
    "$\\int(2x^2-2x-1+\\sin(x)-\\cos(x)+\\ln(x)+e^x)dx=2\\int x^2dx-2\\int xdx-\\int dx+\\int\\sin(x)dx-\\int\\cos(x)dx+\\int\\ln(x)dx+\\int e^xdx=$<br>\n",
    "$\\frac{2}{3}x^3-x^2-x-\\cos(x)-\\sin(x)+x(\\ln(x)-1)+e^x+C$"
   ],
   "metadata": {}
  },
  {
   "cell_type": "markdown",
   "source": [
    "#### 2. Найти неопределенный интеграл:"
   ],
   "metadata": {}
  },
  {
   "cell_type": "markdown",
   "source": [
    "$\\int(2x+6xz^2-5x^2y-3\\ln(z))dx=x^2+3x^2z^2-\\frac{5}{3}x^3y-3x\\ln(z)+C$"
   ],
   "metadata": {}
  },
  {
   "cell_type": "markdown",
   "source": [
    "#### 3. Вычислить определенный интеграл:"
   ],
   "metadata": {}
  },
  {
   "cell_type": "markdown",
   "source": [
    "$\\int_{0}^{\\pi}3x^2\\sin(2x)dx=-\\frac{3\\pi^2}{2}$<br>\r\n"
   ],
   "metadata": {}
  },
  {
   "cell_type": "markdown",
   "source": [
    "#### 4. Найти неопределенный интеграл:"
   ],
   "metadata": {}
  },
  {
   "cell_type": "markdown",
   "source": [
    "$\\int\\frac{1}{\\sqrt{x+1}}dx=2(x+1)^{\\frac{1}{2}}+C$"
   ],
   "metadata": {}
  }
 ],
 "metadata": {
  "kernelspec": {
   "display_name": "Python 3",
   "language": "python",
   "name": "python3"
  },
  "language_info": {
   "codemirror_mode": {
    "name": "ipython",
    "version": 3
   },
   "file_extension": ".py",
   "mimetype": "text/x-python",
   "name": "python",
   "nbconvert_exporter": "python",
   "pygments_lexer": "ipython3",
   "version": "3.8.3"
  }
 },
 "nbformat": 4,
 "nbformat_minor": 4
}