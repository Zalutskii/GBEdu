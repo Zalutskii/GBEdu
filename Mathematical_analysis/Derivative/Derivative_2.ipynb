{
 "cells": [
  {
   "cell_type": "markdown",
   "source": [
    "##### Задание №1\r\n",
    "\r\n",
    "**Найти длину 𝑥 и ширину 𝑦 прямоугольника при заданном периметре 𝑃=144 cм, при которых данный прямоугольник имеет наибольшую площадь 𝑆.**"
   ],
   "metadata": {}
  },
  {
   "cell_type": "markdown",
   "source": [
    "#### $ P= 2(x + y) $\r\n",
    "#### $ S= x \\cdot y $\r\n",
    "$P= 2(x + y)=144 \\Rightarrow P= x + y=72 \\Rightarrow y=72-x$\r\n",
    "\r\n",
    "$ S= x \\cdot y \\Rightarrow S=x \\cdot (72-x)=72x-x^2$"
   ],
   "metadata": {}
  },
  {
   "cell_type": "markdown",
   "source": [
    "$S'=72-2x$"
   ],
   "metadata": {}
  },
  {
   "cell_type": "markdown",
   "source": [
    "x = y= 36"
   ],
   "metadata": {}
  },
  {
   "cell_type": "markdown",
   "source": [
    "##### Задание №2\r\n",
    "\r\n",
    "**найти экстремумы функций (если они есть)**"
   ],
   "metadata": {}
  },
  {
   "cell_type": "markdown",
   "source": [
    "### $y=|2x|$\r\n",
    "### $y'=2\\cdot \\frac x{|x|}=0$\r\n",
    "### $x=0$ минимум"
   ],
   "metadata": {}
  },
  {
   "cell_type": "markdown",
   "source": [
    "### $y=x^3$\r\n",
    "### Монотонно возрастает"
   ],
   "metadata": {}
  },
  {
   "cell_type": "markdown",
   "source": [
    "### $y=e^{3x}$\r\n",
    "### Монотонно возрастает"
   ],
   "metadata": {}
  },
  {
   "cell_type": "markdown",
   "source": [
    "### $y=x^3-5x$\r\n",
    "### $y'=3x^2-5=0$\r\n",
    "### $x=\\pm \\sqrt{\\frac 5{3}}$\r\n",
    "### $f'(-2)=7$\r\n",
    "### $f'(-1)=-2$\r\n",
    "### $f'(1)=-2$\r\n",
    "### $f'(2)=7$\r\n",
    "### 2 экстремума: ### $x=\\pm \\sqrt{\\frac 5{3}}$"
   ],
   "metadata": {}
  }
 ],
 "metadata": {
  "interpreter": {
   "hash": "b3ba2566441a7c06988d0923437866b63cedc61552a5af99d1f4fb67d367b25f"
  },
  "kernelspec": {
   "display_name": "Python 3.8.8 64-bit ('base': conda)",
   "name": "python3"
  },
  "language_info": {
   "name": "python",
   "version": ""
  }
 },
 "nbformat": 4,
 "nbformat_minor": 2
}