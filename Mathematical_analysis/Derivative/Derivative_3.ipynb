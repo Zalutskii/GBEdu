{
 "cells": [
  {
   "cell_type": "markdown",
   "source": [
    "### 1.       Найти область определения функции.\n",
    "### $z=\\sqrt{1-x^3}+ln(y^2-1)$"
   ],
   "metadata": {}
  },
  {
   "cell_type": "markdown",
   "source": [
    "### $\\sqrt{1-x^3}\\ge0$\r\n",
    "### $1-x^3\\ge0$\r\n",
    "### $x<=1$"
   ],
   "metadata": {}
  },
  {
   "cell_type": "markdown",
   "source": [
    "### $y^2-1>0$\r\n",
    "### $y>1$ и $y<-1$ "
   ],
   "metadata": {}
  },
  {
   "cell_type": "markdown",
   "source": [
    "### 2.       Найти производные 1-го порядка функции.\r\n",
    "# $z=(1+\\frac{lnx}{lny})^3=\\frac{(lny+lnx)^3}{ln^3y}$"
   ],
   "metadata": {}
  },
  {
   "cell_type": "markdown",
   "source": [
    "# $z'_x=(\\frac{(lny+lnx)^3}{ln^3y})'_x=\\frac{3(lnx+lny)^2}{xln^3y}=(\\frac{(lny+lnx)^3}{ln^3y})'_y=-\\frac{3lnx(lnx+lny)^2}{yln^4y}$"
   ],
   "metadata": {}
  },
  {
   "cell_type": "markdown",
   "source": [
    "### 3.       Найти полный дифференциал функции в точке (1;1).\n",
    "### $z=\\sqrt{2xy+cos(\\frac x{y})}$"
   ],
   "metadata": {}
  },
  {
   "cell_type": "markdown",
   "source": [
    "### $dz=(\\sqrt{2xy+cos(\\frac x{y})})\\frac{dz}{dx}+(\\sqrt{2xy+cos(\\frac x{y})})\\frac{dz}{dy}=\\frac{2y^2-sin(\\frac x{y})}{2y\\sqrt{2xy+cos(\\frac x{y})}}+\\frac{x(2y^2+sin(\\frac x{y}))}{2y^2\\sqrt{2xy+cos(\\frac x{y})}}=\\frac{y(2y^2-sin(\\frac x{y}))+x(2y^2+sin(\\frac x{y}))}{2y^2\\sqrt{2xy+cos(\\frac x{y})}}$\n",
    "### $dz(1;1)=\\frac{1(2\\cdot1^2-sin(\\frac 1{1}))+1(2\\cdot1^2+sin(\\frac 1{1}))}{2\\cdot1^2\\sqrt{2\\cdot1\\cdot1+cos(\\frac 1{1})}}=\\frac{2-sin(1)+2+sin(1)}{2\\sqrt{2+cos(1})}=\\frac4{2\\sqrt2}=\\sqrt2$"
   ],
   "metadata": {}
  },
  {
   "cell_type": "markdown",
   "source": [
    "### 4.       Исследовать на экстремум функцию.\n",
    "### $z=x^2+xy+y^2-6x-9y$"
   ],
   "metadata": {}
  },
  {
   "cell_type": "markdown",
   "source": [
    "### $\\frac{dz}{dx}=2x+y-6$\n",
    "### $\\frac{dz}{dy}=x+2y-9$"
   ],
   "metadata": {}
  },
  {
   "cell_type": "markdown",
   "source": [
    "### $z''_{xx}=2>0$ => в точке (1;4) функция имеет минимум."
   ],
   "metadata": {}
  }
 ],
 "metadata": {
  "kernelspec": {
   "display_name": "Python 3",
   "language": "python",
   "name": "python3"
  },
  "language_info": {
   "codemirror_mode": {
    "name": "ipython",
    "version": 3
   },
   "file_extension": ".py",
   "mimetype": "text/x-python",
   "name": "python",
   "nbconvert_exporter": "python",
   "pygments_lexer": "ipython3",
   "version": "3.8.5"
  }
 },
 "nbformat": 4,
 "nbformat_minor": 4
}