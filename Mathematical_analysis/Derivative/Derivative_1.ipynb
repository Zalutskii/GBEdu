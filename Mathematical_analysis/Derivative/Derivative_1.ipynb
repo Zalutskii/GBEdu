{
 "cells": [
  {
   "cell_type": "markdown",
   "metadata": {},
   "source": [
    "##### Задание №1\r\n",
    "\r\n",
    "**Найти производную выражения:**"
   ]
  },
  {
   "cell_type": "markdown",
   "metadata": {},
   "source": [
    "### $a) \\;\\; (\\sin x \\cdot \\cos x)^{'} = (\\sin x)^{'} \\cdot \\cos x + (\\cos x)^{'} \\cdot \\sin x = \\cos^{2}x - \\sin^{2}x$ "
   ]
  },
  {
   "cell_type": "markdown",
   "metadata": {},
   "source": [
    "### $b) \\;\\; (\\ln (2x + 1)^{3})^{'} = \\dfrac{6 \\ln{\\left(2 x + 1 \\right)}^{2}}{2 x + 1}$ "
   ]
  },
  {
   "cell_type": "markdown",
   "metadata": {},
   "source": [
    "### $c) \\;\\; \\left( \\sqrt{\\sin^{2}(\\ln(x^{3}))} \\right)^{'} = \\dfrac{3 {\\sin {\\left(\\ln{\\left(x^{3} \\right)} \\right)}} \\cos{\\left(\\ln{\\left(x^{3} \\right)} \\right)}}{x \\sqrt {\\sin^{2}}{\\left(\\ln{\\left(x^{3} \\right)} \\right)}} = \\dfrac{3 \\sqrt{2} \\sin (2\\ln(x^{3}))}{2x \\sqrt{1 - \\cos(2\\ln(x^{3})}}$"
   ]
  },
  {
   "cell_type": "markdown",
   "metadata": {},
   "source": [
    "### $d) \\;\\; \\left( \\dfrac{x^{4}}{ln(x)} \\right)^{'} = \\dfrac{4 x^{3}\\ln(x) - x^{3}}{\\ln{(x)^{2}}} = \\dfrac{x^{3}(4\\ln(x) - 1)}{\\ln{(x)^{2}}} = \\dfrac{4 x^{3}}{\\ln{\\left(x \\right)}} - \\dfrac{x^{3}}{\\ln{\\left(x \\right)}^{2}} $"
   ]
  },
  {
   "cell_type": "markdown",
   "metadata": {},
   "source": [
    "##### Задание №2\n",
    "\n",
    "**Найти выражение производной функции $f(x) = \\cos (x^{2} + 3x)$, и ее значение в точке $x_{0} = \\sqrt{\\pi}$:**"
   ]
  },
  {
   "cell_type": "markdown",
   "metadata": {},
   "source": [
    "### $(\\cos (x^{2} + 3x))^{'} = -\\sin(x^{2} + 3x)(2x + 3)$"
   ]
  },
  {
   "cell_type": "markdown",
   "metadata": {},
   "source": [
    "### $f^{'}(\\sqrt{\\pi}) = -\\sin(4\\pi)(2\\sqrt{\\pi} + 3) = 0$"
   ]
  },
  {
   "cell_type": "markdown",
   "metadata": {},
   "source": [
    "##### Задание №3\n",
    "\n",
    "***Найти значение производной функции в точке:**"
   ]
  },
  {
   "cell_type": "markdown",
   "metadata": {},
   "source": [
    "## $f(x)=\\frac{x^3-x^2-x-1}{1+2x+3x^2-4x^3}, \\ x_0=0$\r\n",
    "\r\n",
    "\r\n",
    "## $\\left(\\frac{x^3-x^2-x-1}{1+2x+3x^2-4x^3}\\right)'=\\frac{1+4x-8x^2-4x^3-x^4}{(1+2x+3x^2-4x^3)^2}$ (при $x_0=0$)=1"
   ]
  },
  {
   "cell_type": "markdown",
   "metadata": {},
   "source": [
    "##### Задание №4\n",
    "\n",
    "**Найти угол наклона касательной к графику функции $f(x) = \\sqrt{3x} \\cdot \\ln x$, в точке $x_{0} = 1$:**"
   ]
  },
  {
   "cell_type": "markdown",
   "metadata": {},
   "source": [
    "### $ \\left(\\sqrt{3x} \\cdot \\ln x \\right)^{'} = \\dfrac{3}{2\\sqrt{3x}} \\cdot \\ln x - \\dfrac{\\sqrt{3x}}{x} $"
   ]
  },
  {
   "cell_type": "markdown",
   "metadata": {},
   "source": [
    "### $ f^{'}(1) = \\dfrac{\\sqrt{3}}{2} \\cdot \\ln(1) - \\sqrt{3} = -\\sqrt{3} $"
   ]
  }
 ],
 "metadata": {
  "interpreter": {
   "hash": "b3ba2566441a7c06988d0923437866b63cedc61552a5af99d1f4fb67d367b25f"
  },
  "kernelspec": {
   "display_name": "Python 3.8.8 64-bit ('base': conda)",
   "name": "python3"
  },
  "language_info": {
   "name": "python",
   "version": ""
  }
 },
 "nbformat": 4,
 "nbformat_minor": 2
}