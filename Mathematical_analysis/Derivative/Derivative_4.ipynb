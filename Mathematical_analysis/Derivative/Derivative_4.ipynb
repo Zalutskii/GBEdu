{
 "cells": [
  {
   "cell_type": "markdown",
   "metadata": {},
   "source": [
    "### ДЗ по теме “Функция нескольких переменных”"
   ]
  },
  {
   "cell_type": "markdown",
   "metadata": {},
   "source": [
    "#### Исследовать функцию на условный экстремум"
   ]
  },
  {
   "cell_type": "markdown",
   "metadata": {},
   "source": [
    "#### 1.\n",
    "$U=3-8x+6y$, если $x^2+y^2=36$"
   ]
  },
  {
   "cell_type": "markdown",
   "metadata": {},
   "source": [
    "$L(\\lambda;x;y)=-8x+6y+3+\\lambda(x^2+y^2-36)$"
   ]
  },
  {
   "cell_type": "markdown",
   "metadata": {},
   "source": [
    "$\\left\\{\n",
    "\\begin{array}{rcl}\n",
    "L'_x=-8+\\lambda2x=0\\\\\n",
    "L'_y=6+\\lambda2y=0\\\\\n",
    "L'_\\lambda=x^2+y^2-36=0\n",
    "\\end{array}\n",
    "\\right.\\implies\n",
    "\\left\\{\n",
    "\\begin{array}{rcl}\n",
    "x=\\frac{4}{\\lambda}\\\\\n",
    "y=-\\frac{3}{\\lambda}\\\\\n",
    "\\frac{16}{\\lambda^2}+\\frac{9}{\\lambda^2}=36\n",
    "\\end{array}\n",
    "\\right.\\implies\n",
    "\\left\\{\n",
    "\\begin{array}{rcl}\n",
    "x=\\frac{4}{\\lambda}\\\\\n",
    "y=-\\frac{3}{\\lambda}\\\\\n",
    "\\lambda^2=\\frac{25}{36}\n",
    "\\end{array}\n",
    "\\right.$"
   ]
  },
  {
   "cell_type": "markdown",
   "metadata": {},
   "source": [
    "Находим координаты точек для исследования:<br>$\\left(\\frac{5}{6};\\frac{24}{5};-\\frac{18}{5}\\right)\\left(-\\frac{5}{6};-\\frac{24}{5};\\frac{18}{5}\\right)$"
   ]
  },
  {
   "cell_type": "markdown",
   "metadata": {},
   "source": [
    "Находим 2-е производные<br>\n",
    "$L_{xx}^{''}=2\\lambda, \\ L_{yy}^{''}=2\\lambda, \\ L_{\\lambda\\lambda}^{''}=0 \\\\ L_{xy}^{''}=0, \\ L_{x\\lambda}^{''}=2x, \\ L_{y\\lambda}^{''}=2y$"
   ]
  },
  {
   "cell_type": "markdown",
   "metadata": {},
   "source": [
    "Строим матрицу:<br>\n",
    "$\\left(\\begin{array}{cccc}\n",
    "L_{\\lambda\\lambda}^{''}& L_{\\lambda x}^{''}& L_{\\lambda y}^{''}\\\\\n",
    "L_{x\\lambda}^{''}& L_{xx}^{''}& L_{xy}^{''}\\\\\n",
    "L_{y\\lambda}^{''}& L_{yx}^{''}& L_{yy}^{''}\n",
    "\\end{array}\\right)=\n",
    "\\left(\\begin{array}{cccc}\n",
    "0& 2x& 2y\\\\\n",
    "2x& 2\\lambda& 0\\\\\n",
    "2y& 0& 2\\lambda\n",
    "\\end{array}\\right)$"
   ]
  },
  {
   "cell_type": "markdown",
   "metadata": {},
   "source": [
    "Находим определитель матрицы:<br>\n",
    "$\\left|\\begin{array}{cccc}\n",
    "0& 2x& 2y\\\\\n",
    "2x& 2\\lambda& 0\\\\\n",
    "2y& 0& 2\\lambda\n",
    "\\end{array}\\right|=\n",
    "0*\\left|\\begin{array}{cccc}\n",
    "2\\lambda& 0\\\\\n",
    "0& 2\\lambda\n",
    "\\end{array}\\right|-\n",
    "2x*\\left|\\begin{array}{cccc}\n",
    "2x& 0\\\\\n",
    "2y& 2\\lambda\n",
    "\\end{array}\\right|+\n",
    "2y*\\left|\\begin{array}{cccc}\n",
    "2x& 2\\lambda\\\\\n",
    "2y& 0\n",
    "\\end{array}\\right|=\n",
    "-8x^2\\lambda-8y^2\\lambda=-8\\lambda \\left(x^2+y^2\\right)\\implies$"
   ]
  },
  {
   "cell_type": "markdown",
   "metadata": {},
   "source": [
    "Знак определителя зависит от $\\lambda \\implies$"
   ]
  },
  {
   "cell_type": "markdown",
   "metadata": {},
   "source": [
    "$\\left(\\frac{5}{6};\\frac{24}{5};-\\frac{18}{5}\\right)-\\min \\\\ \\left(-\\frac{5}{6};-\\frac{24}{5};\\frac{18}{5}\\right)-\\max$"
   ]
  },
  {
   "cell_type": "markdown",
   "metadata": {},
   "source": [
    "#### 2.\n",
    "$U=2x^2+12xy+32y^2+15$, если $x^2+16y^2=64$"
   ]
  },
  {
   "cell_type": "markdown",
   "metadata": {},
   "source": [
    "$L(\\lambda;x;y)=2x^2+12xy+32y^2+15+\\lambda(x^2+16y^2-64)$"
   ]
  },
  {
   "cell_type": "markdown",
   "metadata": {},
   "source": [
    "$\\left\\{\n",
    "\\begin{array}{rcl}\n",
    "L_x^{'}=4x+12y+\\lambda2x=0\\\\\n",
    "L'_y=12x+64y+\\lambda32y=0\\\\\n",
    "L'_\\lambda=x^2+16y^2-64=0\n",
    "\\end{array}\n",
    "\\right.\\implies\n",
    "\\left\\{\n",
    "\\begin{array}{rcl}\n",
    "\\lambda=-\\frac{2x+6y}{x}\\\\\n",
    "\\lambda=-\\frac{3x+16y}{8y}\\\\\n",
    "x^2+16y^2=64\n",
    "\\end{array}\n",
    "\\right.\\implies\n",
    "(Здесь \\ мы \\ \\lambda \\ делим \\ на \\ -8xy)\\left\\{\n",
    "\\begin{array}{rcl}\n",
    "\\lambda=-\\frac{2x+6y}{x}\\\\\n",
    "16xy+48y^2=3x^2+16yx\\\\\n",
    "x^2+16y^2=64\n",
    "\\end{array}\n",
    "\\right.\\implies\n",
    "\\left\\{\n",
    "\\begin{array}{rcl}\n",
    "\\lambda=-\\frac{2x+6y}{x}\\\\\n",
    "16y^2=x^2\\\\\n",
    "x^2+x^2=64\n",
    "\\end{array}\n",
    "\\right.$"
   ]
  },
  {
   "cell_type": "markdown",
   "metadata": {},
   "source": [
    "Находим координаты точек для исследования:<br>$\\left(-\\frac{7}{2};4\\sqrt{2};\\sqrt{2}\\right), \\left(-\\frac{1}{2};4\\sqrt{2};-\\sqrt{2}\\right), \\left(-\\frac{1}{2};-4\\sqrt{2};\\sqrt{2}\\right), \\left(-\\frac{7}{2};-4\\sqrt{2};-\\sqrt{2}\\right)$"
   ]
  },
  {
   "cell_type": "markdown",
   "metadata": {},
   "source": [
    "Находим 2-е производные<br>\n",
    "$L_{xx}^{''}=4+2\\lambda, \\ L_{yy}^{''}=64+32\\lambda, \\ L_{\\lambda\\lambda}^{''}=0 \\\\ L_{xy}^{''}=12, \\ L_{x\\lambda}^{''}=2x, \\ L_{y\\lambda}^{''}=32y$"
   ]
  },
  {
   "cell_type": "markdown",
   "metadata": {},
   "source": [
    "Строим матрицу:<br>\n",
    "$\\left(\\begin{array}{cccc}\n",
    "L_{\\lambda\\lambda}^{''}& L_{\\lambda x}^{''}& L_{\\lambda y}^{''}\\\\\n",
    "L_{x\\lambda}^{''}& L_{xx}^{''}& L_{xy}^{''}\\\\\n",
    "L_{y\\lambda}^{''}& L_{yx}^{''}& L_{yy}^{''}\n",
    "\\end{array}\\right)=\n",
    "\\left(\\begin{array}{cccc}\n",
    "0& 2x& 32y\\\\\n",
    "2x& 4+2\\lambda& 12\\\\\n",
    "32y& 12& 64+32\\lambda\n",
    "\\end{array}\\right)$"
   ]
  },
  {
   "cell_type": "markdown",
   "metadata": {},
   "source": [
    "Находим определитель матрицы:<br>\n",
    "$\\left|\\begin{array}{cccc}\n",
    "0& 2x& 32y\\\\\n",
    "2x& 4+2\\lambda& 12\\\\\n",
    "32y& 12& 64+32\\lambda\n",
    "\\end{array}\\right|=\n",
    "-2x*\\left|\\begin{array}{cccc}\n",
    "2x& 12\\\\\n",
    "32y& 64+32\\lambda\n",
    "\\end{array}\\right|+\n",
    "32y*\\left|\\begin{array}{cccc}\n",
    "2x& 4+2\\lambda\\\\\n",
    "32y& 12\n",
    "\\end{array}\\right|=\n",
    "1536xy-8192\\lambda-16384\\implies$"
   ]
  },
  {
   "cell_type": "markdown",
   "metadata": {},
   "source": [
    "$\\left(-\\frac{7}{2};4\\sqrt{2};\\sqrt{2}\\right)-\\max \\\\ \\left(-\\frac{1}{2};4\\sqrt{2};-\\sqrt{2}\\right)-\\min \\\\ \\left(-\\frac{1}{2};-4\\sqrt{2};\\sqrt{2}\\right)-\\min \\\\ \\left(-\\frac{7}{2};-4\\sqrt{2};-\\sqrt{2}\\right)-\\max$"
   ]
  },
  {
   "cell_type": "markdown",
   "metadata": {},
   "source": [
    "#### 3. Найти производную функции $U=x^2+y^2+z^2$ по направлению вектора $\\overrightarrow{C}(-9;8;-12)$ в точке $M(8;-12;9)$"
   ]
  },
  {
   "cell_type": "markdown",
   "metadata": {},
   "source": [
    "$U_\\overrightarrow{c}^{'}=(\\overrightarrow{c}_0*grad U)$"
   ]
  },
  {
   "cell_type": "markdown",
   "metadata": {},
   "source": [
    "$U_x^{'}=2x \\\\\n",
    "U_y^{'}=2y \\\\\n",
    "U_z^{'}=2z$"
   ]
  },
  {
   "cell_type": "markdown",
   "metadata": {},
   "source": [
    "$gradU|_M=(16; -24; 18)$"
   ]
  },
  {
   "cell_type": "markdown",
   "metadata": {},
   "source": [
    "$|\\overrightarrow{c}|= \\sqrt{81+16+144}=\\sqrt{289}=17$"
   ]
  },
  {
   "cell_type": "markdown",
   "metadata": {},
   "source": [
    "$\\overrightarrow{c}_0=\\frac{\\overrightarrow{c}}{|\\overrightarrow{c}|}=\\left(-\\frac{9}{17};\\frac{8}{17};-\\frac{12}{17}\\right)$"
   ]
  },
  {
   "cell_type": "markdown",
   "metadata": {},
   "source": [
    "$U_\\overrightarrow{c}^{'}=-\\frac{9}{17}*16-\\frac{8}{17}*24-\\frac{12}{17}*18=\\frac{552}{17}$"
   ]
  },
  {
   "cell_type": "markdown",
   "metadata": {},
   "source": [
    "#### 4. Найти производную функции $U=e^{x^2+y^2+z^2}$ по направлению вектора $\\overrightarrow{d}(4;-13;-16)$ в точке $L(-16;4;-13)$"
   ]
  },
  {
   "cell_type": "markdown",
   "metadata": {},
   "source": [
    "$U_\\overrightarrow{d}^{'}=(\\overrightarrow{d}_0*grad U)$"
   ]
  },
  {
   "cell_type": "markdown",
   "metadata": {},
   "source": [
    "$U_x^{'}=e^{x^2+y^2+z^2}2x \\\\\n",
    "U_y^{'}=e^{x^2+y^2+z^2}2y \\\\\n",
    "U_z^{'}=e^{x^2+y^2+z^2}2z$"
   ]
  },
  {
   "cell_type": "markdown",
   "metadata": {},
   "source": [
    "$gradU|_L=(-32e^{441};8e^{441};-26e^{441})$"
   ]
  },
  {
   "cell_type": "markdown",
   "metadata": {},
   "source": [
    "$|\\overrightarrow{d}|= \\sqrt{4^2+(-13)^2+(-16)^2}=\\sqrt{441}=21$"
   ]
  },
  {
   "cell_type": "markdown",
   "metadata": {},
   "source": [
    "$\\overrightarrow{d}_0=\\frac{\\overrightarrow{d}}{|\\overrightarrow{d}|}=\\left(\\frac{4}{21};-\\frac{13}{21};-\\frac{16}{21}\\right)$"
   ]
  },
  {
   "cell_type": "markdown",
   "metadata": {},
   "source": [
    "$U_\\overrightarrow{d}^{'}=\\frac{4}{21}*\\left(-32e^{441}\\right)-\\frac{13}{21}*8e^{441}-\\frac{16}{21}*\\left(-26e^{441}\\right)=\\frac{184}{21}e^{441}$"
   ]
  }
 ],
 "metadata": {
  "kernelspec": {
   "display_name": "Python 3",
   "language": "python",
   "name": "python3"
  },
  "language_info": {
   "codemirror_mode": {
    "name": "ipython",
    "version": 3
   },
   "file_extension": ".py",
   "mimetype": "text/x-python",
   "name": "python",
   "nbconvert_exporter": "python",
   "pygments_lexer": "ipython3",
   "version": "3.8.3"
  }
 },
 "nbformat": 4,
 "nbformat_minor": 4
}
