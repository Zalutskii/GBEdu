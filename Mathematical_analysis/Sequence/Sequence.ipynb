{
 "cells": [
  {
   "cell_type": "markdown",
   "metadata": {},
   "source": [
    "### Тема “Введение в математических анализ”"
   ]
  },
  {
   "cell_type": "markdown",
   "metadata": {},
   "source": [
    "#### 1. Как относятся друг к другу множество и последовательность? (в ответе использовать слова типа: часть, целое, общее, частное, родитель, дочерний субъект и т.д.)"
   ]
  },
  {
   "cell_type": "markdown",
   "metadata": {},
   "source": [
    "Ответ: Множество и последовательность относятся друг к другу как общее к частному."
   ]
  },
  {
   "cell_type": "markdown",
   "metadata": {},
   "source": [
    "#### 2. Прочитать высказывания математической логики, построить их отрицания и установить истинность."
   ]
  },
  {
   "cell_type": "markdown",
   "metadata": {},
   "source": [
    "1) Для любого $y$ принадлежащего к отрезку от 0 до 1, в функции $sign(y)$ равен 1.\n",
    "    \n",
    "Отрицание: существует $у$ пренадлежащий к отрезку от 0 до 1, который в функции $sign(y)$ не равен 1\n",
    "$\\exists y \\in [0;1] : sgn(y) \\neq 1$$\n",
    "\n",
    "Истинность: Ложь"
   ]
  },
  {
   "cell_type": "markdown",
   "metadata": {},
   "source": [
    "2) Для любого $n$ принадлежащёму к натуральным числам, которые больше 2, найдутся $x, y$ и $z$ пренадлежащие к натуральным числам, при которых $x$ в степени $n$ равно $y$ в степени $n$ плюс $z$ в степени $n$\n",
    "\n",
    "Отрицание: Cуществует натуральное $n$, которые больше 2, при которм для любых натуральных $x, y$ или $z$, справедливо неравенство $x$ в степени $n$ не равно $y$ в степени $n$ плюс $z$ в степени $n$\n",
    "$$\\exists n \\in N > 2 : \\forall x,y,z \\in N : x^n \\neq y^n + z^n$$\n",
    "\n",
    "Истинность: Ложь"
   ]
  },
  {
   "cell_type": "markdown",
   "metadata": {},
   "source": [
    "3) Для любого $x$ принадлежащего к действительным числам существует $X$ большое принадлежащее к дествительным чиселам, которое больше $x$\n",
    "\n",
    "Отрицание: Существует действительное $x$ при котором найдёлся действительное $X$ большое, которое меньше или равено $x$\n",
    "$$\\exists x \\in R \\forall X \\in R : X \\leq x$$\n",
    "\n",
    "Истинность: истина"
   ]
  },
  {
   "cell_type": "markdown",
   "metadata": {},
   "source": [
    "4) Для любого $x$ принадлежащего к комплексным числам не существует $y$ пренадлещайщий к комплексным числам, при котором $x$ больше $y$ или $x$ меньше $y$\n",
    "\n",
    "Отрицание: Cуществуют комплексные числа $x$ и $y$, при которых $x$ меньше или равно $y$ и $x$ больше или равно $y$\n",
    "$$\\exists x, y \\in C : x \\leq y\\| x \\geq y$$\n",
    "\n",
    "Истинность: истина"
   ]
  },
  {
   "cell_type": "markdown",
   "metadata": {},
   "source": [
    "5) Для любого $y$ из отрезка от 0 до $\\pi$ деленное на 2 существует положительный $\\varepsilon$, при котором $\\sin y$  меньше функции $sin$ в которой $y$ плюс $\\varepsilon$\n",
    "\n",
    "Отрицание: Существует $y$ из отрезка от 0 до $\\pi$ деленное на 2 для которого любой положительный $\\varepsilon$, при котором $\\sin y$ больше или равен функции $sin$ в которой $y$ плюс $\\varepsilon$ \n",
    "$$\\exists y \\in \\left[ 0; \\frac{\\pi}{2} \\right] \\forall \\varepsilon > 0 : \\sin y \\geq \\sin(y + \\varepsilon)$$\n",
    "\n",
    " Истинность: ложь"
   ]
  },
  {
   "cell_type": "markdown",
   "metadata": {},
   "source": [
    "6) Для любого $y$ в полуинтервале от 0 до $\\pi$ существует положимтельный $\\varepsilon$, при котором $\\cos y$ больше функции $\\cos y$ плюс $\\varepsilon$\n",
    "\n",
    "Отрицание: Существует $y$ в полуинтервале от 0 до $\\pi$ для которого любой положительный $\\varepsilon$, при котором $\\cos y$ меньше или равно функции $\\cos$ в которй $y$ плюс $\\varepsilon$\n",
    "$$\\exists y \\in [0;\\pi) \\forall \\varepsilon > 0 : \\cos y \\leq \\cos(y+\\varepsilon)$$\n",
    "\n",
    "Истинность: истина"
   ]
  },
  {
   "cell_type": "markdown",
   "metadata": {},
   "source": [
    "7) Сущкствует $x$ при котором $x$ не пренадлежит к множетву из натуральных, целых, рациональных, вещественных и комплексных чисел\n",
    "\n",
    "Отрицание: Любое $x$ является таким, что $x$ пренадлежит к множеству из натуральных, целых, рациональных, вещественных и комплексных чисел\n",
    "$$\\forall x : x \\in \\{N, Z, Q, R, C\\}$$\n",
    "\n",
    "Истинность: истина"
   ]
  },
  {
   "cell_type": "markdown",
   "metadata": {},
   "source": [
    "### Тема “Множество”"
   ]
  },
  {
   "cell_type": "markdown",
   "metadata": {},
   "source": [
    "#### 1. Даны три множества A,B и C. Необходимо выполнить все изученные виды бинарных операций над всеми комбинациями множеств.\n",
    "$$A \\cap B = \\{ x|x \\in A \\ \\& \\ x \\in B \\}$$\n",
    "$$A \\cup B = \\{ x|x \\in A \\ \\| \\ x \\in B \\} $$\n",
    "$$A \\setminus B = A \\cap \\bar{B} = \\{ x|x \\in A \\ \\& \\ x \\notin B \\}$$\n",
    "$$A \\Delta B = \\{ x|x \\in A \\ \\oplus \\ x \\in B \\} $$\n",
    "$$A * B = \\{(a;b)|a \\in A, b \\in B \\}$$\n",
    "\\\n",
    "$$A \\cap C = \\{ x|x \\in A \\ \\& \\ x \\in C \\}$$\n",
    "$$A \\cup C = \\{ x|x \\in A \\ \\| \\ x \\in C \\}$$\n",
    "$$A \\setminus C = A \\cap \\bar{C} = \\{ x|x \\in A \\ \\& \\ x \\notin C \\}$$\n",
    "$$A \\Delta C = \\{ x|x \\in A \\ \\oplus \\ x \\in C \\}$$\n",
    "$$A * C = \\{(a;b)|a \\in A, b \\in C \\}$$\n",
    "\\\n",
    "\\\n",
    "$$B \\cap A = \\{ x|x \\in B \\ \\& \\ x \\in A \\}$$\n",
    "$$B \\cup A = \\{ x|x \\in B \\ \\| \\ x \\in A \\}$$\n",
    "$$B \\setminus A = B \\cap \\bar{A} = \\{ x|x \\in B \\ \\& \\ x \\notin A \\}$$\n",
    "$$B \\Delta A = \\{ x|x \\in B \\ \\oplus \\ x \\in A \\}$$\n",
    "$$B * A = \\{(a;b)|a \\in B, b \\in A \\}$$\n",
    "\\\n",
    "$$B \\cap C = \\{ x|x \\in B \\ \\& \\ x \\in C \\}$$\n",
    "$$B \\cup C = \\{ x|x \\in B \\ \\| \\ x \\in C \\}$$\n",
    "$$B \\setminus C = B \\cap \\bar{C} = \\{ x|x \\in B \\ \\& \\ x \\notin C \\}$$\n",
    "$$B \\Delta C = \\{ x|x \\in B \\ \\oplus \\ x \\in C \\}$$\n",
    "$$B * C = \\{(a;b)|a \\in B, b \\in C \\}$$\n",
    "\\\n",
    "\\\n",
    "$$C \\cap A = \\{ x|x \\in C \\ \\& \\ x \\in A \\}$$\n",
    "$$C \\cup A = \\{ x|x \\in C \\ \\| \\ x \\in A \\}$$\n",
    "$$C \\setminus A = C \\cap \\bar{A} = \\{ x|x \\in B \\ \\& \\ x \\notin A \\}$$\n",
    "$$C \\Delta A = \\{ x|x \\in C \\ \\oplus \\ x \\in A \\}$$\n",
    "$$C * A = \\{(a;b)|a \\in C, b \\in A \\}$$\n",
    "\\\n",
    "$$C \\cap B = \\{ x|x \\in C \\ \\& \\ x \\in B \\}$$\n",
    "$$C \\cup B = \\{ x|x \\in C \\ \\| \\ x \\in B \\} $$\n",
    "$$C \\setminus B = C \\cap \\bar{B} = \\{ x|x \\in C \\ \\& \\ x \\notin B \\}$$\n",
    "$$C \\Delta B = \\{ x|x \\in C \\ \\oplus \\ x \\in B \\} $$\n",
    "$$C * B = \\{(a;b)|a \\in C, b \\in B \\}$$"
   ]
  },
  {
   "cell_type": "markdown",
   "metadata": {},
   "source": [
    "#### 2. *Выполнить задание 1 на языке Python"
   ]
  },
  {
   "cell_type": "code",
   "execution_count": 20,
   "metadata": {},
   "outputs": [],
   "source": [
    "nums = np.arange(1, 10)\n",
    "\n",
    "a = set(n for n in nums if n % 2 != 0), 'a'\n",
    "b = set(np.random.choice(nums, 7)), 'b'\n",
    "c = {()}, 'c'"
   ]
  },
  {
   "cell_type": "code",
   "execution_count": 21,
   "metadata": {},
   "outputs": [
    {
     "name": "stdout",
     "output_type": "stream",
     "text": [
      "\"a\" union \"b\" : {1, 2, 3, 5, 6, 7, 8, 9}\n",
      "\"a\" intersection \"b\" : {1, 7}\n",
      "\"a\" difference \"b\" : {9, 3, 5}\n",
      "\"a\" symmetric_difference \"b\" : {2, 3, 5, 6, 8, 9}\n",
      "\n",
      "\"a\" union \"c\" : {1, 3, 5, 7, 9, ()}\n",
      "\"a\" intersection \"c\" : set()\n",
      "\"a\" difference \"c\" : {1, 3, 5, 7, 9}\n",
      "\"a\" symmetric_difference \"c\" : {1, 3, 5, 7, 9, ()}\n",
      "\n",
      "\"b\" union \"a\" : {1, 2, 3, 5, 6, 7, 8, 9}\n",
      "\"b\" intersection \"a\" : {1, 7}\n",
      "\"b\" difference \"a\" : {8, 2, 6}\n",
      "\"b\" symmetric_difference \"a\" : {2, 3, 5, 6, 8, 9}\n",
      "\n",
      "\"b\" union \"c\" : {1, 2, 6, 7, 8, ()}\n",
      "\"b\" intersection \"c\" : set()\n",
      "\"b\" difference \"c\" : {1, 2, 6, 7, 8}\n",
      "\"b\" symmetric_difference \"c\" : {1, 2, 6, 7, 8, ()}\n",
      "\n",
      "\"c\" union \"a\" : {1, 3, 5, 7, 9, ()}\n",
      "\"c\" intersection \"a\" : set()\n",
      "\"c\" difference \"a\" : {()}\n",
      "\"c\" symmetric_difference \"a\" : {1, 3, 5, 7, 9, ()}\n",
      "\n",
      "\"c\" union \"b\" : {1, 2, 6, 7, 8, ()}\n",
      "\"c\" intersection \"b\" : set()\n",
      "\"c\" difference \"b\" : {()}\n",
      "\"c\" symmetric_difference \"b\" : {1, 2, 6, 7, 8, ()}\n",
      "\n"
     ]
    }
   ],
   "source": [
    "for n1 in a,b,c:\n",
    "    for n2 in a,b,c:\n",
    "        if n1 != n2:\n",
    "            print(f'\"{n1[1]}\" union \"{n2[1]}\" : {n1[0].union(n2[0])}')\n",
    "            print(f'\"{n1[1]}\" intersection \"{n2[1]}\" : {n1[0].intersection(n2[0])}')\n",
    "            print(f'\"{n1[1]}\" difference \"{n2[1]}\" : {n1[0].difference(n2[0])}')\n",
    "            print(f'\"{n1[1]}\" symmetric_difference \"{n2[1]}\" : {n1[0].symmetric_difference(n2[0])}\\n')"
   ]
  },
  {
   "cell_type": "markdown",
   "metadata": {},
   "source": [
    "### Тема 3 “Последовательность”"
   ]
  },
  {
   "cell_type": "markdown",
   "metadata": {},
   "source": [
    "1.\tДаны 4 последовательности. Необходимо:\r\n",
    "\r\n",
    "a.\tисследовать их на монотонность; \r\n",
    "\r\n",
    "b.\tисследовать на ограниченность;\r\n",
    "\r\n",
    "c.\tнайти пятый по счету член."
   ]
  },
  {
   "cell_type": "code",
   "execution_count": 22,
   "metadata": {},
   "outputs": [
    {
     "data": {
      "text/plain": [
       "[1, 2, 5, 12, 27, 58, 121, 248, 503]"
      ]
     },
     "execution_count": 22,
     "metadata": {},
     "output_type": "execute_result"
    }
   ],
   "source": [
    "a = [2**n - n for n in nums]\r\n",
    "a"
   ]
  },
  {
   "cell_type": "code",
   "execution_count": 23,
   "metadata": {},
   "outputs": [
    {
     "data": {
      "text/plain": [
       "[-1.0,\n",
       " -0.5,\n",
       " -0.3333333333333333,\n",
       " -0.25,\n",
       " -0.2,\n",
       " -0.16666666666666666,\n",
       " -0.14285714285714285,\n",
       " -0.125]"
      ]
     },
     "execution_count": 23,
     "metadata": {},
     "output_type": "execute_result"
    }
   ],
   "source": [
    "b = [1/(1 - n) for n in nums[1:]]\r\n",
    "b"
   ]
  },
  {
   "cell_type": "code",
   "execution_count": 24,
   "metadata": {},
   "outputs": [
    {
     "data": {
      "text/plain": [
       "[0.41421356237309515,\n",
       " 1.0,\n",
       " 1.4494897427831779,\n",
       " 1.8284271247461903,\n",
       " 2.1622776601683795,\n",
       " 2.4641016151377544,\n",
       " 2.7416573867739413,\n",
       " 3.0,\n",
       " 3.2426406871192848]"
      ]
     },
     "execution_count": 24,
     "metadata": {},
     "output_type": "execute_result"
    }
   ],
   "source": [
    "c = [-1**n + np.sqrt(2*n) for n in nums]\r\n",
    "c"
   ]
  },
  {
   "cell_type": "code",
   "execution_count": 25,
   "metadata": {},
   "outputs": [
    {
     "data": {
      "text/plain": [
       "[2.0,\n",
       " 1.25,\n",
       " 1.1111111111111112,\n",
       " 1.0625,\n",
       " 1.04,\n",
       " 1.0277777777777777,\n",
       " 1.0204081632653061,\n",
       " 1.015625,\n",
       " 1.0123456790123457]"
      ]
     },
     "execution_count": 25,
     "metadata": {},
     "output_type": "execute_result"
    }
   ],
   "source": [
    "d = [(-1)**(2*n) + 1/(n**2) for n in nums]\r\n",
    "d"
   ]
  },
  {
   "cell_type": "code",
   "execution_count": 26,
   "metadata": {},
   "outputs": [],
   "source": [
    "def monotone(sequence, name):\r\n",
    "    '''исследование монотонности'''   \r\n",
    "    conclution = []\r\n",
    "    for n in range(len(sequence)-1):\r\n",
    "        \r\n",
    "        if sequence[n] < sequence[n+1]:\r\n",
    "            result = 'Возрастает'\r\n",
    "            conclution.append(result) if result not in conclution else None\r\n",
    "            \r\n",
    "        elif sequence[n] > sequence[n+1]:\r\n",
    "            result = 'Убывает'\r\n",
    "            conclution.append(result) if result not in conclution else None\r\n",
    "            \r\n",
    "        elif sequence[n] <= sequence[n+1]:\r\n",
    "            result = 'Невозрастает'\r\n",
    "            conclution.append(result) if result not in conclution else None\r\n",
    "            \r\n",
    "        elif sequence[n] >= sequence[n+1]:\r\n",
    "            result = 'Неубывает'\r\n",
    "            conclution.append(result) if result not in conclution else None\r\n",
    "            \r\n",
    "    print(f'{name}: {conclution[0]}')"
   ]
  },
  {
   "cell_type": "code",
   "execution_count": 27,
   "metadata": {},
   "outputs": [],
   "source": [
    "def limitation(sequence, name):\r\n",
    "    '''исследование ограниченности'''\r\n",
    "   \r\n",
    "    conclution = []\r\n",
    "    for n in range(len(sequence)-1):\r\n",
    "        if sequence[n] and sequence[n+1] < 0:\r\n",
    "            result = (sequence[n+1] - sequence[n]) * (-1)\r\n",
    "            conclution.append(result) if result not in conclution else None\r\n",
    "        else:\r\n",
    "            result = sequence[n+1] - sequence[n]\r\n",
    "            conclution.append(result) if result not in conclution else None\r\n",
    "    \r\n",
    "    if conclution[0] < 0:\r\n",
    "        print(f'{name}: Ограничена')\r\n",
    "    else:\r\n",
    "        print(f'{name}: Неограничена')"
   ]
  },
  {
   "cell_type": "code",
   "execution_count": 28,
   "metadata": {},
   "outputs": [],
   "source": [
    "def fifth_member(sequence, name):\r\n",
    "    '''поиск пятого члена посследовательности'''\r\n",
    "    \r\n",
    "    print(f'5й член посследовательности {name}: {sequence[4]}')"
   ]
  },
  {
   "cell_type": "code",
   "execution_count": 29,
   "metadata": {},
   "outputs": [
    {
     "name": "stdout",
     "output_type": "stream",
     "text": [
      "a: Возрастает\n",
      "b: Возрастает\n",
      "c: Возрастает\n",
      "d: Убывает\n"
     ]
    }
   ],
   "source": [
    "monotone(a, \"a\")\r\n",
    "monotone(b, \"b\")\r\n",
    "monotone(c, \"c\")\r\n",
    "monotone(d, \"d\")"
   ]
  },
  {
   "cell_type": "code",
   "execution_count": 30,
   "metadata": {},
   "outputs": [
    {
     "name": "stdout",
     "output_type": "stream",
     "text": [
      "a: Неограничена\n",
      "b: Ограничена\n",
      "c: Неограничена\n",
      "d: Ограничена\n"
     ]
    }
   ],
   "source": [
    "limitation(a, \"a\")\r\n",
    "limitation(b, \"b\")\r\n",
    "limitation(c, \"c\")\r\n",
    "limitation(d, \"d\")"
   ]
  },
  {
   "cell_type": "code",
   "execution_count": 31,
   "metadata": {},
   "outputs": [
    {
     "name": "stdout",
     "output_type": "stream",
     "text": [
      "5й член посследовательности a: 27\n",
      "5й член посследовательности b: -0.2\n",
      "5й член посследовательности c: 2.1622776601683795\n",
      "5й член посследовательности d: 1.04\n"
     ]
    }
   ],
   "source": [
    "fifth_member(a, \"a\")\r\n",
    "fifth_member(b, \"b\")\r\n",
    "fifth_member(c, \"c\")\r\n",
    "fifth_member(d, \"d\")"
   ]
  },
  {
   "cell_type": "markdown",
   "metadata": {},
   "source": [
    "2.\tНайти 12-й член заданной неявно последовательности"
   ]
  },
  {
   "cell_type": "markdown",
   "metadata": {},
   "source": [
    "$a_{n+1} = a_n + 6$\r\n",
    "\r\n",
    "$a_{1+1} = 128 + 6 = 134$\r\n",
    "\r\n",
    "$a_2 = 134$\r\n",
    "\r\n",
    "$a_{1 + 11} = 128 + 6*11 = 128 + 66 = 194$\r\n",
    "\r\n",
    "$a_{12} = 194$"
   ]
  }
 ],
 "metadata": {
  "interpreter": {
   "hash": "b3ba2566441a7c06988d0923437866b63cedc61552a5af99d1f4fb67d367b25f"
  },
  "kernelspec": {
   "display_name": "Python 3.8.8 64-bit ('base': conda)",
   "name": "python3"
  },
  "language_info": {
   "codemirror_mode": {
    "name": "ipython",
    "version": 3
   },
   "file_extension": ".py",
   "mimetype": "text/x-python",
   "name": "python",
   "nbconvert_exporter": "python",
   "pygments_lexer": "ipython3",
   "version": "3.8.8"
  }
 },
 "nbformat": 4,
 "nbformat_minor": 2
}