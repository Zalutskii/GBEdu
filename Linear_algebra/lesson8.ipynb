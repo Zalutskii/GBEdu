{
 "cells": [
  {
   "cell_type": "markdown",
   "source": [
    "### Задание 1\n",
    "Найти с помощью NumPy SVD для матрицы\n",
    "\n",
    "$$\\begin{pmatrix}\n",
    "1 & 2 & 0\\\\\n",
    "0 & 0 & 5\\\\\n",
    "3 & -4 & 2\\\\\n",
    "1 & 6 & 5\\\\\n",
    "0 & 1 & 0\n",
    "\\end{pmatrix}.$$"
   ],
   "metadata": {
    "collapsed": true,
    "pycharm": {
     "name": "#%% md\n"
    }
   }
  },
  {
   "cell_type": "code",
   "execution_count": 1,
   "source": [
    "import math\r\n",
    "import numpy as np\r\n",
    "np.set_printoptions(precision=2, suppress=True)\r\n",
    "\r\n",
    "A = np.array([[1, 2, 0],\r\n",
    "              [0, 0, 5],\r\n",
    "              [3, -4, 2],\r\n",
    "              [1, 6, 5],\r\n",
    "              [0, 1, 0]])\r\n",
    "print(f'Матрица A:\\n{A}')\r\n",
    "\r\n",
    "U, s, W = np.linalg.svd(A)\r\n",
    "\r\n",
    "V = W.T\r\n",
    "\r\n",
    "D = np.zeros_like(A, dtype=float)\r\n",
    "D[np.diag_indices(min(A.shape))] = s\r\n",
    "\r\n",
    "print(f'Матрица D:\\n{D}')\r\n",
    "print(f'Матрица U:\\n{U}')\r\n",
    "print(f'Матрица V:\\n{V}')\r\n",
    "\r\n",
    "# Проверка\r\n",
    "print(np.dot(np.dot(U, D), V.T))"
   ],
   "outputs": [
    {
     "output_type": "stream",
     "name": "stdout",
     "text": [
      "Матрица A:\n",
      "[[ 1  2  0]\n",
      " [ 0  0  5]\n",
      " [ 3 -4  2]\n",
      " [ 1  6  5]\n",
      " [ 0  1  0]]\n",
      "Матрица D:\n",
      "[[8.82 0.   0.  ]\n",
      " [0.   6.14 0.  ]\n",
      " [0.   0.   2.53]\n",
      " [0.   0.   0.  ]\n",
      " [0.   0.   0.  ]]\n",
      "Матрица U:\n",
      "[[ 0.17  0.16 -0.53 -0.8  -0.16]\n",
      " [ 0.39 -0.53  0.61 -0.43  0.03]\n",
      " [-0.14 -0.82 -0.52  0.14  0.07]\n",
      " [ 0.89  0.06 -0.25  0.38 -0.06]\n",
      " [ 0.08  0.11 -0.08 -0.11  0.98]]\n",
      "Матрица V:\n",
      "[[ 0.07 -0.37 -0.93]\n",
      " [ 0.72  0.67 -0.21]\n",
      " [ 0.69 -0.65  0.31]]\n",
      "[[ 1.  2. -0.]\n",
      " [-0.  0.  5.]\n",
      " [ 3. -4.  2.]\n",
      " [ 1.  6.  5.]\n",
      " [ 0.  1.  0.]]\n"
     ]
    }
   ],
   "metadata": {
    "collapsed": false,
    "pycharm": {
     "name": "#%%\n"
    }
   }
  },
  {
   "cell_type": "markdown",
   "source": [
    "### Задание 2\r\n",
    "Для матрицы из предыдущего задания найти: \r\n",
    "\r\n",
    "а) евклидову норму; \r\n",
    "\r\n",
    ") норму Фробениуса."
   ],
   "metadata": {
    "collapsed": false,
    "pycharm": {
     "name": "#%% md\n"
    }
   }
  },
  {
   "cell_type": "code",
   "execution_count": 2,
   "source": [
    "print(f'Сингулярные числа: {s}')\r\n",
    "print(f'Евклидова норма: {max(s)}')\r\n",
    "\r\n",
    "sum_kv = 0\r\n",
    "for num in s:\r\n",
    "    sum_kv += num**2\r\n",
    "print(f'норма Фробениуса: {math.sqrt(sum_kv)}')"
   ],
   "outputs": [
    {
     "output_type": "stream",
     "name": "stdout",
     "text": [
      "Сингулярные числа: [8.82 6.14 2.53]\n",
      "Евклидова норма: 8.824868854820448\n",
      "норма Фробениуса: 11.045361017187265\n"
     ]
    }
   ],
   "metadata": {
    "collapsed": false,
    "pycharm": {
     "name": "#%%\n"
    }
   }
  },
  {
   "cell_type": "code",
   "execution_count": null,
   "source": [],
   "outputs": [],
   "metadata": {}
  }
 ],
 "metadata": {
  "kernelspec": {
   "name": "python3",
   "display_name": "Python 3.8.8 64-bit ('base': conda)"
  },
  "language_info": {
   "name": "python",
   "version": "3.8.8",
   "mimetype": "text/x-python",
   "codemirror_mode": {
    "name": "ipython",
    "version": 3
   },
   "pygments_lexer": "ipython3",
   "nbconvert_exporter": "python",
   "file_extension": ".py"
  },
  "interpreter": {
   "hash": "b3ba2566441a7c06988d0923437866b63cedc61552a5af99d1f4fb67d367b25f"
  }
 },
 "nbformat": 4,
 "nbformat_minor": 2
}